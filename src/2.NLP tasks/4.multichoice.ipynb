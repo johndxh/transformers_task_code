{
 "cells": [
  {
   "cell_type": "markdown",
   "id": "4365611b",
   "metadata": {},
   "source": [
    "# 多项选择"
   ]
  },
  {
   "cell_type": "code",
   "execution_count": 1,
   "id": "9a0eefb2",
   "metadata": {},
   "outputs": [],
   "source": [
    "import torch \n",
    "import evaluate\n",
    "\n",
    "from datasets import DatasetDict\n",
    "from transformers import AutoTokenizer, AutoModelForMultipleChoice, Trainer, TrainingArguments, DefaultDataCollator"
   ]
  },
  {
   "cell_type": "code",
   "execution_count": null,
   "id": "3b5a6f08",
   "metadata": {},
   "outputs": [],
   "source": [
    "dataset = DatasetDict.load_from_disk(\"../../datas/c3\")"
   ]
  },
  {
   "cell_type": "code",
   "execution_count": 3,
   "id": "047be5ce",
   "metadata": {},
   "outputs": [
    {
     "data": {
      "text/plain": [
       "Dataset({\n",
       "    features: ['id', 'context', 'question', 'choice', 'answer'],\n",
       "    num_rows: 1625\n",
       "})"
      ]
     },
     "execution_count": 3,
     "metadata": {},
     "output_type": "execute_result"
    }
   ],
   "source": [
    "dataset.pop(\"test\")"
   ]
  },
  {
   "cell_type": "code",
   "execution_count": 4,
   "id": "f4a7fa79",
   "metadata": {},
   "outputs": [],
   "source": [
    "tokenizer = AutoTokenizer.from_pretrained(\"models/macbert-base\")"
   ]
  },
  {
   "cell_type": "code",
   "execution_count": 5,
   "id": "96601a3b",
   "metadata": {},
   "outputs": [],
   "source": [
    "def process_func(examples):\n",
    "    context_list = []\n",
    "    qa_list = []\n",
    "    labels = []\n",
    "\n",
    "    for idx in range(len(examples[\"context\"])):\n",
    "        question = examples[\"question\"][idx]\n",
    "        context = \"\\n\".join(examples[\"context\"][idx])\n",
    "        choices = examples[\"choice\"][idx]\n",
    "\n",
    "        # 构建QA对\n",
    "        for choice in choices:\n",
    "            context_list.append(context)\n",
    "            qa_list.append(question + \" \" + choice)\n",
    "        if len(choices) < 4:\n",
    "            for _ in range(4 - len(choices)):\n",
    "                context_list.append(context)\n",
    "                qa_list.append(question + \" \" + \"未知\")\n",
    "\n",
    "        # 指定Answer的index\n",
    "        labels.append(choices.index(examples[\"answer\"][idx]))\n",
    "\n",
    "    inputs = tokenizer(\n",
    "        context_list, \n",
    "        qa_list,\n",
    "        max_length=384,\n",
    "        padding=True,\n",
    "        truncation=\"only_first\")\n",
    "\n",
    "    inputs = {k: [v[i: i + 4] for i in range(0, len(v), 4)]\n",
    "              for k, v in inputs.items()}\n",
    "\n",
    "    inputs[\"labels\"] = labels\n",
    "    return inputs"
   ]
  },
  {
   "cell_type": "code",
   "execution_count": 6,
   "id": "420c4da6",
   "metadata": {},
   "outputs": [
    {
     "data": {
      "application/vnd.jupyter.widget-view+json": {
       "model_id": "1a03fc7bd45545b6887dae8daf942d8a",
       "version_major": 2,
       "version_minor": 0
      },
      "text/plain": [
       "Map:   0%|          | 0/11869 [00:00<?, ? examples/s]"
      ]
     },
     "metadata": {},
     "output_type": "display_data"
    },
    {
     "data": {
      "application/vnd.jupyter.widget-view+json": {
       "model_id": "e3211815070f4adeae02dacddb354189",
       "version_major": 2,
       "version_minor": 0
      },
      "text/plain": [
       "Map:   0%|          | 0/3816 [00:00<?, ? examples/s]"
      ]
     },
     "metadata": {},
     "output_type": "display_data"
    }
   ],
   "source": [
    "tokenized_data = dataset.map(process_func, batched=True, remove_columns=dataset[\"train\"].column_names)"
   ]
  },
  {
   "cell_type": "code",
   "execution_count": 7,
   "id": "ceae28f3",
   "metadata": {},
   "outputs": [
    {
     "name": "stderr",
     "output_type": "stream",
     "text": [
      "Some weights of BertForMultipleChoice were not initialized from the model checkpoint at models/macbert-base and are newly initialized: ['classifier.bias', 'classifier.weight']\n",
      "You should probably TRAIN this model on a down-stream task to be able to use it for predictions and inference.\n"
     ]
    }
   ],
   "source": [
    "model = AutoModelForMultipleChoice.from_pretrained(\"models/macbert-base\")"
   ]
  },
  {
   "cell_type": "code",
   "execution_count": null,
   "id": "a171a1bb",
   "metadata": {},
   "outputs": [],
   "source": [
    "accuracy = evaluate.load(\"metric_accuracy.py\")\n",
    "\n",
    "def compute_metrics(pred):\n",
    "    preds, labels = pred\n",
    "    predictions = preds.argmax(axis=-1)\n",
    "    return accuracy.compute(\n",
    "        predictions=predictions,\n",
    "        references=labels\n",
    "    )"
   ]
  },
  {
   "cell_type": "code",
   "execution_count": 11,
   "id": "49819786",
   "metadata": {},
   "outputs": [],
   "source": [
    "args = TrainingArguments(\n",
    "    output_dir=\"trained/model_for_multichoice\",\n",
    "    per_device_train_batch_size=32,\n",
    "    per_device_eval_batch_size=32,\n",
    "    optim=\"adafactor\",\n",
    "    eval_steps=200,\n",
    "    eval_strategy=\"steps\",\n",
    "    save_strategy=\"steps\",\n",
    "    save_steps=200,\n",
    "    save_total_limit=3,\n",
    "    num_train_epochs=1,\n",
    "    load_best_model_at_end=True,\n",
    "    fp16=True,\n",
    "    logging_steps=200\n",
    ")"
   ]
  },
  {
   "cell_type": "code",
   "execution_count": 12,
   "id": "445dcba7",
   "metadata": {},
   "outputs": [],
   "source": [
    "trainer = Trainer(\n",
    "    args=args,\n",
    "    model=model,\n",
    "    train_dataset=tokenized_data[\"train\"],\n",
    "    eval_dataset=tokenized_data[\"validation\"],\n",
    "    data_collator=DefaultDataCollator(),\n",
    "    compute_metrics=compute_metrics\n",
    ")"
   ]
  },
  {
   "cell_type": "code",
   "execution_count": 14,
   "id": "715e7f61",
   "metadata": {},
   "outputs": [
    {
     "data": {
      "text/html": [
       "\n",
       "    <div>\n",
       "      \n",
       "      <progress value='371' max='371' style='width:300px; height:20px; vertical-align: middle;'></progress>\n",
       "      [371/371 03:33, Epoch 1/1]\n",
       "    </div>\n",
       "    <table border=\"1\" class=\"dataframe\">\n",
       "  <thead>\n",
       " <tr style=\"text-align: left;\">\n",
       "      <th>Step</th>\n",
       "      <th>Training Loss</th>\n",
       "      <th>Validation Loss</th>\n",
       "      <th>Model Preparation Time</th>\n",
       "      <th>Accuracy</th>\n",
       "    </tr>\n",
       "  </thead>\n",
       "  <tbody>\n",
       "    <tr>\n",
       "      <td>200</td>\n",
       "      <td>1.117700</td>\n",
       "      <td>0.951555</td>\n",
       "      <td>0.006100</td>\n",
       "      <td>0.579140</td>\n",
       "    </tr>\n",
       "  </tbody>\n",
       "</table><p>"
      ],
      "text/plain": [
       "<IPython.core.display.HTML object>"
      ]
     },
     "metadata": {},
     "output_type": "display_data"
    },
    {
     "data": {
      "text/plain": [
       "TrainOutput(global_step=371, training_loss=1.044719356732227, metrics={'train_runtime': 214.5942, 'train_samples_per_second': 55.309, 'train_steps_per_second': 1.729, 'total_flos': 9368511231366144.0, 'train_loss': 1.044719356732227, 'epoch': 1.0})"
      ]
     },
     "execution_count": 14,
     "metadata": {},
     "output_type": "execute_result"
    }
   ],
   "source": [
    "trainer.train()"
   ]
  },
  {
   "cell_type": "code",
   "execution_count": null,
   "id": "0cd450d7",
   "metadata": {},
   "outputs": [],
   "source": [
    "class MultiChoicePipeline:\n",
    "    def __init__(self, model, tokenizer):\n",
    "        self.model = model\n",
    "        self.tokenizer = tokenizer\n",
    "        self.device = model.device\n",
    "\n",
    "    def preprocess(self, context, question, choices):\n",
    "        context_list = []\n",
    "        qa_list = []\n",
    "        for choice in choices:\n",
    "            qa_list.append(question + \" \" + choice)\n",
    "            context_list.append(context)\n",
    "        inputs = tokenizer(context_list, qa_list, max_length=384, truncation=\"only_first\", return_tensors=\"pt\")\n",
    "        return inputs\n",
    "\n",
    "    def predict(self, tokens):\n",
    "        inputs = {\n",
    "            k: v.unsqueeze(0).to(self.device) # 由[num_choice, seq_len] -> [batch_size, num_choice, seq_len] 匹配模型输入\n",
    "            for k, v in tokens.items()\n",
    "        }\n",
    "        return self.model(**inputs).logits\n",
    "\n",
    "    def postprocess(self, logits, choices):\n",
    "        idx = logits.argmax(dim=-1).cpu().item()\n",
    "        return choices[idx]\n",
    "\n",
    "    def __call__(self, context, question, choices):\n",
    "        tokens = self.preprocess(context, question, choices)\n",
    "        logits = self.predict(tokens)\n",
    "        result = self.postprocess(logits, choices)\n",
    "        return result"
   ]
  },
  {
   "cell_type": "code",
   "execution_count": 28,
   "id": "b0543dbe",
   "metadata": {},
   "outputs": [],
   "source": [
    "pipe = MultiChoicePipeline(model, tokenizer)"
   ]
  },
  {
   "cell_type": "code",
   "execution_count": 29,
   "id": "6e44527b",
   "metadata": {},
   "outputs": [
    {
     "data": {
      "text/plain": [
       "'北京'"
      ]
     },
     "execution_count": 29,
     "metadata": {},
     "output_type": "execute_result"
    }
   ],
   "source": [
    "pipe(\"小明在北京上班\", \"小明在哪里上班？\", [\"北京\", \"上海\", \"河北\", \"海南\", \"河北\", \"海南\"])"
   ]
  },
  {
   "cell_type": "code",
   "execution_count": null,
   "id": "b6a91dca",
   "metadata": {},
   "outputs": [],
   "source": []
  }
 ],
 "metadata": {
  "kernelspec": {
   "display_name": "pytorch",
   "language": "python",
   "name": "python3"
  },
  "language_info": {
   "codemirror_mode": {
    "name": "ipython",
    "version": 3
   },
   "file_extension": ".py",
   "mimetype": "text/x-python",
   "name": "python",
   "nbconvert_exporter": "python",
   "pygments_lexer": "ipython3",
   "version": "3.12.7"
  }
 },
 "nbformat": 4,
 "nbformat_minor": 5
}
