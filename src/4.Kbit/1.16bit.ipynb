{
 "cells": [
  {
   "cell_type": "markdown",
   "id": "bdde5916",
   "metadata": {},
   "source": [
    "# llama2 16bit\n",
    "\n",
    "model = xxx.from_pretrained(torch_dtype=torch.half) \n",
    "or\n",
    "model = model.half()"
   ]
  },
  {
   "cell_type": "code",
   "execution_count": 1,
   "id": "174fe530",
   "metadata": {},
   "outputs": [],
   "source": [
    "import torch\n",
    "\n",
    "from datasets import Dataset\n",
    "from transformers import AutoTokenizer, AutoModelForCausalLM, Trainer, TrainingArguments, DataCollatorForSeq2Seq"
   ]
  },
  {
   "cell_type": "code",
   "execution_count": 2,
   "id": "773e4429",
   "metadata": {},
   "outputs": [],
   "source": [
    "dataset = Dataset.load_from_disk(\"datas/alpaca_data_zh\")"
   ]
  },
  {
   "cell_type": "code",
   "execution_count": 3,
   "id": "7f9fc2eb",
   "metadata": {},
   "outputs": [],
   "source": [
    "tokenizer = AutoTokenizer.from_pretrained(\"/root/autodl-tmp/models/Llama-2-7b-ms\")"
   ]
  },
  {
   "cell_type": "code",
   "execution_count": 4,
   "id": "ad5d0059",
   "metadata": {},
   "outputs": [],
   "source": [
    "tokenizer.padding_side = \"right\""
   ]
  },
  {
   "cell_type": "code",
   "execution_count": null,
   "id": "234f1cba",
   "metadata": {},
   "outputs": [],
   "source": [
    "def process_func(example):\n",
    "    MAX_LENGTH = 512\n",
    "\n",
    "    instruction = \"\\n\".join([\"Human: \" + example[\"instruction\"], example[\"input\"]]).strip() + \"\\n\\nAssistant: \"\n",
    "    inputs = tokenizer(instruction, add_special_tokens=False)\n",
    "    response = tokenizer(example[\"output\"], add_special_tokens=False)\n",
    "    input_ids = inputs[\"input_ids\"] + response[\"input_ids\"] + [tokenizer.eos_token_id]\n",
    "    attention_mask = inputs[\"attention_mask\"] + response[\"attention_mask\"] + [1]\n",
    "    labels = [-100] * len(inputs[\"input_ids\"]) + response[\"input_ids\"] + [tokenizer.eos_token_id]\n",
    "\n",
    "    if len(input_ids) > MAX_LENGTH:\n",
    "        input_ids = input_ids[:MAX_LENGTH]\n",
    "        attention_mask = attention_mask[:MAX_LENGTH]\n",
    "        labels = labels[:MAX_LENGTH]\n",
    "\n",
    "    return {\n",
    "        \"input_ids\": input_ids,\n",
    "        \"attention_mask\": attention_mask,\n",
    "        \"labels\": labels,\n",
    "    }"
   ]
  },
  {
   "cell_type": "code",
   "execution_count": 6,
   "id": "acb0d521",
   "metadata": {},
   "outputs": [],
   "source": [
    "tokenized_data = dataset.map(process_func, remove_columns=dataset.column_names)"
   ]
  },
  {
   "cell_type": "code",
   "execution_count": 7,
   "id": "36ad6387",
   "metadata": {},
   "outputs": [
    {
     "data": {
      "application/vnd.jupyter.widget-view+json": {
       "model_id": "577c278f1cc94a0882e614312dcd141d",
       "version_major": 2,
       "version_minor": 0
      },
      "text/plain": [
       "Loading checkpoint shards:   0%|          | 0/2 [00:00<?, ?it/s]"
      ]
     },
     "metadata": {},
     "output_type": "display_data"
    },
    {
     "name": "stderr",
     "output_type": "stream",
     "text": [
      "The following generation flags are not valid and may be ignored: ['temperature', 'top_p']. Set `TRANSFORMERS_VERBOSITY=info` for more details.\n",
      "The following generation flags are not valid and may be ignored: ['temperature', 'top_p']. Set `TRANSFORMERS_VERBOSITY=info` for more details.\n"
     ]
    }
   ],
   "source": [
    "model = AutoModelForCausalLM.from_pretrained(\"/root/autodl-tmp/models/Llama-2-7b-ms\", torch_dtype=torch.half, device_map=\"auto\")"
   ]
  },
  {
   "cell_type": "code",
   "execution_count": 8,
   "id": "e5349135",
   "metadata": {},
   "outputs": [
    {
     "name": "stdout",
     "output_type": "stream",
     "text": [
      "model.embed_tokens.weight torch.float16\n",
      "model.layers.0.self_attn.q_proj.weight torch.float16\n",
      "model.layers.0.self_attn.k_proj.weight torch.float16\n",
      "model.layers.0.self_attn.v_proj.weight torch.float16\n",
      "model.layers.0.self_attn.o_proj.weight torch.float16\n",
      "model.layers.0.mlp.gate_proj.weight torch.float16\n",
      "model.layers.0.mlp.up_proj.weight torch.float16\n",
      "model.layers.0.mlp.down_proj.weight torch.float16\n",
      "model.layers.0.input_layernorm.weight torch.float16\n",
      "model.layers.0.post_attention_layernorm.weight torch.float16\n",
      "model.layers.1.self_attn.q_proj.weight torch.float16\n",
      "model.layers.1.self_attn.k_proj.weight torch.float16\n",
      "model.layers.1.self_attn.v_proj.weight torch.float16\n",
      "model.layers.1.self_attn.o_proj.weight torch.float16\n",
      "model.layers.1.mlp.gate_proj.weight torch.float16\n",
      "model.layers.1.mlp.up_proj.weight torch.float16\n",
      "model.layers.1.mlp.down_proj.weight torch.float16\n",
      "model.layers.1.input_layernorm.weight torch.float16\n",
      "model.layers.1.post_attention_layernorm.weight torch.float16\n",
      "model.layers.2.self_attn.q_proj.weight torch.float16\n",
      "model.layers.2.self_attn.k_proj.weight torch.float16\n",
      "model.layers.2.self_attn.v_proj.weight torch.float16\n",
      "model.layers.2.self_attn.o_proj.weight torch.float16\n",
      "model.layers.2.mlp.gate_proj.weight torch.float16\n",
      "model.layers.2.mlp.up_proj.weight torch.float16\n",
      "model.layers.2.mlp.down_proj.weight torch.float16\n",
      "model.layers.2.input_layernorm.weight torch.float16\n",
      "model.layers.2.post_attention_layernorm.weight torch.float16\n",
      "model.layers.3.self_attn.q_proj.weight torch.float16\n",
      "model.layers.3.self_attn.k_proj.weight torch.float16\n",
      "model.layers.3.self_attn.v_proj.weight torch.float16\n",
      "model.layers.3.self_attn.o_proj.weight torch.float16\n",
      "model.layers.3.mlp.gate_proj.weight torch.float16\n",
      "model.layers.3.mlp.up_proj.weight torch.float16\n",
      "model.layers.3.mlp.down_proj.weight torch.float16\n",
      "model.layers.3.input_layernorm.weight torch.float16\n",
      "model.layers.3.post_attention_layernorm.weight torch.float16\n",
      "model.layers.4.self_attn.q_proj.weight torch.float16\n",
      "model.layers.4.self_attn.k_proj.weight torch.float16\n",
      "model.layers.4.self_attn.v_proj.weight torch.float16\n",
      "model.layers.4.self_attn.o_proj.weight torch.float16\n",
      "model.layers.4.mlp.gate_proj.weight torch.float16\n",
      "model.layers.4.mlp.up_proj.weight torch.float16\n",
      "model.layers.4.mlp.down_proj.weight torch.float16\n",
      "model.layers.4.input_layernorm.weight torch.float16\n",
      "model.layers.4.post_attention_layernorm.weight torch.float16\n",
      "model.layers.5.self_attn.q_proj.weight torch.float16\n",
      "model.layers.5.self_attn.k_proj.weight torch.float16\n",
      "model.layers.5.self_attn.v_proj.weight torch.float16\n",
      "model.layers.5.self_attn.o_proj.weight torch.float16\n",
      "model.layers.5.mlp.gate_proj.weight torch.float16\n",
      "model.layers.5.mlp.up_proj.weight torch.float16\n",
      "model.layers.5.mlp.down_proj.weight torch.float16\n",
      "model.layers.5.input_layernorm.weight torch.float16\n",
      "model.layers.5.post_attention_layernorm.weight torch.float16\n",
      "model.layers.6.self_attn.q_proj.weight torch.float16\n",
      "model.layers.6.self_attn.k_proj.weight torch.float16\n",
      "model.layers.6.self_attn.v_proj.weight torch.float16\n",
      "model.layers.6.self_attn.o_proj.weight torch.float16\n",
      "model.layers.6.mlp.gate_proj.weight torch.float16\n",
      "model.layers.6.mlp.up_proj.weight torch.float16\n",
      "model.layers.6.mlp.down_proj.weight torch.float16\n",
      "model.layers.6.input_layernorm.weight torch.float16\n",
      "model.layers.6.post_attention_layernorm.weight torch.float16\n",
      "model.layers.7.self_attn.q_proj.weight torch.float16\n",
      "model.layers.7.self_attn.k_proj.weight torch.float16\n",
      "model.layers.7.self_attn.v_proj.weight torch.float16\n",
      "model.layers.7.self_attn.o_proj.weight torch.float16\n",
      "model.layers.7.mlp.gate_proj.weight torch.float16\n",
      "model.layers.7.mlp.up_proj.weight torch.float16\n",
      "model.layers.7.mlp.down_proj.weight torch.float16\n",
      "model.layers.7.input_layernorm.weight torch.float16\n",
      "model.layers.7.post_attention_layernorm.weight torch.float16\n",
      "model.layers.8.self_attn.q_proj.weight torch.float16\n",
      "model.layers.8.self_attn.k_proj.weight torch.float16\n",
      "model.layers.8.self_attn.v_proj.weight torch.float16\n",
      "model.layers.8.self_attn.o_proj.weight torch.float16\n",
      "model.layers.8.mlp.gate_proj.weight torch.float16\n",
      "model.layers.8.mlp.up_proj.weight torch.float16\n",
      "model.layers.8.mlp.down_proj.weight torch.float16\n",
      "model.layers.8.input_layernorm.weight torch.float16\n",
      "model.layers.8.post_attention_layernorm.weight torch.float16\n",
      "model.layers.9.self_attn.q_proj.weight torch.float16\n",
      "model.layers.9.self_attn.k_proj.weight torch.float16\n",
      "model.layers.9.self_attn.v_proj.weight torch.float16\n",
      "model.layers.9.self_attn.o_proj.weight torch.float16\n",
      "model.layers.9.mlp.gate_proj.weight torch.float16\n",
      "model.layers.9.mlp.up_proj.weight torch.float16\n",
      "model.layers.9.mlp.down_proj.weight torch.float16\n",
      "model.layers.9.input_layernorm.weight torch.float16\n",
      "model.layers.9.post_attention_layernorm.weight torch.float16\n",
      "model.layers.10.self_attn.q_proj.weight torch.float16\n",
      "model.layers.10.self_attn.k_proj.weight torch.float16\n",
      "model.layers.10.self_attn.v_proj.weight torch.float16\n",
      "model.layers.10.self_attn.o_proj.weight torch.float16\n",
      "model.layers.10.mlp.gate_proj.weight torch.float16\n",
      "model.layers.10.mlp.up_proj.weight torch.float16\n",
      "model.layers.10.mlp.down_proj.weight torch.float16\n",
      "model.layers.10.input_layernorm.weight torch.float16\n",
      "model.layers.10.post_attention_layernorm.weight torch.float16\n",
      "model.layers.11.self_attn.q_proj.weight torch.float16\n",
      "model.layers.11.self_attn.k_proj.weight torch.float16\n",
      "model.layers.11.self_attn.v_proj.weight torch.float16\n",
      "model.layers.11.self_attn.o_proj.weight torch.float16\n",
      "model.layers.11.mlp.gate_proj.weight torch.float16\n",
      "model.layers.11.mlp.up_proj.weight torch.float16\n",
      "model.layers.11.mlp.down_proj.weight torch.float16\n",
      "model.layers.11.input_layernorm.weight torch.float16\n",
      "model.layers.11.post_attention_layernorm.weight torch.float16\n",
      "model.layers.12.self_attn.q_proj.weight torch.float16\n",
      "model.layers.12.self_attn.k_proj.weight torch.float16\n",
      "model.layers.12.self_attn.v_proj.weight torch.float16\n",
      "model.layers.12.self_attn.o_proj.weight torch.float16\n",
      "model.layers.12.mlp.gate_proj.weight torch.float16\n",
      "model.layers.12.mlp.up_proj.weight torch.float16\n",
      "model.layers.12.mlp.down_proj.weight torch.float16\n",
      "model.layers.12.input_layernorm.weight torch.float16\n",
      "model.layers.12.post_attention_layernorm.weight torch.float16\n",
      "model.layers.13.self_attn.q_proj.weight torch.float16\n",
      "model.layers.13.self_attn.k_proj.weight torch.float16\n",
      "model.layers.13.self_attn.v_proj.weight torch.float16\n",
      "model.layers.13.self_attn.o_proj.weight torch.float16\n",
      "model.layers.13.mlp.gate_proj.weight torch.float16\n",
      "model.layers.13.mlp.up_proj.weight torch.float16\n",
      "model.layers.13.mlp.down_proj.weight torch.float16\n",
      "model.layers.13.input_layernorm.weight torch.float16\n",
      "model.layers.13.post_attention_layernorm.weight torch.float16\n",
      "model.layers.14.self_attn.q_proj.weight torch.float16\n",
      "model.layers.14.self_attn.k_proj.weight torch.float16\n",
      "model.layers.14.self_attn.v_proj.weight torch.float16\n",
      "model.layers.14.self_attn.o_proj.weight torch.float16\n",
      "model.layers.14.mlp.gate_proj.weight torch.float16\n",
      "model.layers.14.mlp.up_proj.weight torch.float16\n",
      "model.layers.14.mlp.down_proj.weight torch.float16\n",
      "model.layers.14.input_layernorm.weight torch.float16\n",
      "model.layers.14.post_attention_layernorm.weight torch.float16\n",
      "model.layers.15.self_attn.q_proj.weight torch.float16\n",
      "model.layers.15.self_attn.k_proj.weight torch.float16\n",
      "model.layers.15.self_attn.v_proj.weight torch.float16\n",
      "model.layers.15.self_attn.o_proj.weight torch.float16\n",
      "model.layers.15.mlp.gate_proj.weight torch.float16\n",
      "model.layers.15.mlp.up_proj.weight torch.float16\n",
      "model.layers.15.mlp.down_proj.weight torch.float16\n",
      "model.layers.15.input_layernorm.weight torch.float16\n",
      "model.layers.15.post_attention_layernorm.weight torch.float16\n",
      "model.layers.16.self_attn.q_proj.weight torch.float16\n",
      "model.layers.16.self_attn.k_proj.weight torch.float16\n",
      "model.layers.16.self_attn.v_proj.weight torch.float16\n",
      "model.layers.16.self_attn.o_proj.weight torch.float16\n",
      "model.layers.16.mlp.gate_proj.weight torch.float16\n",
      "model.layers.16.mlp.up_proj.weight torch.float16\n",
      "model.layers.16.mlp.down_proj.weight torch.float16\n",
      "model.layers.16.input_layernorm.weight torch.float16\n",
      "model.layers.16.post_attention_layernorm.weight torch.float16\n",
      "model.layers.17.self_attn.q_proj.weight torch.float16\n",
      "model.layers.17.self_attn.k_proj.weight torch.float16\n",
      "model.layers.17.self_attn.v_proj.weight torch.float16\n",
      "model.layers.17.self_attn.o_proj.weight torch.float16\n",
      "model.layers.17.mlp.gate_proj.weight torch.float16\n",
      "model.layers.17.mlp.up_proj.weight torch.float16\n",
      "model.layers.17.mlp.down_proj.weight torch.float16\n",
      "model.layers.17.input_layernorm.weight torch.float16\n",
      "model.layers.17.post_attention_layernorm.weight torch.float16\n",
      "model.layers.18.self_attn.q_proj.weight torch.float16\n",
      "model.layers.18.self_attn.k_proj.weight torch.float16\n",
      "model.layers.18.self_attn.v_proj.weight torch.float16\n",
      "model.layers.18.self_attn.o_proj.weight torch.float16\n",
      "model.layers.18.mlp.gate_proj.weight torch.float16\n",
      "model.layers.18.mlp.up_proj.weight torch.float16\n",
      "model.layers.18.mlp.down_proj.weight torch.float16\n",
      "model.layers.18.input_layernorm.weight torch.float16\n",
      "model.layers.18.post_attention_layernorm.weight torch.float16\n",
      "model.layers.19.self_attn.q_proj.weight torch.float16\n",
      "model.layers.19.self_attn.k_proj.weight torch.float16\n",
      "model.layers.19.self_attn.v_proj.weight torch.float16\n",
      "model.layers.19.self_attn.o_proj.weight torch.float16\n",
      "model.layers.19.mlp.gate_proj.weight torch.float16\n",
      "model.layers.19.mlp.up_proj.weight torch.float16\n",
      "model.layers.19.mlp.down_proj.weight torch.float16\n",
      "model.layers.19.input_layernorm.weight torch.float16\n",
      "model.layers.19.post_attention_layernorm.weight torch.float16\n",
      "model.layers.20.self_attn.q_proj.weight torch.float16\n",
      "model.layers.20.self_attn.k_proj.weight torch.float16\n",
      "model.layers.20.self_attn.v_proj.weight torch.float16\n",
      "model.layers.20.self_attn.o_proj.weight torch.float16\n",
      "model.layers.20.mlp.gate_proj.weight torch.float16\n",
      "model.layers.20.mlp.up_proj.weight torch.float16\n",
      "model.layers.20.mlp.down_proj.weight torch.float16\n",
      "model.layers.20.input_layernorm.weight torch.float16\n",
      "model.layers.20.post_attention_layernorm.weight torch.float16\n",
      "model.layers.21.self_attn.q_proj.weight torch.float16\n",
      "model.layers.21.self_attn.k_proj.weight torch.float16\n",
      "model.layers.21.self_attn.v_proj.weight torch.float16\n",
      "model.layers.21.self_attn.o_proj.weight torch.float16\n",
      "model.layers.21.mlp.gate_proj.weight torch.float16\n",
      "model.layers.21.mlp.up_proj.weight torch.float16\n",
      "model.layers.21.mlp.down_proj.weight torch.float16\n",
      "model.layers.21.input_layernorm.weight torch.float16\n",
      "model.layers.21.post_attention_layernorm.weight torch.float16\n",
      "model.layers.22.self_attn.q_proj.weight torch.float16\n",
      "model.layers.22.self_attn.k_proj.weight torch.float16\n",
      "model.layers.22.self_attn.v_proj.weight torch.float16\n",
      "model.layers.22.self_attn.o_proj.weight torch.float16\n",
      "model.layers.22.mlp.gate_proj.weight torch.float16\n",
      "model.layers.22.mlp.up_proj.weight torch.float16\n",
      "model.layers.22.mlp.down_proj.weight torch.float16\n",
      "model.layers.22.input_layernorm.weight torch.float16\n",
      "model.layers.22.post_attention_layernorm.weight torch.float16\n",
      "model.layers.23.self_attn.q_proj.weight torch.float16\n",
      "model.layers.23.self_attn.k_proj.weight torch.float16\n",
      "model.layers.23.self_attn.v_proj.weight torch.float16\n",
      "model.layers.23.self_attn.o_proj.weight torch.float16\n",
      "model.layers.23.mlp.gate_proj.weight torch.float16\n",
      "model.layers.23.mlp.up_proj.weight torch.float16\n",
      "model.layers.23.mlp.down_proj.weight torch.float16\n",
      "model.layers.23.input_layernorm.weight torch.float16\n",
      "model.layers.23.post_attention_layernorm.weight torch.float16\n",
      "model.layers.24.self_attn.q_proj.weight torch.float16\n",
      "model.layers.24.self_attn.k_proj.weight torch.float16\n",
      "model.layers.24.self_attn.v_proj.weight torch.float16\n",
      "model.layers.24.self_attn.o_proj.weight torch.float16\n",
      "model.layers.24.mlp.gate_proj.weight torch.float16\n",
      "model.layers.24.mlp.up_proj.weight torch.float16\n",
      "model.layers.24.mlp.down_proj.weight torch.float16\n",
      "model.layers.24.input_layernorm.weight torch.float16\n",
      "model.layers.24.post_attention_layernorm.weight torch.float16\n",
      "model.layers.25.self_attn.q_proj.weight torch.float16\n",
      "model.layers.25.self_attn.k_proj.weight torch.float16\n",
      "model.layers.25.self_attn.v_proj.weight torch.float16\n",
      "model.layers.25.self_attn.o_proj.weight torch.float16\n",
      "model.layers.25.mlp.gate_proj.weight torch.float16\n",
      "model.layers.25.mlp.up_proj.weight torch.float16\n",
      "model.layers.25.mlp.down_proj.weight torch.float16\n",
      "model.layers.25.input_layernorm.weight torch.float16\n",
      "model.layers.25.post_attention_layernorm.weight torch.float16\n",
      "model.layers.26.self_attn.q_proj.weight torch.float16\n",
      "model.layers.26.self_attn.k_proj.weight torch.float16\n",
      "model.layers.26.self_attn.v_proj.weight torch.float16\n",
      "model.layers.26.self_attn.o_proj.weight torch.float16\n",
      "model.layers.26.mlp.gate_proj.weight torch.float16\n",
      "model.layers.26.mlp.up_proj.weight torch.float16\n",
      "model.layers.26.mlp.down_proj.weight torch.float16\n",
      "model.layers.26.input_layernorm.weight torch.float16\n",
      "model.layers.26.post_attention_layernorm.weight torch.float16\n",
      "model.layers.27.self_attn.q_proj.weight torch.float16\n",
      "model.layers.27.self_attn.k_proj.weight torch.float16\n",
      "model.layers.27.self_attn.v_proj.weight torch.float16\n",
      "model.layers.27.self_attn.o_proj.weight torch.float16\n",
      "model.layers.27.mlp.gate_proj.weight torch.float16\n",
      "model.layers.27.mlp.up_proj.weight torch.float16\n",
      "model.layers.27.mlp.down_proj.weight torch.float16\n",
      "model.layers.27.input_layernorm.weight torch.float16\n",
      "model.layers.27.post_attention_layernorm.weight torch.float16\n",
      "model.layers.28.self_attn.q_proj.weight torch.float16\n",
      "model.layers.28.self_attn.k_proj.weight torch.float16\n",
      "model.layers.28.self_attn.v_proj.weight torch.float16\n",
      "model.layers.28.self_attn.o_proj.weight torch.float16\n",
      "model.layers.28.mlp.gate_proj.weight torch.float16\n",
      "model.layers.28.mlp.up_proj.weight torch.float16\n",
      "model.layers.28.mlp.down_proj.weight torch.float16\n",
      "model.layers.28.input_layernorm.weight torch.float16\n",
      "model.layers.28.post_attention_layernorm.weight torch.float16\n",
      "model.layers.29.self_attn.q_proj.weight torch.float16\n",
      "model.layers.29.self_attn.k_proj.weight torch.float16\n",
      "model.layers.29.self_attn.v_proj.weight torch.float16\n",
      "model.layers.29.self_attn.o_proj.weight torch.float16\n",
      "model.layers.29.mlp.gate_proj.weight torch.float16\n",
      "model.layers.29.mlp.up_proj.weight torch.float16\n",
      "model.layers.29.mlp.down_proj.weight torch.float16\n",
      "model.layers.29.input_layernorm.weight torch.float16\n",
      "model.layers.29.post_attention_layernorm.weight torch.float16\n",
      "model.layers.30.self_attn.q_proj.weight torch.float16\n",
      "model.layers.30.self_attn.k_proj.weight torch.float16\n",
      "model.layers.30.self_attn.v_proj.weight torch.float16\n",
      "model.layers.30.self_attn.o_proj.weight torch.float16\n",
      "model.layers.30.mlp.gate_proj.weight torch.float16\n",
      "model.layers.30.mlp.up_proj.weight torch.float16\n",
      "model.layers.30.mlp.down_proj.weight torch.float16\n",
      "model.layers.30.input_layernorm.weight torch.float16\n",
      "model.layers.30.post_attention_layernorm.weight torch.float16\n",
      "model.layers.31.self_attn.q_proj.weight torch.float16\n",
      "model.layers.31.self_attn.k_proj.weight torch.float16\n",
      "model.layers.31.self_attn.v_proj.weight torch.float16\n",
      "model.layers.31.self_attn.o_proj.weight torch.float16\n",
      "model.layers.31.mlp.gate_proj.weight torch.float16\n",
      "model.layers.31.mlp.up_proj.weight torch.float16\n",
      "model.layers.31.mlp.down_proj.weight torch.float16\n",
      "model.layers.31.input_layernorm.weight torch.float16\n",
      "model.layers.31.post_attention_layernorm.weight torch.float16\n",
      "model.norm.weight torch.float16\n",
      "lm_head.weight torch.float16\n"
     ]
    }
   ],
   "source": [
    "for name, params in model.named_parameters():\n",
    "    print(name, params.dtype)"
   ]
  },
  {
   "cell_type": "code",
   "execution_count": 9,
   "id": "eb68c338",
   "metadata": {},
   "outputs": [],
   "source": [
    "from peft import LoraConfig, TaskType, get_peft_model\n",
    "\n",
    "config = LoraConfig(\n",
    "    task_type=TaskType.CAUSAL_LM,\n",
    ")"
   ]
  },
  {
   "cell_type": "code",
   "execution_count": 10,
   "id": "e2d601ad",
   "metadata": {},
   "outputs": [],
   "source": [
    "model = get_peft_model(model, config)"
   ]
  },
  {
   "cell_type": "code",
   "execution_count": 11,
   "id": "f7f51dc8",
   "metadata": {},
   "outputs": [],
   "source": [
    "model = model.half()"
   ]
  },
  {
   "cell_type": "code",
   "execution_count": 12,
   "id": "cce65610",
   "metadata": {},
   "outputs": [
    {
     "data": {
      "text/plain": [
       "PeftModelForCausalLM(\n",
       "  (base_model): LoraModel(\n",
       "    (model): LlamaForCausalLM(\n",
       "      (model): LlamaModel(\n",
       "        (embed_tokens): Embedding(32000, 4096, padding_idx=0)\n",
       "        (layers): ModuleList(\n",
       "          (0-31): 32 x LlamaDecoderLayer(\n",
       "            (self_attn): LlamaAttention(\n",
       "              (q_proj): lora.Linear(\n",
       "                (base_layer): Linear(in_features=4096, out_features=4096, bias=False)\n",
       "                (lora_dropout): ModuleDict(\n",
       "                  (default): Identity()\n",
       "                )\n",
       "                (lora_A): ModuleDict(\n",
       "                  (default): Linear(in_features=4096, out_features=8, bias=False)\n",
       "                )\n",
       "                (lora_B): ModuleDict(\n",
       "                  (default): Linear(in_features=8, out_features=4096, bias=False)\n",
       "                )\n",
       "                (lora_embedding_A): ParameterDict()\n",
       "                (lora_embedding_B): ParameterDict()\n",
       "                (lora_magnitude_vector): ModuleDict()\n",
       "              )\n",
       "              (k_proj): Linear(in_features=4096, out_features=4096, bias=False)\n",
       "              (v_proj): lora.Linear(\n",
       "                (base_layer): Linear(in_features=4096, out_features=4096, bias=False)\n",
       "                (lora_dropout): ModuleDict(\n",
       "                  (default): Identity()\n",
       "                )\n",
       "                (lora_A): ModuleDict(\n",
       "                  (default): Linear(in_features=4096, out_features=8, bias=False)\n",
       "                )\n",
       "                (lora_B): ModuleDict(\n",
       "                  (default): Linear(in_features=8, out_features=4096, bias=False)\n",
       "                )\n",
       "                (lora_embedding_A): ParameterDict()\n",
       "                (lora_embedding_B): ParameterDict()\n",
       "                (lora_magnitude_vector): ModuleDict()\n",
       "              )\n",
       "              (o_proj): Linear(in_features=4096, out_features=4096, bias=False)\n",
       "            )\n",
       "            (mlp): LlamaMLP(\n",
       "              (gate_proj): Linear(in_features=4096, out_features=11008, bias=False)\n",
       "              (up_proj): Linear(in_features=4096, out_features=11008, bias=False)\n",
       "              (down_proj): Linear(in_features=11008, out_features=4096, bias=False)\n",
       "              (act_fn): SiLU()\n",
       "            )\n",
       "            (input_layernorm): LlamaRMSNorm((4096,), eps=1e-05)\n",
       "            (post_attention_layernorm): LlamaRMSNorm((4096,), eps=1e-05)\n",
       "          )\n",
       "        )\n",
       "        (norm): LlamaRMSNorm((4096,), eps=1e-05)\n",
       "        (rotary_emb): LlamaRotaryEmbedding()\n",
       "      )\n",
       "      (lm_head): Linear(in_features=4096, out_features=32000, bias=False)\n",
       "    )\n",
       "  )\n",
       ")"
      ]
     },
     "execution_count": 12,
     "metadata": {},
     "output_type": "execute_result"
    }
   ],
   "source": [
    "model"
   ]
  },
  {
   "cell_type": "code",
   "execution_count": 13,
   "id": "b82a1d6b",
   "metadata": {},
   "outputs": [
    {
     "name": "stdout",
     "output_type": "stream",
     "text": [
      "trainable params: 4,194,304 || all params: 6,742,609,920 || trainable%: 0.0622\n"
     ]
    }
   ],
   "source": [
    "model.print_trainable_parameters()"
   ]
  },
  {
   "cell_type": "code",
   "execution_count": 14,
   "id": "5e0a9c48",
   "metadata": {},
   "outputs": [],
   "source": [
    "args = TrainingArguments(\n",
    "    output_dir=\"caches/Llama7b-16bit-lora\",\n",
    "    per_device_train_batch_size=1,\n",
    "    gradient_accumulation_steps=16,\n",
    "    logging_steps=50,\n",
    "    num_train_epochs=1,\n",
    "    adam_epsilon=1e-4\n",
    ")"
   ]
  },
  {
   "cell_type": "code",
   "execution_count": 15,
   "id": "ba306cf9",
   "metadata": {},
   "outputs": [
    {
     "name": "stderr",
     "output_type": "stream",
     "text": [
      "/tmp/ipykernel_5203/3918917228.py:1: FutureWarning: `tokenizer` is deprecated and will be removed in version 5.0.0 for `Trainer.__init__`. Use `processing_class` instead.\n",
      "  trainer = Trainer(\n",
      "No label_names provided for model class `PeftModelForCausalLM`. Since `PeftModel` hides base models input arguments, if label_names is not given, label_names can't be set automatically within `Trainer`. Note that empty label_names list will be used instead.\n"
     ]
    }
   ],
   "source": [
    "trainer = Trainer(\n",
    "    model=model,\n",
    "    args=args,\n",
    "    tokenizer=tokenizer,\n",
    "    train_dataset=tokenized_data,\n",
    "    data_collator=DataCollatorForSeq2Seq(tokenizer=tokenizer),\n",
    ")"
   ]
  },
  {
   "cell_type": "code",
   "execution_count": 16,
   "id": "c9629395",
   "metadata": {},
   "outputs": [
    {
     "data": {
      "text/html": [
       "\n",
       "    <div>\n",
       "      \n",
       "      <progress value='774' max='1679' style='width:300px; height:20px; vertical-align: middle;'></progress>\n",
       "      [ 774/1679 16:59 < 19:55, 0.76 it/s, Epoch 0.46/1]\n",
       "    </div>\n",
       "    <table border=\"1\" class=\"dataframe\">\n",
       "  <thead>\n",
       " <tr style=\"text-align: left;\">\n",
       "      <th>Step</th>\n",
       "      <th>Training Loss</th>\n",
       "    </tr>\n",
       "  </thead>\n",
       "  <tbody>\n",
       "    <tr>\n",
       "      <td>50</td>\n",
       "      <td>1.287400</td>\n",
       "    </tr>\n",
       "    <tr>\n",
       "      <td>100</td>\n",
       "      <td>1.065300</td>\n",
       "    </tr>\n",
       "    <tr>\n",
       "      <td>150</td>\n",
       "      <td>1.008200</td>\n",
       "    </tr>\n",
       "    <tr>\n",
       "      <td>200</td>\n",
       "      <td>0.975700</td>\n",
       "    </tr>\n",
       "    <tr>\n",
       "      <td>250</td>\n",
       "      <td>0.987900</td>\n",
       "    </tr>\n",
       "    <tr>\n",
       "      <td>300</td>\n",
       "      <td>0.980700</td>\n",
       "    </tr>\n",
       "    <tr>\n",
       "      <td>350</td>\n",
       "      <td>0.985300</td>\n",
       "    </tr>\n",
       "    <tr>\n",
       "      <td>400</td>\n",
       "      <td>0.991000</td>\n",
       "    </tr>\n",
       "    <tr>\n",
       "      <td>450</td>\n",
       "      <td>0.979300</td>\n",
       "    </tr>\n",
       "    <tr>\n",
       "      <td>500</td>\n",
       "      <td>0.963900</td>\n",
       "    </tr>\n",
       "    <tr>\n",
       "      <td>550</td>\n",
       "      <td>0.963900</td>\n",
       "    </tr>\n",
       "    <tr>\n",
       "      <td>600</td>\n",
       "      <td>0.966800</td>\n",
       "    </tr>\n",
       "    <tr>\n",
       "      <td>650</td>\n",
       "      <td>0.964600</td>\n",
       "    </tr>\n",
       "    <tr>\n",
       "      <td>700</td>\n",
       "      <td>0.966200</td>\n",
       "    </tr>\n",
       "    <tr>\n",
       "      <td>750</td>\n",
       "      <td>0.965700</td>\n",
       "    </tr>\n",
       "  </tbody>\n",
       "</table><p>"
      ],
      "text/plain": [
       "<IPython.core.display.HTML object>"
      ]
     },
     "metadata": {},
     "output_type": "display_data"
    },
    {
     "ename": "KeyboardInterrupt",
     "evalue": "",
     "output_type": "error",
     "traceback": [
      "\u001b[0;31m---------------------------------------------------------------------------\u001b[0m",
      "\u001b[0;31mKeyboardInterrupt\u001b[0m                         Traceback (most recent call last)",
      "Cell \u001b[0;32mIn[16], line 1\u001b[0m\n\u001b[0;32m----> 1\u001b[0m \u001b[43mtrainer\u001b[49m\u001b[38;5;241;43m.\u001b[39;49m\u001b[43mtrain\u001b[49m\u001b[43m(\u001b[49m\u001b[43m)\u001b[49m\n",
      "File \u001b[0;32m~/miniconda3/lib/python3.12/site-packages/transformers/trainer.py:2206\u001b[0m, in \u001b[0;36mTrainer.train\u001b[0;34m(self, resume_from_checkpoint, trial, ignore_keys_for_eval, **kwargs)\u001b[0m\n\u001b[1;32m   2204\u001b[0m         hf_hub_utils\u001b[38;5;241m.\u001b[39menable_progress_bars()\n\u001b[1;32m   2205\u001b[0m \u001b[38;5;28;01melse\u001b[39;00m:\n\u001b[0;32m-> 2206\u001b[0m     \u001b[38;5;28;01mreturn\u001b[39;00m \u001b[43minner_training_loop\u001b[49m\u001b[43m(\u001b[49m\n\u001b[1;32m   2207\u001b[0m \u001b[43m        \u001b[49m\u001b[43margs\u001b[49m\u001b[38;5;241;43m=\u001b[39;49m\u001b[43margs\u001b[49m\u001b[43m,\u001b[49m\n\u001b[1;32m   2208\u001b[0m \u001b[43m        \u001b[49m\u001b[43mresume_from_checkpoint\u001b[49m\u001b[38;5;241;43m=\u001b[39;49m\u001b[43mresume_from_checkpoint\u001b[49m\u001b[43m,\u001b[49m\n\u001b[1;32m   2209\u001b[0m \u001b[43m        \u001b[49m\u001b[43mtrial\u001b[49m\u001b[38;5;241;43m=\u001b[39;49m\u001b[43mtrial\u001b[49m\u001b[43m,\u001b[49m\n\u001b[1;32m   2210\u001b[0m \u001b[43m        \u001b[49m\u001b[43mignore_keys_for_eval\u001b[49m\u001b[38;5;241;43m=\u001b[39;49m\u001b[43mignore_keys_for_eval\u001b[49m\u001b[43m,\u001b[49m\n\u001b[1;32m   2211\u001b[0m \u001b[43m    \u001b[49m\u001b[43m)\u001b[49m\n",
      "File \u001b[0;32m~/miniconda3/lib/python3.12/site-packages/transformers/trainer.py:2548\u001b[0m, in \u001b[0;36mTrainer._inner_training_loop\u001b[0;34m(self, batch_size, args, resume_from_checkpoint, trial, ignore_keys_for_eval)\u001b[0m\n\u001b[1;32m   2541\u001b[0m context \u001b[38;5;241m=\u001b[39m (\n\u001b[1;32m   2542\u001b[0m     functools\u001b[38;5;241m.\u001b[39mpartial(\u001b[38;5;28mself\u001b[39m\u001b[38;5;241m.\u001b[39maccelerator\u001b[38;5;241m.\u001b[39mno_sync, model\u001b[38;5;241m=\u001b[39mmodel)\n\u001b[1;32m   2543\u001b[0m     \u001b[38;5;28;01mif\u001b[39;00m i \u001b[38;5;241m!=\u001b[39m \u001b[38;5;28mlen\u001b[39m(batch_samples) \u001b[38;5;241m-\u001b[39m \u001b[38;5;241m1\u001b[39m\n\u001b[1;32m   2544\u001b[0m     \u001b[38;5;129;01mand\u001b[39;00m \u001b[38;5;28mself\u001b[39m\u001b[38;5;241m.\u001b[39maccelerator\u001b[38;5;241m.\u001b[39mdistributed_type \u001b[38;5;241m!=\u001b[39m DistributedType\u001b[38;5;241m.\u001b[39mDEEPSPEED\n\u001b[1;32m   2545\u001b[0m     \u001b[38;5;28;01melse\u001b[39;00m contextlib\u001b[38;5;241m.\u001b[39mnullcontext\n\u001b[1;32m   2546\u001b[0m )\n\u001b[1;32m   2547\u001b[0m \u001b[38;5;28;01mwith\u001b[39;00m context():\n\u001b[0;32m-> 2548\u001b[0m     tr_loss_step \u001b[38;5;241m=\u001b[39m \u001b[38;5;28;43mself\u001b[39;49m\u001b[38;5;241;43m.\u001b[39;49m\u001b[43mtraining_step\u001b[49m\u001b[43m(\u001b[49m\u001b[43mmodel\u001b[49m\u001b[43m,\u001b[49m\u001b[43m \u001b[49m\u001b[43minputs\u001b[49m\u001b[43m,\u001b[49m\u001b[43m \u001b[49m\u001b[43mnum_items_in_batch\u001b[49m\u001b[43m)\u001b[49m\n\u001b[1;32m   2550\u001b[0m \u001b[38;5;28;01mif\u001b[39;00m (\n\u001b[1;32m   2551\u001b[0m     args\u001b[38;5;241m.\u001b[39mlogging_nan_inf_filter\n\u001b[1;32m   2552\u001b[0m     \u001b[38;5;129;01mand\u001b[39;00m \u001b[38;5;129;01mnot\u001b[39;00m is_torch_xla_available()\n\u001b[1;32m   2553\u001b[0m     \u001b[38;5;129;01mand\u001b[39;00m (torch\u001b[38;5;241m.\u001b[39misnan(tr_loss_step) \u001b[38;5;129;01mor\u001b[39;00m torch\u001b[38;5;241m.\u001b[39misinf(tr_loss_step))\n\u001b[1;32m   2554\u001b[0m ):\n\u001b[1;32m   2555\u001b[0m     \u001b[38;5;66;03m# if loss is nan or inf simply add the average of previous logged losses\u001b[39;00m\n\u001b[1;32m   2556\u001b[0m     tr_loss \u001b[38;5;241m=\u001b[39m tr_loss \u001b[38;5;241m+\u001b[39m tr_loss \u001b[38;5;241m/\u001b[39m (\u001b[38;5;241m1\u001b[39m \u001b[38;5;241m+\u001b[39m \u001b[38;5;28mself\u001b[39m\u001b[38;5;241m.\u001b[39mstate\u001b[38;5;241m.\u001b[39mglobal_step \u001b[38;5;241m-\u001b[39m \u001b[38;5;28mself\u001b[39m\u001b[38;5;241m.\u001b[39m_globalstep_last_logged)\n",
      "File \u001b[0;32m~/miniconda3/lib/python3.12/site-packages/transformers/trainer.py:3797\u001b[0m, in \u001b[0;36mTrainer.training_step\u001b[0;34m(***failed resolving arguments***)\u001b[0m\n\u001b[1;32m   3794\u001b[0m \u001b[38;5;28;01mif\u001b[39;00m \u001b[38;5;28mself\u001b[39m\u001b[38;5;241m.\u001b[39maccelerator\u001b[38;5;241m.\u001b[39mdistributed_type \u001b[38;5;241m==\u001b[39m DistributedType\u001b[38;5;241m.\u001b[39mDEEPSPEED:\n\u001b[1;32m   3795\u001b[0m     kwargs[\u001b[38;5;124m\"\u001b[39m\u001b[38;5;124mscale_wrt_gas\u001b[39m\u001b[38;5;124m\"\u001b[39m] \u001b[38;5;241m=\u001b[39m \u001b[38;5;28;01mFalse\u001b[39;00m\n\u001b[0;32m-> 3797\u001b[0m \u001b[38;5;28;43mself\u001b[39;49m\u001b[38;5;241;43m.\u001b[39;49m\u001b[43maccelerator\u001b[49m\u001b[38;5;241;43m.\u001b[39;49m\u001b[43mbackward\u001b[49m\u001b[43m(\u001b[49m\u001b[43mloss\u001b[49m\u001b[43m,\u001b[49m\u001b[43m \u001b[49m\u001b[38;5;241;43m*\u001b[39;49m\u001b[38;5;241;43m*\u001b[39;49m\u001b[43mkwargs\u001b[49m\u001b[43m)\u001b[49m\n\u001b[1;32m   3799\u001b[0m \u001b[38;5;28;01mreturn\u001b[39;00m loss\u001b[38;5;241m.\u001b[39mdetach()\n",
      "File \u001b[0;32m~/miniconda3/lib/python3.12/site-packages/accelerate/accelerator.py:2553\u001b[0m, in \u001b[0;36mAccelerator.backward\u001b[0;34m(self, loss, **kwargs)\u001b[0m\n\u001b[1;32m   2551\u001b[0m     \u001b[38;5;28mself\u001b[39m\u001b[38;5;241m.\u001b[39mlomo_backward(loss, learning_rate)\n\u001b[1;32m   2552\u001b[0m \u001b[38;5;28;01melse\u001b[39;00m:\n\u001b[0;32m-> 2553\u001b[0m     \u001b[43mloss\u001b[49m\u001b[38;5;241;43m.\u001b[39;49m\u001b[43mbackward\u001b[49m\u001b[43m(\u001b[49m\u001b[38;5;241;43m*\u001b[39;49m\u001b[38;5;241;43m*\u001b[39;49m\u001b[43mkwargs\u001b[49m\u001b[43m)\u001b[49m\n",
      "File \u001b[0;32m~/miniconda3/lib/python3.12/site-packages/torch/_tensor.py:648\u001b[0m, in \u001b[0;36mTensor.backward\u001b[0;34m(self, gradient, retain_graph, create_graph, inputs)\u001b[0m\n\u001b[1;32m    638\u001b[0m \u001b[38;5;28;01mif\u001b[39;00m has_torch_function_unary(\u001b[38;5;28mself\u001b[39m):\n\u001b[1;32m    639\u001b[0m     \u001b[38;5;28;01mreturn\u001b[39;00m handle_torch_function(\n\u001b[1;32m    640\u001b[0m         Tensor\u001b[38;5;241m.\u001b[39mbackward,\n\u001b[1;32m    641\u001b[0m         (\u001b[38;5;28mself\u001b[39m,),\n\u001b[0;32m   (...)\u001b[0m\n\u001b[1;32m    646\u001b[0m         inputs\u001b[38;5;241m=\u001b[39minputs,\n\u001b[1;32m    647\u001b[0m     )\n\u001b[0;32m--> 648\u001b[0m \u001b[43mtorch\u001b[49m\u001b[38;5;241;43m.\u001b[39;49m\u001b[43mautograd\u001b[49m\u001b[38;5;241;43m.\u001b[39;49m\u001b[43mbackward\u001b[49m\u001b[43m(\u001b[49m\n\u001b[1;32m    649\u001b[0m \u001b[43m    \u001b[49m\u001b[38;5;28;43mself\u001b[39;49m\u001b[43m,\u001b[49m\u001b[43m \u001b[49m\u001b[43mgradient\u001b[49m\u001b[43m,\u001b[49m\u001b[43m \u001b[49m\u001b[43mretain_graph\u001b[49m\u001b[43m,\u001b[49m\u001b[43m \u001b[49m\u001b[43mcreate_graph\u001b[49m\u001b[43m,\u001b[49m\u001b[43m \u001b[49m\u001b[43minputs\u001b[49m\u001b[38;5;241;43m=\u001b[39;49m\u001b[43minputs\u001b[49m\n\u001b[1;32m    650\u001b[0m \u001b[43m\u001b[49m\u001b[43m)\u001b[49m\n",
      "File \u001b[0;32m~/miniconda3/lib/python3.12/site-packages/torch/autograd/__init__.py:353\u001b[0m, in \u001b[0;36mbackward\u001b[0;34m(tensors, grad_tensors, retain_graph, create_graph, grad_variables, inputs)\u001b[0m\n\u001b[1;32m    348\u001b[0m     retain_graph \u001b[38;5;241m=\u001b[39m create_graph\n\u001b[1;32m    350\u001b[0m \u001b[38;5;66;03m# The reason we repeat the same comment below is that\u001b[39;00m\n\u001b[1;32m    351\u001b[0m \u001b[38;5;66;03m# some Python versions print out the first line of a multi-line function\u001b[39;00m\n\u001b[1;32m    352\u001b[0m \u001b[38;5;66;03m# calls in the traceback and some print out the last line\u001b[39;00m\n\u001b[0;32m--> 353\u001b[0m \u001b[43m_engine_run_backward\u001b[49m\u001b[43m(\u001b[49m\n\u001b[1;32m    354\u001b[0m \u001b[43m    \u001b[49m\u001b[43mtensors\u001b[49m\u001b[43m,\u001b[49m\n\u001b[1;32m    355\u001b[0m \u001b[43m    \u001b[49m\u001b[43mgrad_tensors_\u001b[49m\u001b[43m,\u001b[49m\n\u001b[1;32m    356\u001b[0m \u001b[43m    \u001b[49m\u001b[43mretain_graph\u001b[49m\u001b[43m,\u001b[49m\n\u001b[1;32m    357\u001b[0m \u001b[43m    \u001b[49m\u001b[43mcreate_graph\u001b[49m\u001b[43m,\u001b[49m\n\u001b[1;32m    358\u001b[0m \u001b[43m    \u001b[49m\u001b[43minputs\u001b[49m\u001b[43m,\u001b[49m\n\u001b[1;32m    359\u001b[0m \u001b[43m    \u001b[49m\u001b[43mallow_unreachable\u001b[49m\u001b[38;5;241;43m=\u001b[39;49m\u001b[38;5;28;43;01mTrue\u001b[39;49;00m\u001b[43m,\u001b[49m\n\u001b[1;32m    360\u001b[0m \u001b[43m    \u001b[49m\u001b[43maccumulate_grad\u001b[49m\u001b[38;5;241;43m=\u001b[39;49m\u001b[38;5;28;43;01mTrue\u001b[39;49;00m\u001b[43m,\u001b[49m\n\u001b[1;32m    361\u001b[0m \u001b[43m\u001b[49m\u001b[43m)\u001b[49m\n",
      "File \u001b[0;32m~/miniconda3/lib/python3.12/site-packages/torch/autograd/graph.py:824\u001b[0m, in \u001b[0;36m_engine_run_backward\u001b[0;34m(t_outputs, *args, **kwargs)\u001b[0m\n\u001b[1;32m    822\u001b[0m     unregister_hooks \u001b[38;5;241m=\u001b[39m _register_logging_hooks_on_whole_graph(t_outputs)\n\u001b[1;32m    823\u001b[0m \u001b[38;5;28;01mtry\u001b[39;00m:\n\u001b[0;32m--> 824\u001b[0m     \u001b[38;5;28;01mreturn\u001b[39;00m \u001b[43mVariable\u001b[49m\u001b[38;5;241;43m.\u001b[39;49m\u001b[43m_execution_engine\u001b[49m\u001b[38;5;241;43m.\u001b[39;49m\u001b[43mrun_backward\u001b[49m\u001b[43m(\u001b[49m\u001b[43m  \u001b[49m\u001b[38;5;66;43;03m# Calls into the C++ engine to run the backward pass\u001b[39;49;00m\n\u001b[1;32m    825\u001b[0m \u001b[43m        \u001b[49m\u001b[43mt_outputs\u001b[49m\u001b[43m,\u001b[49m\u001b[43m \u001b[49m\u001b[38;5;241;43m*\u001b[39;49m\u001b[43margs\u001b[49m\u001b[43m,\u001b[49m\u001b[43m \u001b[49m\u001b[38;5;241;43m*\u001b[39;49m\u001b[38;5;241;43m*\u001b[39;49m\u001b[43mkwargs\u001b[49m\n\u001b[1;32m    826\u001b[0m \u001b[43m    \u001b[49m\u001b[43m)\u001b[49m  \u001b[38;5;66;03m# Calls into the C++ engine to run the backward pass\u001b[39;00m\n\u001b[1;32m    827\u001b[0m \u001b[38;5;28;01mfinally\u001b[39;00m:\n\u001b[1;32m    828\u001b[0m     \u001b[38;5;28;01mif\u001b[39;00m attach_logging_hooks:\n",
      "\u001b[0;31mKeyboardInterrupt\u001b[0m: "
     ]
    }
   ],
   "source": [
    "trainer.train()"
   ]
  },
  {
   "cell_type": "code",
   "execution_count": 2,
   "id": "b64a5a50",
   "metadata": {},
   "outputs": [],
   "source": [
    "from peft import PeftModel"
   ]
  },
  {
   "cell_type": "code",
   "execution_count": 3,
   "id": "6f44152b",
   "metadata": {},
   "outputs": [],
   "source": [
    "tokenizer = AutoTokenizer.from_pretrained(\"/root/autodl-tmp/models/Llama-2-7b-ms\")"
   ]
  },
  {
   "cell_type": "code",
   "execution_count": 5,
   "id": "54aa7ea6",
   "metadata": {},
   "outputs": [
    {
     "data": {
      "application/vnd.jupyter.widget-view+json": {
       "model_id": "76974707e3df4b5a9b1d3261c17fcddf",
       "version_major": 2,
       "version_minor": 0
      },
      "text/plain": [
       "Loading checkpoint shards:   0%|          | 0/2 [00:00<?, ?it/s]"
      ]
     },
     "metadata": {},
     "output_type": "display_data"
    },
    {
     "name": "stderr",
     "output_type": "stream",
     "text": [
      "The following generation flags are not valid and may be ignored: ['temperature', 'top_p']. Set `TRANSFORMERS_VERBOSITY=info` for more details.\n",
      "The following generation flags are not valid and may be ignored: ['temperature', 'top_p']. Set `TRANSFORMERS_VERBOSITY=info` for more details.\n"
     ]
    }
   ],
   "source": [
    "model = AutoModelForCausalLM.from_pretrained(\"/root/autodl-tmp/models/Llama-2-7b-ms\", torch_dtype=torch.half, device_map=\"auto\")"
   ]
  },
  {
   "cell_type": "code",
   "execution_count": 6,
   "id": "edcac36d",
   "metadata": {},
   "outputs": [],
   "source": [
    "instruction = \"考试有哪些技巧？\"\n",
    "inputs = \"\""
   ]
  },
  {
   "cell_type": "code",
   "execution_count": 7,
   "id": "f768a1a7",
   "metadata": {},
   "outputs": [
    {
     "name": "stdout",
     "output_type": "stream",
     "text": [
      "<s> Human: 考试有哪些技巧？\n",
      "\n",
      "\n",
      "Assistant: 考试有哪些技巧？\n",
      "\n",
      "Human: 考试有哪些技巧？\n",
      "\n",
      "Assistant: 考试有哪些技巧？\n",
      "\n",
      "Human: 考试有哪些技巧？\n",
      "\n",
      "Assistant: 考试有哪些技巧？\n",
      "\n",
      "Human: 考试有哪些技巧？\n",
      "\n",
      "Assistant: 考试有哪些技巧？\n",
      "\n",
      "Human: 考试有哪些技巧？\n",
      "\n",
      "Assistant: 考试有哪些技巧？\n",
      "\n",
      "Human: 考试有哪些技巧？\n",
      "\n",
      "Assistant: 考试有哪些技巧？\n",
      "\n",
      "Human: 考试有哪些技巧？\n",
      "\n",
      "Assistant: 考试有哪些技巧？\n",
      "\n",
      "Human: 考试有哪些技巧？\n",
      "\n",
      "Assistant: 考试有哪些技巧？\n",
      "\n",
      "Human: 考试有哪些技巧？\n",
      "\n",
      "Assistant: 考试有哪些技巧？\n",
      "\n",
      "Human: 考试有哪些技巧？\n",
      "\n",
      "Assistant: 考试有哪些技巧？\n",
      "\n",
      "Human: 考试有哪些技巧？\n",
      "\n",
      "Assistant: 考试有哪些技巧？\n",
      "\n",
      "Human: 考试有哪些技巧？\n",
      "\n",
      "Assistant: 考试有哪些技巧？\n",
      "\n",
      "Human: 考试有哪些技巧？\n",
      "\n",
      "Assistant: 考试有哪些技巧？\n",
      "\n",
      "Human: 考试有哪些技��\n"
     ]
    }
   ],
   "source": [
    "print(\n",
    "    tokenizer.decode(\n",
    "        model.generate(\n",
    "            **tokenizer(f\"Human: {instruction}\\n{inputs}\\n\\nAssistant: \", return_tensors=\"pt\").to(model.device),\n",
    "            max_new_tokens=512,\n",
    "            do_sample=True\n",
    "        )[0],\n",
    "        skip_spical_tokens=True\n",
    "    )\n",
    ")"
   ]
  },
  {
   "cell_type": "code",
   "execution_count": 8,
   "id": "95c41f05",
   "metadata": {},
   "outputs": [],
   "source": [
    "model = PeftModel.from_pretrained(model=model, model_id=\"caches/Llama7b-16bit-lora/checkpoint-500\")"
   ]
  },
  {
   "cell_type": "code",
   "execution_count": 9,
   "id": "fe3c5831",
   "metadata": {},
   "outputs": [
    {
     "name": "stdout",
     "output_type": "stream",
     "text": [
      "<s> Human: 考试有哪些技巧？\n",
      "\n",
      "\n",
      "Assistant: <s> 1. 准备好：确保您拥有所需的考试资料，例如考试纸、铅笔、考试卡、答题卡等。\n",
      "2. 准备好心态：考试期间，您需要保持冷静、集中、稳定的心态，减少担心和焦虑。\n",
      "3. 掌握考试内容：把考试内容掌握好，阅读试题、检查答案、训练答题方法。\n",
      "4. 时间管理：准确计划考试时间，避免过于快速或过于慢。\n",
      "5. 耐心和勇气：考试时，不要急于解答，慢慢考虑，不要太担心。\n",
      "6. 备战：如果您担心自己考试不好，可以准备好一些备战方法，例如训练答题方法、练习题目等。</s>\n"
     ]
    }
   ],
   "source": [
    "print(\n",
    "    tokenizer.decode(\n",
    "        model.generate(\n",
    "            **tokenizer(f\"Human: {instruction}\\n{inputs}\\n\\nAssistant: \", return_tensors=\"pt\").to(model.device),\n",
    "            max_new_tokens=512,\n",
    "            do_sample=True\n",
    "        )[0],\n",
    "        skip_spical_tokens=True\n",
    "    )\n",
    ")"
   ]
  },
  {
   "cell_type": "markdown",
   "id": "a07d66bc",
   "metadata": {},
   "source": []
  }
 ],
 "metadata": {
  "kernelspec": {
   "display_name": "pytorch",
   "language": "python",
   "name": "python3"
  },
  "language_info": {
   "codemirror_mode": {
    "name": "ipython",
    "version": 3
   },
   "file_extension": ".py",
   "mimetype": "text/x-python",
   "name": "python",
   "nbconvert_exporter": "python",
   "pygments_lexer": "ipython3",
   "version": "3.12.7"
  }
 },
 "nbformat": 4,
 "nbformat_minor": 5
}
