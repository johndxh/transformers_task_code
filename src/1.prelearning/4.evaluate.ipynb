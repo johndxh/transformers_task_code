{
 "cells": [
  {
   "cell_type": "markdown",
   "id": "2830bf12",
   "metadata": {},
   "source": [
    "# 评估函数"
   ]
  },
  {
   "cell_type": "code",
   "execution_count": 1,
   "id": "0200f502",
   "metadata": {},
   "outputs": [],
   "source": [
    "import evaluate"
   ]
  },
  {
   "cell_type": "markdown",
   "id": "b75a9cfd",
   "metadata": {},
   "source": [
    "##### 查看evaluate中可以直接加载的评估函数"
   ]
  },
  {
   "cell_type": "code",
   "execution_count": null,
   "id": "58bba338",
   "metadata": {},
   "outputs": [
    {
     "data": {
      "text/plain": [
       "[{'name': 'ncoop57/levenshtein_distance',\n",
       "  'type': 'comparison',\n",
       "  'community': True,\n",
       "  'likes': 0},\n",
       " {'name': 'kaleidophon/almost_stochastic_order',\n",
       "  'type': 'comparison',\n",
       "  'community': True,\n",
       "  'likes': 1},\n",
       " {'name': 'NeuraFusionAI/Arabic-Evaluation',\n",
       "  'type': 'comparison',\n",
       "  'community': True,\n",
       "  'likes': 0}]"
      ]
     },
     "execution_count": 7,
     "metadata": {},
     "output_type": "execute_result"
    }
   ],
   "source": [
    "evaluate.list_evaluation_modules(module_type=\"comparison\")"
   ]
  },
  {
   "cell_type": "markdown",
   "id": "b063b322",
   "metadata": {},
   "source": [
    "##### 功能一：加载评估函数"
   ]
  },
  {
   "cell_type": "code",
   "execution_count": 11,
   "id": "0453296a",
   "metadata": {},
   "outputs": [
    {
     "data": {
      "text/plain": [
       "EvaluationModule(name: \"accuracy\", module_type: \"metric\", features: {'predictions': Value(dtype='int32', id=None), 'references': Value(dtype='int32', id=None)}, usage: \"\"\"\n",
       "Args:\n",
       "    predictions (`list` of `int`): Predicted labels.\n",
       "    references (`list` of `int`): Ground truth labels.\n",
       "    normalize (`boolean`): If set to False, returns the number of correctly classified samples. Otherwise, returns the fraction of correctly classified samples. Defaults to True.\n",
       "    sample_weight (`list` of `float`): Sample weights Defaults to None.\n",
       "\n",
       "Returns:\n",
       "    accuracy (`float` or `int`): Accuracy score. Minimum possible value is 0. Maximum possible value is 1.0, or the number of examples input, if `normalize` is set to `True`.. A higher score means higher accuracy.\n",
       "\n",
       "Examples:\n",
       "\n",
       "    Example 1-A simple example\n",
       "        >>> accuracy_metric = evaluate.load(\"accuracy\")\n",
       "        >>> results = accuracy_metric.compute(references=[0, 1, 2, 0, 1, 2], predictions=[0, 1, 1, 2, 1, 0])\n",
       "        >>> print(results)\n",
       "        {'accuracy': 0.5}\n",
       "\n",
       "    Example 2-The same as Example 1, except with `normalize` set to `False`.\n",
       "        >>> accuracy_metric = evaluate.load(\"accuracy\")\n",
       "        >>> results = accuracy_metric.compute(references=[0, 1, 2, 0, 1, 2], predictions=[0, 1, 1, 2, 1, 0], normalize=False)\n",
       "        >>> print(results)\n",
       "        {'accuracy': 3.0}\n",
       "\n",
       "    Example 3-The same as Example 1, except with `sample_weight` set.\n",
       "        >>> accuracy_metric = evaluate.load(\"accuracy\")\n",
       "        >>> results = accuracy_metric.compute(references=[0, 1, 2, 0, 1, 2], predictions=[0, 1, 1, 2, 1, 0], sample_weight=[0.5, 2, 0.7, 0.5, 9, 0.4])\n",
       "        >>> print(results)\n",
       "        {'accuracy': 0.8778625954198473}\n",
       "\"\"\", stored examples: 0)"
      ]
     },
     "execution_count": 11,
     "metadata": {},
     "output_type": "execute_result"
    }
   ],
   "source": [
    "accuracy = evaluate.load(\"accuracy\") # 需要联网\n",
    "accuracy"
   ]
  },
  {
   "cell_type": "code",
   "execution_count": 13,
   "id": "4e552bb1",
   "metadata": {},
   "outputs": [
    {
     "name": "stdout",
     "output_type": "stream",
     "text": [
      "\n",
      "Accuracy is the proportion of correct predictions among the total number of cases processed. It can be computed with:\n",
      "Accuracy = (TP + TN) / (TP + TN + FP + FN)\n",
      " Where:\n",
      "TP: True positive\n",
      "TN: True negative\n",
      "FP: False positive\n",
      "FN: False negative\n",
      "\n",
      "--------------------------------------------------\n",
      "\n",
      "Args:\n",
      "    predictions (`list` of `int`): Predicted labels.\n",
      "    references (`list` of `int`): Ground truth labels.\n",
      "    normalize (`boolean`): If set to False, returns the number of correctly classified samples. Otherwise, returns the fraction of correctly classified samples. Defaults to True.\n",
      "    sample_weight (`list` of `float`): Sample weights Defaults to None.\n",
      "\n",
      "Returns:\n",
      "    accuracy (`float` or `int`): Accuracy score. Minimum possible value is 0. Maximum possible value is 1.0, or the number of examples input, if `normalize` is set to `True`.. A higher score means higher accuracy.\n",
      "\n",
      "Examples:\n",
      "\n",
      "    Example 1-A simple example\n",
      "        >>> accuracy_metric = evaluate.load(\"accuracy\")\n",
      "        >>> results = accuracy_metric.compute(references=[0, 1, 2, 0, 1, 2], predictions=[0, 1, 1, 2, 1, 0])\n",
      "        >>> print(results)\n",
      "        {'accuracy': 0.5}\n",
      "\n",
      "    Example 2-The same as Example 1, except with `normalize` set to `False`.\n",
      "        >>> accuracy_metric = evaluate.load(\"accuracy\")\n",
      "        >>> results = accuracy_metric.compute(references=[0, 1, 2, 0, 1, 2], predictions=[0, 1, 1, 2, 1, 0], normalize=False)\n",
      "        >>> print(results)\n",
      "        {'accuracy': 3.0}\n",
      "\n",
      "    Example 3-The same as Example 1, except with `sample_weight` set.\n",
      "        >>> accuracy_metric = evaluate.load(\"accuracy\")\n",
      "        >>> results = accuracy_metric.compute(references=[0, 1, 2, 0, 1, 2], predictions=[0, 1, 1, 2, 1, 0], sample_weight=[0.5, 2, 0.7, 0.5, 9, 0.4])\n",
      "        >>> print(results)\n",
      "        {'accuracy': 0.8778625954198473}\n",
      "\n"
     ]
    }
   ],
   "source": [
    "print(accuracy.description) # 查看accuracy的说明\n",
    "print(\"-\" * 50)\n",
    "print(accuracy.inputs_description) # 查看函数输入的说明"
   ]
  },
  {
   "cell_type": "markdown",
   "id": "027d03d0",
   "metadata": {},
   "source": [
    "##### 功能二：计算指标"
   ]
  },
  {
   "cell_type": "code",
   "execution_count": 16,
   "id": "f520ed30",
   "metadata": {},
   "outputs": [
    {
     "name": "stdout",
     "output_type": "stream",
     "text": [
      "{'accuracy': 0.5}\n",
      "{'accuracy': 0.5}\n",
      "{'accuracy': 0.5}\n"
     ]
    }
   ],
   "source": [
    "# 第一种直接给出所有结果进行计算\n",
    "result = accuracy.compute(references=[0, 1, 2, 0, 1, 2], predictions=[0, 1, 1, 2, 1, 0])\n",
    "print(result)\n",
    "\n",
    "# 第二种迭代添加结果，最后统一计算\n",
    "for ref, pred in zip([0, 1, 2, 0, 1, 2], [0, 1, 1, 2, 1, 0]):\n",
    "    accuracy.add(reference=ref, prediction=pred)\n",
    "result = accuracy.compute()\n",
    "print(result)\n",
    "\n",
    "# 第二种扩展，以batch的形式计算\n",
    "for refs, preds in zip([[0, 1], [2, 0], [1, 2]], [[0, 1], [1, 2], [1, 0]]):\n",
    "    accuracy.add_batch(references=refs, predictions=preds)\n",
    "result = accuracy.compute()\n",
    "print(result)"
   ]
  },
  {
   "cell_type": "markdown",
   "id": "5b3e9309",
   "metadata": {},
   "source": [
    "##### 功能三：多个指标共同计算"
   ]
  },
  {
   "cell_type": "code",
   "execution_count": 18,
   "id": "ae87ecd2",
   "metadata": {},
   "outputs": [
    {
     "data": {
      "application/vnd.jupyter.widget-view+json": {
       "model_id": "f1a8d50548864097baee46879e9f5d44",
       "version_major": 2,
       "version_minor": 0
      },
      "text/plain": [
       "Downloading builder script: 0.00B [00:00, ?B/s]"
      ]
     },
     "metadata": {},
     "output_type": "display_data"
    },
    {
     "data": {
      "application/vnd.jupyter.widget-view+json": {
       "model_id": "2baaf2171e734e45822d1eb690cef12a",
       "version_major": 2,
       "version_minor": 0
      },
      "text/plain": [
       "Downloading builder script: 0.00B [00:00, ?B/s]"
      ]
     },
     "metadata": {},
     "output_type": "display_data"
    },
    {
     "data": {
      "application/vnd.jupyter.widget-view+json": {
       "model_id": "9f7261eab4e94357ad8bc7a8d24ae1a2",
       "version_major": 2,
       "version_minor": 0
      },
      "text/plain": [
       "Downloading builder script: 0.00B [00:00, ?B/s]"
      ]
     },
     "metadata": {},
     "output_type": "display_data"
    }
   ],
   "source": [
    "combined_metrics = evaluate.combine([\"accuracy\", \"f1\", \"recall\", \"precision\"])"
   ]
  },
  {
   "cell_type": "code",
   "execution_count": 21,
   "id": "ac87bcd4",
   "metadata": {},
   "outputs": [
    {
     "data": {
      "text/plain": [
       "{'accuracy': 0.8333333333333334,\n",
       " 'f1': 0.8,\n",
       " 'recall': 1.0,\n",
       " 'precision': 0.6666666666666666}"
      ]
     },
     "execution_count": 21,
     "metadata": {},
     "output_type": "execute_result"
    }
   ],
   "source": [
    "combined_metrics.compute(references=[0, 1, 0, 0, 1, 0], predictions=[0, 1, 1, 0, 1, 0])"
   ]
  },
  {
   "cell_type": "markdown",
   "id": "d1556fcf",
   "metadata": {},
   "source": [
    "##### 功能四：可视化"
   ]
  },
  {
   "cell_type": "code",
   "execution_count": null,
   "id": "ab9487b8",
   "metadata": {},
   "outputs": [],
   "source": [
    "from evaluate.visualization import radar_plot"
   ]
  },
  {
   "cell_type": "code",
   "execution_count": 23,
   "id": "a81e5789",
   "metadata": {},
   "outputs": [],
   "source": [
    "data = [\n",
    "   {\"accuracy\": 0.99, \"precision\": 0.8, \"f1\": 0.95, \"latency_in_seconds\": 33.6},\n",
    "   {\"accuracy\": 0.98, \"precision\": 0.87, \"f1\": 0.91, \"latency_in_seconds\": 11.2},\n",
    "   {\"accuracy\": 0.98, \"precision\": 0.78, \"f1\": 0.88, \"latency_in_seconds\": 87.6}, \n",
    "   {\"accuracy\": 0.88, \"precision\": 0.78, \"f1\": 0.81, \"latency_in_seconds\": 101.6}\n",
    "   ]\n",
    "model_names = [\"Model 1\", \"Model 2\", \"Model 3\", \"Model 4\"]"
   ]
  },
  {
   "cell_type": "code",
   "execution_count": 24,
   "id": "623a1469",
   "metadata": {},
   "outputs": [
    {
     "data": {
      "image/png": "[encoded data removed]",
      "text/plain": [
       "<Figure size 640x480 with 5 Axes>"
      ]
     },
     "metadata": {},
     "output_type": "display_data"
    }
   ],
   "source": [
    "plot = radar_plot(data=data, model_names=model_names)"
   ]
  },
  {
   "cell_type": "code",
   "execution_count": null,
   "id": "3cf2d9c6",
   "metadata": {},
   "outputs": [],
   "source": []
  },
  {
   "cell_type": "markdown",
   "id": "01cc2532",
   "metadata": {},
   "source": [
    "# 示例"
   ]
  },
  {
   "cell_type": "code",
   "execution_count": 57,
   "id": "1bb3755b",
   "metadata": {},
   "outputs": [],
   "source": [
    "from transformers import AutoTokenizer, AutoModelForSequenceClassification, DataCollatorWithPadding\n",
    "\n",
    "from datasets import load_dataset\n",
    "import evaluate\n",
    "import torch"
   ]
  },
  {
   "cell_type": "code",
   "execution_count": 58,
   "id": "fd11a94e",
   "metadata": {},
   "outputs": [],
   "source": [
    "dataset = load_dataset(\"csv\", data_files=\"../../datas/ChnSentiCorp_htl_all.csv\", split=\"train\")\n",
    "\n",
    "dataset = dataset.filter(lambda x: x[\"review\"] is not None)\n",
    "dataset = dataset.train_test_split(0.1)"
   ]
  },
  {
   "cell_type": "code",
   "execution_count": 59,
   "id": "88039832",
   "metadata": {},
   "outputs": [],
   "source": [
    "tokenizer = AutoTokenizer.from_pretrained(\"models/rbt3\")"
   ]
  },
  {
   "cell_type": "code",
   "execution_count": 60,
   "id": "05d2e716",
   "metadata": {},
   "outputs": [],
   "source": [
    "def process_func(examples):\n",
    "    inputs = tokenizer(examples[\"review\"], max_length=128, truncation=True, padding=True, return_tensors=\"pt\")\n",
    "    inputs[\"labels\"] = examples[\"label\"]\n",
    "    return inputs"
   ]
  },
  {
   "cell_type": "code",
   "execution_count": 61,
   "id": "9b784b95",
   "metadata": {},
   "outputs": [
    {
     "data": {
      "application/vnd.jupyter.widget-view+json": {
       "model_id": "4f51a2f123824265a1666c8fbc30684b",
       "version_major": 2,
       "version_minor": 0
      },
      "text/plain": [
       "Map:   0%|          | 0/6988 [00:00<?, ? examples/s]"
      ]
     },
     "metadata": {},
     "output_type": "display_data"
    },
    {
     "data": {
      "application/vnd.jupyter.widget-view+json": {
       "model_id": "21f751c9246a4d0183081679b8420147",
       "version_major": 2,
       "version_minor": 0
      },
      "text/plain": [
       "Map:   0%|          | 0/777 [00:00<?, ? examples/s]"
      ]
     },
     "metadata": {},
     "output_type": "display_data"
    }
   ],
   "source": [
    "tokenized_data = dataset.map(process_func, batched=True, remove_columns=dataset[\"train\"].column_names)"
   ]
  },
  {
   "cell_type": "code",
   "execution_count": 62,
   "id": "ba8d9e3e",
   "metadata": {},
   "outputs": [
    {
     "name": "stderr",
     "output_type": "stream",
     "text": [
      "Some weights of BertForSequenceClassification were not initialized from the model checkpoint at models/rbt3 and are newly initialized: ['classifier.bias', 'classifier.weight']\n",
      "You should probably TRAIN this model on a down-stream task to be able to use it for predictions and inference.\n"
     ]
    }
   ],
   "source": [
    "model = AutoModelForSequenceClassification.from_pretrained(\"models/rbt3\")\n",
    "\n",
    "if torch.cuda.is_available():\n",
    "    model = model.cuda()"
   ]
  },
  {
   "cell_type": "code",
   "execution_count": 63,
   "id": "c31fe99e",
   "metadata": {},
   "outputs": [],
   "source": [
    "from torch.optim import Adam\n",
    "from torch.utils.data import DataLoader\n",
    "\n",
    "optimizer = Adam(model.parameters(), lr=2e-5)"
   ]
  },
  {
   "cell_type": "code",
   "execution_count": 64,
   "id": "683edb5e",
   "metadata": {},
   "outputs": [],
   "source": [
    "trainloader = DataLoader(tokenized_data[\"train\"], batch_size=32, shuffle=True, collate_fn=DataCollatorWithPadding(tokenizer=tokenizer))\n",
    "\n",
    "testloader = DataLoader(tokenized_data[\"test\"], batch_size=32, shuffle=False, collate_fn=DataCollatorWithPadding(tokenizer=tokenizer))"
   ]
  },
  {
   "cell_type": "code",
   "execution_count": 65,
   "id": "c142d7f5",
   "metadata": {},
   "outputs": [],
   "source": [
    "combined_metrics = evaluate.combine([\"accuracy\", \"f1\"])"
   ]
  },
  {
   "cell_type": "code",
   "execution_count": 70,
   "id": "3d4ca40e",
   "metadata": {},
   "outputs": [],
   "source": [
    "def train(epoch=3, log_step=100):\n",
    "    global_step = 0\n",
    "    for ep in range(1, epoch + 1):\n",
    "        model.train()\n",
    "\n",
    "        for batch in trainloader:\n",
    "            if torch.cuda.is_available():\n",
    "                batch = {k: v.cuda() for k, v in batch.items()}\n",
    "            optimizer.zero_grad()\n",
    "            outputs = model(**batch)\n",
    "            outputs.loss.backward()\n",
    "            optimizer.step()\n",
    "\n",
    "            if global_step % log_step == 0:\n",
    "                print(f\"ep: {ep}, global_step: {global_step}, loss: {outputs.loss.item()}\")\n",
    "            global_step += 1\n",
    "        \n",
    "        acc = evaluates()\n",
    "        print(f\"ep: {ep}, acc: {acc}\")\n",
    "    \n",
    "\n",
    "def evaluates():\n",
    "    model.eval()\n",
    "    with torch.inference_mode():\n",
    "        for batch in testloader:\n",
    "            if torch.cuda.is_available():\n",
    "                batch = {k: v.cuda() for k, v in batch.items()}\n",
    "            outputs = model(**batch).logits.argmax(dim=-1)\n",
    "            combined_metrics.add_batch(\n",
    "                references=batch[\"labels\"].long(),\n",
    "                predictions=outputs.long()\n",
    "            )\n",
    "        return combined_metrics.compute()"
   ]
  },
  {
   "cell_type": "code",
   "execution_count": 71,
   "id": "ff455cdf",
   "metadata": {},
   "outputs": [
    {
     "name": "stdout",
     "output_type": "stream",
     "text": [
      "ep: 1, global_step: 0, loss: 0.7199532389640808\n",
      "ep: 1, global_step: 100, loss: 0.1860148012638092\n",
      "ep: 1, global_step: 200, loss: 0.35454803705215454\n",
      "ep: 1, acc: {'accuracy': 0.8841698841698842, 'f1': 0.9152542372881356}\n",
      "ep: 2, global_step: 300, loss: 0.30137553811073303\n",
      "ep: 2, global_step: 400, loss: 0.22547776997089386\n",
      "ep: 2, acc: {'accuracy': 0.8648648648648649, 'f1': 0.9000951474785919}\n",
      "ep: 3, global_step: 500, loss: 0.439667671918869\n",
      "ep: 3, global_step: 600, loss: 0.18847079575061798\n",
      "ep: 3, acc: {'accuracy': 0.8867438867438867, 'f1': 0.9221238938053097}\n"
     ]
    }
   ],
   "source": [
    "train()"
   ]
  },
  {
   "cell_type": "code",
   "execution_count": 72,
   "id": "791b97a1",
   "metadata": {},
   "outputs": [
    {
     "name": "stderr",
     "output_type": "stream",
     "text": [
      "Device set to use cuda:0\n"
     ]
    }
   ],
   "source": [
    "from transformers import pipeline\n",
    "\n",
    "model.config.id2label = {0: \"差评\", 1: \"好评\"}\n",
    "pipe = pipeline(\"text-classification\", model=model, tokenizer=tokenizer)"
   ]
  },
  {
   "cell_type": "code",
   "execution_count": null,
   "id": "eacc3f9e",
   "metadata": {},
   "outputs": [
    {
     "data": {
      "text/plain": [
       "[{'label': '差评', 'score': 0.9694143533706665}]"
      ]
     },
     "execution_count": 75,
     "metadata": {},
     "output_type": "execute_result"
    }
   ],
   "source": [
    "pipe(\"这地方有点差劲\")"
   ]
  },
  {
   "cell_type": "code",
   "execution_count": null,
   "id": "dd4aa6b6",
   "metadata": {},
   "outputs": [],
   "source": []
  }
 ],
 "metadata": {
  "kernelspec": {
   "display_name": "pytorch",
   "language": "python",
   "name": "python3"
  },
  "language_info": {
   "codemirror_mode": {
    "name": "ipython",
    "version": 3
   },
   "file_extension": ".py",
   "mimetype": "text/x-python",
   "name": "python",
   "nbconvert_exporter": "python",
   "pygments_lexer": "ipython3",
   "version": "3.12.7"
  }
 },
 "nbformat": 4,
 "nbformat_minor": 5
}
