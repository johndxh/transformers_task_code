{
 "cells": [
  {
   "cell_type": "markdown",
   "id": "e24aa33d",
   "metadata": {},
   "source": [
    "### Dataset的使用\n",
    "\n",
    "huggingface用不了可以修改huggingface_hub包的constant.py文件，修改_HF_DEFAULT_ENDPOINT = \"https://hf-mirror.com\""
   ]
  },
  {
   "cell_type": "markdown",
   "id": "52a57b0e",
   "metadata": {},
   "source": [
    "##### 功能一：数据加载"
   ]
  },
  {
   "cell_type": "code",
   "execution_count": 2,
   "id": "09583a0a",
   "metadata": {},
   "outputs": [],
   "source": [
    "from datasets import load_dataset, Dataset"
   ]
  },
  {
   "cell_type": "markdown",
   "id": "6b1eb089",
   "metadata": {},
   "source": [
    "在线数据集"
   ]
  },
  {
   "cell_type": "code",
   "execution_count": null,
   "id": "feba662b",
   "metadata": {},
   "outputs": [
    {
     "data": {
      "application/vnd.jupyter.widget-view+json": {
       "model_id": "7db3b7e8dd364e16b5ae4032f68c4f3a",
       "version_major": 2,
       "version_minor": 0
      },
      "text/plain": [
       "Generating train split:   0%|          | 0/5850 [00:00<?, ? examples/s]"
      ]
     },
     "metadata": {},
     "output_type": "display_data"
    },
    {
     "data": {
      "application/vnd.jupyter.widget-view+json": {
       "model_id": "13dc822ed9b840779080b015e8567690",
       "version_major": 2,
       "version_minor": 0
      },
      "text/plain": [
       "Generating validation split:   0%|          | 0/1679 [00:00<?, ? examples/s]"
      ]
     },
     "metadata": {},
     "output_type": "display_data"
    }
   ],
   "source": [
    "# 加载在线数据集和加载在线模型一致，只需要数据集地址就行\n",
    "\n",
    "dataset = load_dataset(\"madao33/new-title-chinese\")\n",
    "\n",
    "# 加载数据集中某一项任务\n",
    "dataset = load_dataset(\"aps/super_glue\", \"axb\")"
   ]
  },
  {
   "cell_type": "code",
   "execution_count": null,
   "id": "443772e5",
   "metadata": {},
   "outputs": [],
   "source": [
    "# 指定数据集\n",
    "dataset = load_dataset(\"madao33/new-title-chinese\", split=\"train\")\n",
    "dataset = load_dataset(\"madao33/new-title-chinese\", split=\"train[10:100]\")\n",
    "dataset = load_dataset(\"madao33/new-title-chinese\", split=\"train[:50%]\")\n",
    "dataset = load_dataset(\"madao33/new-title-chinese\", split=[\"train[:50%]\", \"train[50%:]\"])"
   ]
  },
  {
   "cell_type": "markdown",
   "id": "c7627f76",
   "metadata": {},
   "source": [
    "本地数据集"
   ]
  },
  {
   "cell_type": "code",
   "execution_count": 49,
   "id": "229f264e",
   "metadata": {},
   "outputs": [
    {
     "data": {
      "text/plain": [
       "Dataset({\n",
       "    features: ['label', 'review'],\n",
       "    num_rows: 7766\n",
       "})"
      ]
     },
     "execution_count": 49,
     "metadata": {},
     "output_type": "execute_result"
    }
   ],
   "source": [
    "dataset = load_dataset(\"csv\", data_files=\"../../datas/ChnSentiCorp_htl_all.csv\", split=\"train\")\n",
    "dataset"
   ]
  },
  {
   "cell_type": "markdown",
   "id": "2e64c37c",
   "metadata": {},
   "source": [
    "##### 查看数据集"
   ]
  },
  {
   "cell_type": "code",
   "execution_count": 21,
   "id": "1f456a02",
   "metadata": {},
   "outputs": [
    {
     "name": "stderr",
     "output_type": "stream",
     "text": [
      "Using the latest cached version of the dataset since madao33/new-title-chinese couldn't be found on the Hugging Face Hub\n",
      "Found the latest cached dataset configuration 'default' at F:\\code\\python_\\other\\project\\deepLearning\\models\\datasets\\madao33___new-title-chinese\\default\\0.0.0\\be61f6e55257d64aa16e6a5c09ef9451e3f24c40 (last modified on Fri Jun 13 01:17:05 2025).\n"
     ]
    }
   ],
   "source": [
    "dataset = load_dataset(\"madao33/new-title-chinese\")"
   ]
  },
  {
   "cell_type": "code",
   "execution_count": 22,
   "id": "969f350c",
   "metadata": {},
   "outputs": [
    {
     "data": {
      "text/plain": [
       "{'title': Value(dtype='string', id=None),\n",
       " 'content': Value(dtype='string', id=None)}"
      ]
     },
     "execution_count": 22,
     "metadata": {},
     "output_type": "execute_result"
    }
   ],
   "source": [
    "dataset[\"train\"][:3] # 每一个字段都聚合成一个列表"
   ]
  },
  {
   "cell_type": "markdown",
   "id": "75bd0773",
   "metadata": {},
   "source": [
    "##### 功能二：数据集划分"
   ]
  },
  {
   "cell_type": "code",
   "execution_count": 24,
   "id": "a6777d1e",
   "metadata": {},
   "outputs": [
    {
     "data": {
      "text/plain": [
       "DatasetDict({\n",
       "    train: Dataset({\n",
       "        features: ['title', 'content'],\n",
       "        num_rows: 5265\n",
       "    })\n",
       "    test: Dataset({\n",
       "        features: ['title', 'content'],\n",
       "        num_rows: 585\n",
       "    })\n",
       "})"
      ]
     },
     "execution_count": 24,
     "metadata": {},
     "output_type": "execute_result"
    }
   ],
   "source": [
    "trainset = dataset[\"train\"]\n",
    "trainset.train_test_split(0.1) # 默认test_size，小数比例，整数个数"
   ]
  },
  {
   "cell_type": "code",
   "execution_count": 27,
   "id": "45d40f21",
   "metadata": {},
   "outputs": [
    {
     "ename": "SSLError",
     "evalue": "(MaxRetryError(\"HTTPSConnectionPool(host='huggingface.co', port=443): Max retries exceeded with url: /api/datasets/super_glue/revision/3de24cf8022e94f4ee4b9d55a6f539891524d646 (Caused by SSLError(SSLEOFError(8, '[SSL: UNEXPECTED_EOF_WHILE_READING] EOF occurred in violation of protocol (_ssl.c:1000)')))\"), '(Request ID: 99cc6736-8bac-4c62-9ef6-e3b400befa6b)')",
     "output_type": "error",
     "traceback": [
      "\u001b[1;31m---------------------------------------------------------------------------\u001b[0m",
      "\u001b[1;31mSSLError\u001b[0m                                  Traceback (most recent call last)",
      "\u001b[1;31mSSLError\u001b[0m: [SSL: UNEXPECTED_EOF_WHILE_READING] EOF occurred in violation of protocol (_ssl.c:1000)",
      "\nThe above exception was the direct cause of the following exception:\n",
      "\u001b[1;31mMaxRetryError\u001b[0m                             Traceback (most recent call last)",
      "File \u001b[1;32me:\\software\\anaconda3\\envs\\pytorch\\Lib\\site-packages\\requests\\adapters.py:667\u001b[0m, in \u001b[0;36mHTTPAdapter.send\u001b[1;34m(self, request, stream, timeout, verify, cert, proxies)\u001b[0m\n\u001b[0;32m    666\u001b[0m \u001b[38;5;28;01mtry\u001b[39;00m:\n\u001b[1;32m--> 667\u001b[0m     resp \u001b[38;5;241m=\u001b[39m \u001b[43mconn\u001b[49m\u001b[38;5;241;43m.\u001b[39;49m\u001b[43murlopen\u001b[49m\u001b[43m(\u001b[49m\n\u001b[0;32m    668\u001b[0m \u001b[43m        \u001b[49m\u001b[43mmethod\u001b[49m\u001b[38;5;241;43m=\u001b[39;49m\u001b[43mrequest\u001b[49m\u001b[38;5;241;43m.\u001b[39;49m\u001b[43mmethod\u001b[49m\u001b[43m,\u001b[49m\n\u001b[0;32m    669\u001b[0m \u001b[43m        \u001b[49m\u001b[43murl\u001b[49m\u001b[38;5;241;43m=\u001b[39;49m\u001b[43murl\u001b[49m\u001b[43m,\u001b[49m\n\u001b[0;32m    670\u001b[0m \u001b[43m        \u001b[49m\u001b[43mbody\u001b[49m\u001b[38;5;241;43m=\u001b[39;49m\u001b[43mrequest\u001b[49m\u001b[38;5;241;43m.\u001b[39;49m\u001b[43mbody\u001b[49m\u001b[43m,\u001b[49m\n\u001b[0;32m    671\u001b[0m \u001b[43m        \u001b[49m\u001b[43mheaders\u001b[49m\u001b[38;5;241;43m=\u001b[39;49m\u001b[43mrequest\u001b[49m\u001b[38;5;241;43m.\u001b[39;49m\u001b[43mheaders\u001b[49m\u001b[43m,\u001b[49m\n\u001b[0;32m    672\u001b[0m \u001b[43m        \u001b[49m\u001b[43mredirect\u001b[49m\u001b[38;5;241;43m=\u001b[39;49m\u001b[38;5;28;43;01mFalse\u001b[39;49;00m\u001b[43m,\u001b[49m\n\u001b[0;32m    673\u001b[0m \u001b[43m        \u001b[49m\u001b[43massert_same_host\u001b[49m\u001b[38;5;241;43m=\u001b[39;49m\u001b[38;5;28;43;01mFalse\u001b[39;49;00m\u001b[43m,\u001b[49m\n\u001b[0;32m    674\u001b[0m \u001b[43m        \u001b[49m\u001b[43mpreload_content\u001b[49m\u001b[38;5;241;43m=\u001b[39;49m\u001b[38;5;28;43;01mFalse\u001b[39;49;00m\u001b[43m,\u001b[49m\n\u001b[0;32m    675\u001b[0m \u001b[43m        \u001b[49m\u001b[43mdecode_content\u001b[49m\u001b[38;5;241;43m=\u001b[39;49m\u001b[38;5;28;43;01mFalse\u001b[39;49;00m\u001b[43m,\u001b[49m\n\u001b[0;32m    676\u001b[0m \u001b[43m        \u001b[49m\u001b[43mretries\u001b[49m\u001b[38;5;241;43m=\u001b[39;49m\u001b[38;5;28;43mself\u001b[39;49m\u001b[38;5;241;43m.\u001b[39;49m\u001b[43mmax_retries\u001b[49m\u001b[43m,\u001b[49m\n\u001b[0;32m    677\u001b[0m \u001b[43m        \u001b[49m\u001b[43mtimeout\u001b[49m\u001b[38;5;241;43m=\u001b[39;49m\u001b[43mtimeout\u001b[49m\u001b[43m,\u001b[49m\n\u001b[0;32m    678\u001b[0m \u001b[43m        \u001b[49m\u001b[43mchunked\u001b[49m\u001b[38;5;241;43m=\u001b[39;49m\u001b[43mchunked\u001b[49m\u001b[43m,\u001b[49m\n\u001b[0;32m    679\u001b[0m \u001b[43m    \u001b[49m\u001b[43m)\u001b[49m\n\u001b[0;32m    681\u001b[0m \u001b[38;5;28;01mexcept\u001b[39;00m (ProtocolError, \u001b[38;5;167;01mOSError\u001b[39;00m) \u001b[38;5;28;01mas\u001b[39;00m err:\n",
      "File \u001b[1;32me:\\software\\anaconda3\\envs\\pytorch\\Lib\\site-packages\\urllib3\\connectionpool.py:843\u001b[0m, in \u001b[0;36mHTTPConnectionPool.urlopen\u001b[1;34m(self, method, url, body, headers, retries, redirect, assert_same_host, timeout, pool_timeout, release_conn, chunked, body_pos, preload_content, decode_content, **response_kw)\u001b[0m\n\u001b[0;32m    841\u001b[0m     new_e \u001b[38;5;241m=\u001b[39m ProtocolError(\u001b[38;5;124m\"\u001b[39m\u001b[38;5;124mConnection aborted.\u001b[39m\u001b[38;5;124m\"\u001b[39m, new_e)\n\u001b[1;32m--> 843\u001b[0m retries \u001b[38;5;241m=\u001b[39m \u001b[43mretries\u001b[49m\u001b[38;5;241;43m.\u001b[39;49m\u001b[43mincrement\u001b[49m\u001b[43m(\u001b[49m\n\u001b[0;32m    844\u001b[0m \u001b[43m    \u001b[49m\u001b[43mmethod\u001b[49m\u001b[43m,\u001b[49m\u001b[43m \u001b[49m\u001b[43murl\u001b[49m\u001b[43m,\u001b[49m\u001b[43m \u001b[49m\u001b[43merror\u001b[49m\u001b[38;5;241;43m=\u001b[39;49m\u001b[43mnew_e\u001b[49m\u001b[43m,\u001b[49m\u001b[43m \u001b[49m\u001b[43m_pool\u001b[49m\u001b[38;5;241;43m=\u001b[39;49m\u001b[38;5;28;43mself\u001b[39;49m\u001b[43m,\u001b[49m\u001b[43m \u001b[49m\u001b[43m_stacktrace\u001b[49m\u001b[38;5;241;43m=\u001b[39;49m\u001b[43msys\u001b[49m\u001b[38;5;241;43m.\u001b[39;49m\u001b[43mexc_info\u001b[49m\u001b[43m(\u001b[49m\u001b[43m)\u001b[49m\u001b[43m[\u001b[49m\u001b[38;5;241;43m2\u001b[39;49m\u001b[43m]\u001b[49m\n\u001b[0;32m    845\u001b[0m \u001b[43m\u001b[49m\u001b[43m)\u001b[49m\n\u001b[0;32m    846\u001b[0m retries\u001b[38;5;241m.\u001b[39msleep()\n",
      "File \u001b[1;32me:\\software\\anaconda3\\envs\\pytorch\\Lib\\site-packages\\urllib3\\util\\retry.py:519\u001b[0m, in \u001b[0;36mRetry.increment\u001b[1;34m(self, method, url, response, error, _pool, _stacktrace)\u001b[0m\n\u001b[0;32m    518\u001b[0m     reason \u001b[38;5;241m=\u001b[39m error \u001b[38;5;129;01mor\u001b[39;00m ResponseError(cause)\n\u001b[1;32m--> 519\u001b[0m     \u001b[38;5;28;01mraise\u001b[39;00m MaxRetryError(_pool, url, reason) \u001b[38;5;28;01mfrom\u001b[39;00m \u001b[38;5;21;01mreason\u001b[39;00m  \u001b[38;5;66;03m# type: ignore[arg-type]\u001b[39;00m\n\u001b[0;32m    521\u001b[0m log\u001b[38;5;241m.\u001b[39mdebug(\u001b[38;5;124m\"\u001b[39m\u001b[38;5;124mIncremented Retry for (url=\u001b[39m\u001b[38;5;124m'\u001b[39m\u001b[38;5;132;01m%s\u001b[39;00m\u001b[38;5;124m'\u001b[39m\u001b[38;5;124m): \u001b[39m\u001b[38;5;132;01m%r\u001b[39;00m\u001b[38;5;124m\"\u001b[39m, url, new_retry)\n",
      "\u001b[1;31mMaxRetryError\u001b[0m: HTTPSConnectionPool(host='huggingface.co', port=443): Max retries exceeded with url: /api/datasets/super_glue/revision/3de24cf8022e94f4ee4b9d55a6f539891524d646 (Caused by SSLError(SSLEOFError(8, '[SSL: UNEXPECTED_EOF_WHILE_READING] EOF occurred in violation of protocol (_ssl.c:1000)')))",
      "\nDuring handling of the above exception, another exception occurred:\n",
      "\u001b[1;31mSSLError\u001b[0m                                  Traceback (most recent call last)",
      "Cell \u001b[1;32mIn[27], line 1\u001b[0m\n\u001b[1;32m----> 1\u001b[0m boolq_dataset \u001b[38;5;241m=\u001b[39m \u001b[43mload_dataset\u001b[49m\u001b[43m(\u001b[49m\u001b[38;5;124;43m\"\u001b[39;49m\u001b[38;5;124;43msuper_glue\u001b[39;49m\u001b[38;5;124;43m\"\u001b[39;49m\u001b[43m,\u001b[49m\u001b[43m \u001b[49m\u001b[38;5;124;43m\"\u001b[39;49m\u001b[38;5;124;43mboolq\u001b[39;49m\u001b[38;5;124;43m\"\u001b[39;49m\u001b[43m)\u001b[49m\n\u001b[0;32m      2\u001b[0m trainset \u001b[38;5;241m=\u001b[39m boolq_dataset[\u001b[38;5;124m\"\u001b[39m\u001b[38;5;124mtrain\u001b[39m\u001b[38;5;124m\"\u001b[39m]\n\u001b[0;32m      3\u001b[0m trainset\u001b[38;5;241m.\u001b[39mtrain_test_split(\u001b[38;5;241m0.1\u001b[39m, stratify_by_column\u001b[38;5;241m=\u001b[39m\u001b[38;5;124m\"\u001b[39m\u001b[38;5;124mlabel\u001b[39m\u001b[38;5;124m\"\u001b[39m) \u001b[38;5;66;03m# 按label分层抽样\u001b[39;00m\n",
      "File \u001b[1;32me:\\software\\anaconda3\\envs\\pytorch\\Lib\\site-packages\\datasets\\load.py:2062\u001b[0m, in \u001b[0;36mload_dataset\u001b[1;34m(path, name, data_dir, data_files, split, cache_dir, features, download_config, download_mode, verification_mode, keep_in_memory, save_infos, revision, token, streaming, num_proc, storage_options, trust_remote_code, **config_kwargs)\u001b[0m\n\u001b[0;32m   2057\u001b[0m verification_mode \u001b[38;5;241m=\u001b[39m VerificationMode(\n\u001b[0;32m   2058\u001b[0m     (verification_mode \u001b[38;5;129;01mor\u001b[39;00m VerificationMode\u001b[38;5;241m.\u001b[39mBASIC_CHECKS) \u001b[38;5;28;01mif\u001b[39;00m \u001b[38;5;129;01mnot\u001b[39;00m save_infos \u001b[38;5;28;01melse\u001b[39;00m VerificationMode\u001b[38;5;241m.\u001b[39mALL_CHECKS\n\u001b[0;32m   2059\u001b[0m )\n\u001b[0;32m   2061\u001b[0m \u001b[38;5;66;03m# Create a dataset builder\u001b[39;00m\n\u001b[1;32m-> 2062\u001b[0m builder_instance \u001b[38;5;241m=\u001b[39m \u001b[43mload_dataset_builder\u001b[49m\u001b[43m(\u001b[49m\n\u001b[0;32m   2063\u001b[0m \u001b[43m    \u001b[49m\u001b[43mpath\u001b[49m\u001b[38;5;241;43m=\u001b[39;49m\u001b[43mpath\u001b[49m\u001b[43m,\u001b[49m\n\u001b[0;32m   2064\u001b[0m \u001b[43m    \u001b[49m\u001b[43mname\u001b[49m\u001b[38;5;241;43m=\u001b[39;49m\u001b[43mname\u001b[49m\u001b[43m,\u001b[49m\n\u001b[0;32m   2065\u001b[0m \u001b[43m    \u001b[49m\u001b[43mdata_dir\u001b[49m\u001b[38;5;241;43m=\u001b[39;49m\u001b[43mdata_dir\u001b[49m\u001b[43m,\u001b[49m\n\u001b[0;32m   2066\u001b[0m \u001b[43m    \u001b[49m\u001b[43mdata_files\u001b[49m\u001b[38;5;241;43m=\u001b[39;49m\u001b[43mdata_files\u001b[49m\u001b[43m,\u001b[49m\n\u001b[0;32m   2067\u001b[0m \u001b[43m    \u001b[49m\u001b[43mcache_dir\u001b[49m\u001b[38;5;241;43m=\u001b[39;49m\u001b[43mcache_dir\u001b[49m\u001b[43m,\u001b[49m\n\u001b[0;32m   2068\u001b[0m \u001b[43m    \u001b[49m\u001b[43mfeatures\u001b[49m\u001b[38;5;241;43m=\u001b[39;49m\u001b[43mfeatures\u001b[49m\u001b[43m,\u001b[49m\n\u001b[0;32m   2069\u001b[0m \u001b[43m    \u001b[49m\u001b[43mdownload_config\u001b[49m\u001b[38;5;241;43m=\u001b[39;49m\u001b[43mdownload_config\u001b[49m\u001b[43m,\u001b[49m\n\u001b[0;32m   2070\u001b[0m \u001b[43m    \u001b[49m\u001b[43mdownload_mode\u001b[49m\u001b[38;5;241;43m=\u001b[39;49m\u001b[43mdownload_mode\u001b[49m\u001b[43m,\u001b[49m\n\u001b[0;32m   2071\u001b[0m \u001b[43m    \u001b[49m\u001b[43mrevision\u001b[49m\u001b[38;5;241;43m=\u001b[39;49m\u001b[43mrevision\u001b[49m\u001b[43m,\u001b[49m\n\u001b[0;32m   2072\u001b[0m \u001b[43m    \u001b[49m\u001b[43mtoken\u001b[49m\u001b[38;5;241;43m=\u001b[39;49m\u001b[43mtoken\u001b[49m\u001b[43m,\u001b[49m\n\u001b[0;32m   2073\u001b[0m \u001b[43m    \u001b[49m\u001b[43mstorage_options\u001b[49m\u001b[38;5;241;43m=\u001b[39;49m\u001b[43mstorage_options\u001b[49m\u001b[43m,\u001b[49m\n\u001b[0;32m   2074\u001b[0m \u001b[43m    \u001b[49m\u001b[43mtrust_remote_code\u001b[49m\u001b[38;5;241;43m=\u001b[39;49m\u001b[43mtrust_remote_code\u001b[49m\u001b[43m,\u001b[49m\n\u001b[0;32m   2075\u001b[0m \u001b[43m    \u001b[49m\u001b[43m_require_default_config_name\u001b[49m\u001b[38;5;241;43m=\u001b[39;49m\u001b[43mname\u001b[49m\u001b[43m \u001b[49m\u001b[38;5;129;43;01mis\u001b[39;49;00m\u001b[43m \u001b[49m\u001b[38;5;28;43;01mNone\u001b[39;49;00m\u001b[43m,\u001b[49m\n\u001b[0;32m   2076\u001b[0m \u001b[43m    \u001b[49m\u001b[38;5;241;43m*\u001b[39;49m\u001b[38;5;241;43m*\u001b[39;49m\u001b[43mconfig_kwargs\u001b[49m\u001b[43m,\u001b[49m\n\u001b[0;32m   2077\u001b[0m \u001b[43m\u001b[49m\u001b[43m)\u001b[49m\n\u001b[0;32m   2079\u001b[0m \u001b[38;5;66;03m# Return iterable dataset in case of streaming\u001b[39;00m\n\u001b[0;32m   2080\u001b[0m \u001b[38;5;28;01mif\u001b[39;00m streaming:\n",
      "File \u001b[1;32me:\\software\\anaconda3\\envs\\pytorch\\Lib\\site-packages\\datasets\\load.py:1819\u001b[0m, in \u001b[0;36mload_dataset_builder\u001b[1;34m(path, name, data_dir, data_files, cache_dir, features, download_config, download_mode, revision, token, storage_options, trust_remote_code, _require_default_config_name, **config_kwargs)\u001b[0m\n\u001b[0;32m   1817\u001b[0m builder_cls \u001b[38;5;241m=\u001b[39m get_dataset_builder_class(dataset_module, dataset_name\u001b[38;5;241m=\u001b[39mdataset_name)\n\u001b[0;32m   1818\u001b[0m \u001b[38;5;66;03m# Instantiate the dataset builder\u001b[39;00m\n\u001b[1;32m-> 1819\u001b[0m builder_instance: DatasetBuilder \u001b[38;5;241m=\u001b[39m \u001b[43mbuilder_cls\u001b[49m\u001b[43m(\u001b[49m\n\u001b[0;32m   1820\u001b[0m \u001b[43m    \u001b[49m\u001b[43mcache_dir\u001b[49m\u001b[38;5;241;43m=\u001b[39;49m\u001b[43mcache_dir\u001b[49m\u001b[43m,\u001b[49m\n\u001b[0;32m   1821\u001b[0m \u001b[43m    \u001b[49m\u001b[43mdataset_name\u001b[49m\u001b[38;5;241;43m=\u001b[39;49m\u001b[43mdataset_name\u001b[49m\u001b[43m,\u001b[49m\n\u001b[0;32m   1822\u001b[0m \u001b[43m    \u001b[49m\u001b[43mconfig_name\u001b[49m\u001b[38;5;241;43m=\u001b[39;49m\u001b[43mconfig_name\u001b[49m\u001b[43m,\u001b[49m\n\u001b[0;32m   1823\u001b[0m \u001b[43m    \u001b[49m\u001b[43mdata_dir\u001b[49m\u001b[38;5;241;43m=\u001b[39;49m\u001b[43mdata_dir\u001b[49m\u001b[43m,\u001b[49m\n\u001b[0;32m   1824\u001b[0m \u001b[43m    \u001b[49m\u001b[43mdata_files\u001b[49m\u001b[38;5;241;43m=\u001b[39;49m\u001b[43mdata_files\u001b[49m\u001b[43m,\u001b[49m\n\u001b[0;32m   1825\u001b[0m \u001b[43m    \u001b[49m\u001b[38;5;28;43mhash\u001b[39;49m\u001b[38;5;241;43m=\u001b[39;49m\u001b[43mdataset_module\u001b[49m\u001b[38;5;241;43m.\u001b[39;49m\u001b[43mhash\u001b[49m\u001b[43m,\u001b[49m\n\u001b[0;32m   1826\u001b[0m \u001b[43m    \u001b[49m\u001b[43minfo\u001b[49m\u001b[38;5;241;43m=\u001b[39;49m\u001b[43minfo\u001b[49m\u001b[43m,\u001b[49m\n\u001b[0;32m   1827\u001b[0m \u001b[43m    \u001b[49m\u001b[43mfeatures\u001b[49m\u001b[38;5;241;43m=\u001b[39;49m\u001b[43mfeatures\u001b[49m\u001b[43m,\u001b[49m\n\u001b[0;32m   1828\u001b[0m \u001b[43m    \u001b[49m\u001b[43mtoken\u001b[49m\u001b[38;5;241;43m=\u001b[39;49m\u001b[43mtoken\u001b[49m\u001b[43m,\u001b[49m\n\u001b[0;32m   1829\u001b[0m \u001b[43m    \u001b[49m\u001b[43mstorage_options\u001b[49m\u001b[38;5;241;43m=\u001b[39;49m\u001b[43mstorage_options\u001b[49m\u001b[43m,\u001b[49m\n\u001b[0;32m   1830\u001b[0m \u001b[43m    \u001b[49m\u001b[38;5;241;43m*\u001b[39;49m\u001b[38;5;241;43m*\u001b[39;49m\u001b[43mbuilder_kwargs\u001b[49m\u001b[43m,\u001b[49m\n\u001b[0;32m   1831\u001b[0m \u001b[43m    \u001b[49m\u001b[38;5;241;43m*\u001b[39;49m\u001b[38;5;241;43m*\u001b[39;49m\u001b[43mconfig_kwargs\u001b[49m\u001b[43m,\u001b[49m\n\u001b[0;32m   1832\u001b[0m \u001b[43m\u001b[49m\u001b[43m)\u001b[49m\n\u001b[0;32m   1833\u001b[0m builder_instance\u001b[38;5;241m.\u001b[39m_use_legacy_cache_dir_if_possible(dataset_module)\n\u001b[0;32m   1835\u001b[0m \u001b[38;5;28;01mreturn\u001b[39;00m builder_instance\n",
      "File \u001b[1;32me:\\software\\anaconda3\\envs\\pytorch\\Lib\\site-packages\\datasets\\builder.py:343\u001b[0m, in \u001b[0;36mDatasetBuilder.__init__\u001b[1;34m(self, cache_dir, dataset_name, config_name, hash, base_path, info, features, token, repo_id, data_files, data_dir, storage_options, writer_batch_size, **config_kwargs)\u001b[0m\n\u001b[0;32m    341\u001b[0m     config_kwargs[\u001b[38;5;124m\"\u001b[39m\u001b[38;5;124mdata_dir\u001b[39m\u001b[38;5;124m\"\u001b[39m] \u001b[38;5;241m=\u001b[39m data_dir\n\u001b[0;32m    342\u001b[0m \u001b[38;5;28mself\u001b[39m\u001b[38;5;241m.\u001b[39mconfig_kwargs \u001b[38;5;241m=\u001b[39m config_kwargs\n\u001b[1;32m--> 343\u001b[0m \u001b[38;5;28mself\u001b[39m\u001b[38;5;241m.\u001b[39mconfig, \u001b[38;5;28mself\u001b[39m\u001b[38;5;241m.\u001b[39mconfig_id \u001b[38;5;241m=\u001b[39m \u001b[38;5;28;43mself\u001b[39;49m\u001b[38;5;241;43m.\u001b[39;49m\u001b[43m_create_builder_config\u001b[49m\u001b[43m(\u001b[49m\n\u001b[0;32m    344\u001b[0m \u001b[43m    \u001b[49m\u001b[43mconfig_name\u001b[49m\u001b[38;5;241;43m=\u001b[39;49m\u001b[43mconfig_name\u001b[49m\u001b[43m,\u001b[49m\n\u001b[0;32m    345\u001b[0m \u001b[43m    \u001b[49m\u001b[43mcustom_features\u001b[49m\u001b[38;5;241;43m=\u001b[39;49m\u001b[43mfeatures\u001b[49m\u001b[43m,\u001b[49m\n\u001b[0;32m    346\u001b[0m \u001b[43m    \u001b[49m\u001b[38;5;241;43m*\u001b[39;49m\u001b[38;5;241;43m*\u001b[39;49m\u001b[43mconfig_kwargs\u001b[49m\u001b[43m,\u001b[49m\n\u001b[0;32m    347\u001b[0m \u001b[43m\u001b[49m\u001b[43m)\u001b[49m\n\u001b[0;32m    349\u001b[0m \u001b[38;5;66;03m# prepare info: DatasetInfo are a standardized dataclass across all datasets\u001b[39;00m\n\u001b[0;32m    350\u001b[0m \u001b[38;5;66;03m# Prefill datasetinfo\u001b[39;00m\n\u001b[0;32m    351\u001b[0m \u001b[38;5;28;01mif\u001b[39;00m info \u001b[38;5;129;01mis\u001b[39;00m \u001b[38;5;28;01mNone\u001b[39;00m:\n\u001b[0;32m    352\u001b[0m     \u001b[38;5;66;03m# TODO FOR PACKAGED MODULES IT IMPORTS DATA FROM src/packaged_modules which doesn't make sense\u001b[39;00m\n",
      "File \u001b[1;32me:\\software\\anaconda3\\envs\\pytorch\\Lib\\site-packages\\datasets\\builder.py:598\u001b[0m, in \u001b[0;36mDatasetBuilder._create_builder_config\u001b[1;34m(self, config_name, custom_features, **config_kwargs)\u001b[0m\n\u001b[0;32m    595\u001b[0m     \u001b[38;5;28;01mraise\u001b[39;00m \u001b[38;5;167;01mValueError\u001b[39;00m(\u001b[38;5;124mf\u001b[39m\u001b[38;5;124m\"\u001b[39m\u001b[38;5;124mBuilderConfig must have a name, got \u001b[39m\u001b[38;5;132;01m{\u001b[39;00mbuilder_config\u001b[38;5;241m.\u001b[39mname\u001b[38;5;132;01m}\u001b[39;00m\u001b[38;5;124m\"\u001b[39m)\n\u001b[0;32m    597\u001b[0m \u001b[38;5;66;03m# resolve data files if needed\u001b[39;00m\n\u001b[1;32m--> 598\u001b[0m \u001b[43mbuilder_config\u001b[49m\u001b[38;5;241;43m.\u001b[39;49m\u001b[43m_resolve_data_files\u001b[49m\u001b[43m(\u001b[49m\n\u001b[0;32m    599\u001b[0m \u001b[43m    \u001b[49m\u001b[43mbase_path\u001b[49m\u001b[38;5;241;43m=\u001b[39;49m\u001b[38;5;28;43mself\u001b[39;49m\u001b[38;5;241;43m.\u001b[39;49m\u001b[43mbase_path\u001b[49m\u001b[43m,\u001b[49m\n\u001b[0;32m    600\u001b[0m \u001b[43m    \u001b[49m\u001b[43mdownload_config\u001b[49m\u001b[38;5;241;43m=\u001b[39;49m\u001b[43mDownloadConfig\u001b[49m\u001b[43m(\u001b[49m\u001b[43mtoken\u001b[49m\u001b[38;5;241;43m=\u001b[39;49m\u001b[38;5;28;43mself\u001b[39;49m\u001b[38;5;241;43m.\u001b[39;49m\u001b[43mtoken\u001b[49m\u001b[43m,\u001b[49m\u001b[43m \u001b[49m\u001b[43mstorage_options\u001b[49m\u001b[38;5;241;43m=\u001b[39;49m\u001b[38;5;28;43mself\u001b[39;49m\u001b[38;5;241;43m.\u001b[39;49m\u001b[43mstorage_options\u001b[49m\u001b[43m)\u001b[49m\u001b[43m,\u001b[49m\n\u001b[0;32m    601\u001b[0m \u001b[43m\u001b[49m\u001b[43m)\u001b[49m\n\u001b[0;32m    603\u001b[0m \u001b[38;5;66;03m# compute the config id that is going to be used for caching\u001b[39;00m\n\u001b[0;32m    604\u001b[0m config_id \u001b[38;5;241m=\u001b[39m builder_config\u001b[38;5;241m.\u001b[39mcreate_config_id(\n\u001b[0;32m    605\u001b[0m     config_kwargs,\n\u001b[0;32m    606\u001b[0m     custom_features\u001b[38;5;241m=\u001b[39mcustom_features,\n\u001b[0;32m    607\u001b[0m )\n",
      "File \u001b[1;32me:\\software\\anaconda3\\envs\\pytorch\\Lib\\site-packages\\datasets\\builder.py:207\u001b[0m, in \u001b[0;36mBuilderConfig._resolve_data_files\u001b[1;34m(self, base_path, download_config)\u001b[0m\n\u001b[0;32m    205\u001b[0m \u001b[38;5;28;01mif\u001b[39;00m \u001b[38;5;28misinstance\u001b[39m(\u001b[38;5;28mself\u001b[39m\u001b[38;5;241m.\u001b[39mdata_files, DataFilesPatternsDict):\n\u001b[0;32m    206\u001b[0m     base_path \u001b[38;5;241m=\u001b[39m xjoin(base_path, \u001b[38;5;28mself\u001b[39m\u001b[38;5;241m.\u001b[39mdata_dir) \u001b[38;5;28;01mif\u001b[39;00m \u001b[38;5;28mself\u001b[39m\u001b[38;5;241m.\u001b[39mdata_dir \u001b[38;5;28;01melse\u001b[39;00m base_path\n\u001b[1;32m--> 207\u001b[0m     \u001b[38;5;28mself\u001b[39m\u001b[38;5;241m.\u001b[39mdata_files \u001b[38;5;241m=\u001b[39m \u001b[38;5;28;43mself\u001b[39;49m\u001b[38;5;241;43m.\u001b[39;49m\u001b[43mdata_files\u001b[49m\u001b[38;5;241;43m.\u001b[39;49m\u001b[43mresolve\u001b[49m\u001b[43m(\u001b[49m\u001b[43mbase_path\u001b[49m\u001b[43m,\u001b[49m\u001b[43m \u001b[49m\u001b[43mdownload_config\u001b[49m\u001b[43m)\u001b[49m\n",
      "File \u001b[1;32me:\\software\\anaconda3\\envs\\pytorch\\Lib\\site-packages\\datasets\\data_files.py:788\u001b[0m, in \u001b[0;36mDataFilesPatternsDict.resolve\u001b[1;34m(self, base_path, download_config)\u001b[0m\n\u001b[0;32m    786\u001b[0m out \u001b[38;5;241m=\u001b[39m DataFilesDict()\n\u001b[0;32m    787\u001b[0m \u001b[38;5;28;01mfor\u001b[39;00m key, data_files_patterns_list \u001b[38;5;129;01min\u001b[39;00m \u001b[38;5;28mself\u001b[39m\u001b[38;5;241m.\u001b[39mitems():\n\u001b[1;32m--> 788\u001b[0m     out[key] \u001b[38;5;241m=\u001b[39m \u001b[43mdata_files_patterns_list\u001b[49m\u001b[38;5;241;43m.\u001b[39;49m\u001b[43mresolve\u001b[49m\u001b[43m(\u001b[49m\u001b[43mbase_path\u001b[49m\u001b[43m,\u001b[49m\u001b[43m \u001b[49m\u001b[43mdownload_config\u001b[49m\u001b[43m)\u001b[49m\n\u001b[0;32m    789\u001b[0m \u001b[38;5;28;01mreturn\u001b[39;00m out\n",
      "File \u001b[1;32me:\\software\\anaconda3\\envs\\pytorch\\Lib\\site-packages\\datasets\\data_files.py:751\u001b[0m, in \u001b[0;36mDataFilesPatternsList.resolve\u001b[1;34m(self, base_path, download_config)\u001b[0m\n\u001b[0;32m    749\u001b[0m         \u001b[38;5;28;01mif\u001b[39;00m \u001b[38;5;129;01mnot\u001b[39;00m has_magic(pattern):\n\u001b[0;32m    750\u001b[0m             \u001b[38;5;28;01mraise\u001b[39;00m\n\u001b[1;32m--> 751\u001b[0m origin_metadata \u001b[38;5;241m=\u001b[39m \u001b[43m_get_origin_metadata\u001b[49m\u001b[43m(\u001b[49m\u001b[43mdata_files\u001b[49m\u001b[43m,\u001b[49m\u001b[43m \u001b[49m\u001b[43mdownload_config\u001b[49m\u001b[38;5;241;43m=\u001b[39;49m\u001b[43mdownload_config\u001b[49m\u001b[43m)\u001b[49m\n\u001b[0;32m    752\u001b[0m \u001b[38;5;28;01mreturn\u001b[39;00m DataFilesList(data_files, origin_metadata)\n",
      "File \u001b[1;32me:\\software\\anaconda3\\envs\\pytorch\\Lib\\site-packages\\datasets\\data_files.py:506\u001b[0m, in \u001b[0;36m_get_origin_metadata\u001b[1;34m(data_files, download_config, max_workers)\u001b[0m\n\u001b[0;32m    500\u001b[0m \u001b[38;5;28;01mdef\u001b[39;00m \u001b[38;5;21m_get_origin_metadata\u001b[39m(\n\u001b[0;32m    501\u001b[0m     data_files: \u001b[38;5;28mlist\u001b[39m[\u001b[38;5;28mstr\u001b[39m],\n\u001b[0;32m    502\u001b[0m     download_config: Optional[DownloadConfig] \u001b[38;5;241m=\u001b[39m \u001b[38;5;28;01mNone\u001b[39;00m,\n\u001b[0;32m    503\u001b[0m     max_workers: Optional[\u001b[38;5;28mint\u001b[39m] \u001b[38;5;241m=\u001b[39m \u001b[38;5;28;01mNone\u001b[39;00m,\n\u001b[0;32m    504\u001b[0m ) \u001b[38;5;241m-\u001b[39m\u001b[38;5;241m>\u001b[39m \u001b[38;5;28mlist\u001b[39m[SingleOriginMetadata]:\n\u001b[0;32m    505\u001b[0m     max_workers \u001b[38;5;241m=\u001b[39m max_workers \u001b[38;5;28;01mif\u001b[39;00m max_workers \u001b[38;5;129;01mis\u001b[39;00m \u001b[38;5;129;01mnot\u001b[39;00m \u001b[38;5;28;01mNone\u001b[39;00m \u001b[38;5;28;01melse\u001b[39;00m config\u001b[38;5;241m.\u001b[39mHF_DATASETS_MULTITHREADING_MAX_WORKERS\n\u001b[1;32m--> 506\u001b[0m     \u001b[38;5;28;01mreturn\u001b[39;00m \u001b[43mthread_map\u001b[49m\u001b[43m(\u001b[49m\n\u001b[0;32m    507\u001b[0m \u001b[43m        \u001b[49m\u001b[43mpartial\u001b[49m\u001b[43m(\u001b[49m\u001b[43m_get_single_origin_metadata\u001b[49m\u001b[43m,\u001b[49m\u001b[43m \u001b[49m\u001b[43mdownload_config\u001b[49m\u001b[38;5;241;43m=\u001b[39;49m\u001b[43mdownload_config\u001b[49m\u001b[43m)\u001b[49m\u001b[43m,\u001b[49m\n\u001b[0;32m    508\u001b[0m \u001b[43m        \u001b[49m\u001b[43mdata_files\u001b[49m\u001b[43m,\u001b[49m\n\u001b[0;32m    509\u001b[0m \u001b[43m        \u001b[49m\u001b[43mmax_workers\u001b[49m\u001b[38;5;241;43m=\u001b[39;49m\u001b[43mmax_workers\u001b[49m\u001b[43m,\u001b[49m\n\u001b[0;32m    510\u001b[0m \u001b[43m        \u001b[49m\u001b[43mtqdm_class\u001b[49m\u001b[38;5;241;43m=\u001b[39;49m\u001b[43mhf_tqdm\u001b[49m\u001b[43m,\u001b[49m\n\u001b[0;32m    511\u001b[0m \u001b[43m        \u001b[49m\u001b[43mdesc\u001b[49m\u001b[38;5;241;43m=\u001b[39;49m\u001b[38;5;124;43m\"\u001b[39;49m\u001b[38;5;124;43mResolving data files\u001b[39;49m\u001b[38;5;124;43m\"\u001b[39;49m\u001b[43m,\u001b[49m\n\u001b[0;32m    512\u001b[0m \u001b[43m        \u001b[49m\u001b[38;5;66;43;03m# set `disable=None` rather than `disable=False` by default to disable progress bar when no TTY attached\u001b[39;49;00m\n\u001b[0;32m    513\u001b[0m \u001b[43m        \u001b[49m\u001b[43mdisable\u001b[49m\u001b[38;5;241;43m=\u001b[39;49m\u001b[38;5;28;43mlen\u001b[39;49m\u001b[43m(\u001b[49m\u001b[43mdata_files\u001b[49m\u001b[43m)\u001b[49m\u001b[43m \u001b[49m\u001b[38;5;241;43m<\u001b[39;49m\u001b[38;5;241;43m=\u001b[39;49m\u001b[43m \u001b[49m\u001b[38;5;241;43m16\u001b[39;49m\u001b[43m \u001b[49m\u001b[38;5;129;43;01mor\u001b[39;49;00m\u001b[43m \u001b[49m\u001b[38;5;28;43;01mNone\u001b[39;49;00m\u001b[43m,\u001b[49m\n\u001b[0;32m    514\u001b[0m \u001b[43m    \u001b[49m\u001b[43m)\u001b[49m\n",
      "File \u001b[1;32me:\\software\\anaconda3\\envs\\pytorch\\Lib\\site-packages\\tqdm\\contrib\\concurrent.py:69\u001b[0m, in \u001b[0;36mthread_map\u001b[1;34m(fn, *iterables, **tqdm_kwargs)\u001b[0m\n\u001b[0;32m     55\u001b[0m \u001b[38;5;250m\u001b[39m\u001b[38;5;124;03m\"\"\"\u001b[39;00m\n\u001b[0;32m     56\u001b[0m \u001b[38;5;124;03mEquivalent of `list(map(fn, *iterables))`\u001b[39;00m\n\u001b[0;32m     57\u001b[0m \u001b[38;5;124;03mdriven by `concurrent.futures.ThreadPoolExecutor`.\u001b[39;00m\n\u001b[1;32m   (...)\u001b[0m\n\u001b[0;32m     66\u001b[0m \u001b[38;5;124;03m    [default: max(32, cpu_count() + 4)].\u001b[39;00m\n\u001b[0;32m     67\u001b[0m \u001b[38;5;124;03m\"\"\"\u001b[39;00m\n\u001b[0;32m     68\u001b[0m \u001b[38;5;28;01mfrom\u001b[39;00m \u001b[38;5;21;01mconcurrent\u001b[39;00m\u001b[38;5;21;01m.\u001b[39;00m\u001b[38;5;21;01mfutures\u001b[39;00m \u001b[38;5;28;01mimport\u001b[39;00m ThreadPoolExecutor\n\u001b[1;32m---> 69\u001b[0m \u001b[38;5;28;01mreturn\u001b[39;00m \u001b[43m_executor_map\u001b[49m\u001b[43m(\u001b[49m\u001b[43mThreadPoolExecutor\u001b[49m\u001b[43m,\u001b[49m\u001b[43m \u001b[49m\u001b[43mfn\u001b[49m\u001b[43m,\u001b[49m\u001b[43m \u001b[49m\u001b[38;5;241;43m*\u001b[39;49m\u001b[43miterables\u001b[49m\u001b[43m,\u001b[49m\u001b[43m \u001b[49m\u001b[38;5;241;43m*\u001b[39;49m\u001b[38;5;241;43m*\u001b[39;49m\u001b[43mtqdm_kwargs\u001b[49m\u001b[43m)\u001b[49m\n",
      "File \u001b[1;32me:\\software\\anaconda3\\envs\\pytorch\\Lib\\site-packages\\tqdm\\contrib\\concurrent.py:51\u001b[0m, in \u001b[0;36m_executor_map\u001b[1;34m(PoolExecutor, fn, *iterables, **tqdm_kwargs)\u001b[0m\n\u001b[0;32m     47\u001b[0m \u001b[38;5;28;01mwith\u001b[39;00m ensure_lock(tqdm_class, lock_name\u001b[38;5;241m=\u001b[39mlock_name) \u001b[38;5;28;01mas\u001b[39;00m lk:\n\u001b[0;32m     48\u001b[0m     \u001b[38;5;66;03m# share lock in case workers are already using `tqdm`\u001b[39;00m\n\u001b[0;32m     49\u001b[0m     \u001b[38;5;28;01mwith\u001b[39;00m PoolExecutor(max_workers\u001b[38;5;241m=\u001b[39mmax_workers, initializer\u001b[38;5;241m=\u001b[39mtqdm_class\u001b[38;5;241m.\u001b[39mset_lock,\n\u001b[0;32m     50\u001b[0m                       initargs\u001b[38;5;241m=\u001b[39m(lk,)) \u001b[38;5;28;01mas\u001b[39;00m ex:\n\u001b[1;32m---> 51\u001b[0m         \u001b[38;5;28;01mreturn\u001b[39;00m \u001b[38;5;28;43mlist\u001b[39;49m\u001b[43m(\u001b[49m\u001b[43mtqdm_class\u001b[49m\u001b[43m(\u001b[49m\u001b[43mex\u001b[49m\u001b[38;5;241;43m.\u001b[39;49m\u001b[43mmap\u001b[49m\u001b[43m(\u001b[49m\u001b[43mfn\u001b[49m\u001b[43m,\u001b[49m\u001b[43m \u001b[49m\u001b[38;5;241;43m*\u001b[39;49m\u001b[43miterables\u001b[49m\u001b[43m,\u001b[49m\u001b[43m \u001b[49m\u001b[43mchunksize\u001b[49m\u001b[38;5;241;43m=\u001b[39;49m\u001b[43mchunksize\u001b[49m\u001b[43m)\u001b[49m\u001b[43m,\u001b[49m\u001b[43m \u001b[49m\u001b[38;5;241;43m*\u001b[39;49m\u001b[38;5;241;43m*\u001b[39;49m\u001b[43mkwargs\u001b[49m\u001b[43m)\u001b[49m\u001b[43m)\u001b[49m\n",
      "File \u001b[1;32me:\\software\\anaconda3\\envs\\pytorch\\Lib\\site-packages\\tqdm\\notebook.py:250\u001b[0m, in \u001b[0;36mtqdm_notebook.__iter__\u001b[1;34m(self)\u001b[0m\n\u001b[0;32m    248\u001b[0m \u001b[38;5;28;01mtry\u001b[39;00m:\n\u001b[0;32m    249\u001b[0m     it \u001b[38;5;241m=\u001b[39m \u001b[38;5;28msuper\u001b[39m()\u001b[38;5;241m.\u001b[39m\u001b[38;5;21m__iter__\u001b[39m()\n\u001b[1;32m--> 250\u001b[0m \u001b[43m    \u001b[49m\u001b[38;5;28;43;01mfor\u001b[39;49;00m\u001b[43m \u001b[49m\u001b[43mobj\u001b[49m\u001b[43m \u001b[49m\u001b[38;5;129;43;01min\u001b[39;49;00m\u001b[43m \u001b[49m\u001b[43mit\u001b[49m\u001b[43m:\u001b[49m\n\u001b[0;32m    251\u001b[0m \u001b[43m        \u001b[49m\u001b[38;5;66;43;03m# return super(tqdm...) will not catch exception\u001b[39;49;00m\n\u001b[0;32m    252\u001b[0m \u001b[43m        \u001b[49m\u001b[38;5;28;43;01myield\u001b[39;49;00m\u001b[43m \u001b[49m\u001b[43mobj\u001b[49m\n\u001b[0;32m    253\u001b[0m \u001b[38;5;66;03m# NB: except ... [ as ...] breaks IPython async KeyboardInterrupt\u001b[39;00m\n",
      "File \u001b[1;32me:\\software\\anaconda3\\envs\\pytorch\\Lib\\site-packages\\tqdm\\std.py:1169\u001b[0m, in \u001b[0;36mtqdm.__iter__\u001b[1;34m(self)\u001b[0m\n\u001b[0;32m   1166\u001b[0m \u001b[38;5;66;03m# If the bar is disabled, then just walk the iterable\u001b[39;00m\n\u001b[0;32m   1167\u001b[0m \u001b[38;5;66;03m# (note: keep this check outside the loop for performance)\u001b[39;00m\n\u001b[0;32m   1168\u001b[0m \u001b[38;5;28;01mif\u001b[39;00m \u001b[38;5;28mself\u001b[39m\u001b[38;5;241m.\u001b[39mdisable:\n\u001b[1;32m-> 1169\u001b[0m \u001b[43m    \u001b[49m\u001b[38;5;28;43;01mfor\u001b[39;49;00m\u001b[43m \u001b[49m\u001b[43mobj\u001b[49m\u001b[43m \u001b[49m\u001b[38;5;129;43;01min\u001b[39;49;00m\u001b[43m \u001b[49m\u001b[43miterable\u001b[49m\u001b[43m:\u001b[49m\n\u001b[0;32m   1170\u001b[0m \u001b[43m        \u001b[49m\u001b[38;5;28;43;01myield\u001b[39;49;00m\u001b[43m \u001b[49m\u001b[43mobj\u001b[49m\n\u001b[0;32m   1171\u001b[0m     \u001b[38;5;28;01mreturn\u001b[39;00m\n",
      "File \u001b[1;32me:\\software\\anaconda3\\envs\\pytorch\\Lib\\concurrent\\futures\\_base.py:619\u001b[0m, in \u001b[0;36mExecutor.map.<locals>.result_iterator\u001b[1;34m()\u001b[0m\n\u001b[0;32m    616\u001b[0m \u001b[38;5;28;01mwhile\u001b[39;00m fs:\n\u001b[0;32m    617\u001b[0m     \u001b[38;5;66;03m# Careful not to keep a reference to the popped future\u001b[39;00m\n\u001b[0;32m    618\u001b[0m     \u001b[38;5;28;01mif\u001b[39;00m timeout \u001b[38;5;129;01mis\u001b[39;00m \u001b[38;5;28;01mNone\u001b[39;00m:\n\u001b[1;32m--> 619\u001b[0m         \u001b[38;5;28;01myield\u001b[39;00m \u001b[43m_result_or_cancel\u001b[49m\u001b[43m(\u001b[49m\u001b[43mfs\u001b[49m\u001b[38;5;241;43m.\u001b[39;49m\u001b[43mpop\u001b[49m\u001b[43m(\u001b[49m\u001b[43m)\u001b[49m\u001b[43m)\u001b[49m\n\u001b[0;32m    620\u001b[0m     \u001b[38;5;28;01melse\u001b[39;00m:\n\u001b[0;32m    621\u001b[0m         \u001b[38;5;28;01myield\u001b[39;00m _result_or_cancel(fs\u001b[38;5;241m.\u001b[39mpop(), end_time \u001b[38;5;241m-\u001b[39m time\u001b[38;5;241m.\u001b[39mmonotonic())\n",
      "File \u001b[1;32me:\\software\\anaconda3\\envs\\pytorch\\Lib\\concurrent\\futures\\_base.py:317\u001b[0m, in \u001b[0;36m_result_or_cancel\u001b[1;34m(***failed resolving arguments***)\u001b[0m\n\u001b[0;32m    315\u001b[0m \u001b[38;5;28;01mtry\u001b[39;00m:\n\u001b[0;32m    316\u001b[0m     \u001b[38;5;28;01mtry\u001b[39;00m:\n\u001b[1;32m--> 317\u001b[0m         \u001b[38;5;28;01mreturn\u001b[39;00m \u001b[43mfut\u001b[49m\u001b[38;5;241;43m.\u001b[39;49m\u001b[43mresult\u001b[49m\u001b[43m(\u001b[49m\u001b[43mtimeout\u001b[49m\u001b[43m)\u001b[49m\n\u001b[0;32m    318\u001b[0m     \u001b[38;5;28;01mfinally\u001b[39;00m:\n\u001b[0;32m    319\u001b[0m         fut\u001b[38;5;241m.\u001b[39mcancel()\n",
      "File \u001b[1;32me:\\software\\anaconda3\\envs\\pytorch\\Lib\\concurrent\\futures\\_base.py:456\u001b[0m, in \u001b[0;36mFuture.result\u001b[1;34m(self, timeout)\u001b[0m\n\u001b[0;32m    454\u001b[0m     \u001b[38;5;28;01mraise\u001b[39;00m CancelledError()\n\u001b[0;32m    455\u001b[0m \u001b[38;5;28;01melif\u001b[39;00m \u001b[38;5;28mself\u001b[39m\u001b[38;5;241m.\u001b[39m_state \u001b[38;5;241m==\u001b[39m FINISHED:\n\u001b[1;32m--> 456\u001b[0m     \u001b[38;5;28;01mreturn\u001b[39;00m \u001b[38;5;28;43mself\u001b[39;49m\u001b[38;5;241;43m.\u001b[39;49m\u001b[43m__get_result\u001b[49m\u001b[43m(\u001b[49m\u001b[43m)\u001b[49m\n\u001b[0;32m    457\u001b[0m \u001b[38;5;28;01melse\u001b[39;00m:\n\u001b[0;32m    458\u001b[0m     \u001b[38;5;28;01mraise\u001b[39;00m \u001b[38;5;167;01mTimeoutError\u001b[39;00m()\n",
      "File \u001b[1;32me:\\software\\anaconda3\\envs\\pytorch\\Lib\\concurrent\\futures\\_base.py:401\u001b[0m, in \u001b[0;36mFuture.__get_result\u001b[1;34m(self)\u001b[0m\n\u001b[0;32m    399\u001b[0m \u001b[38;5;28;01mif\u001b[39;00m \u001b[38;5;28mself\u001b[39m\u001b[38;5;241m.\u001b[39m_exception:\n\u001b[0;32m    400\u001b[0m     \u001b[38;5;28;01mtry\u001b[39;00m:\n\u001b[1;32m--> 401\u001b[0m         \u001b[38;5;28;01mraise\u001b[39;00m \u001b[38;5;28mself\u001b[39m\u001b[38;5;241m.\u001b[39m_exception\n\u001b[0;32m    402\u001b[0m     \u001b[38;5;28;01mfinally\u001b[39;00m:\n\u001b[0;32m    403\u001b[0m         \u001b[38;5;66;03m# Break a reference cycle with the exception in self._exception\u001b[39;00m\n\u001b[0;32m    404\u001b[0m         \u001b[38;5;28mself\u001b[39m \u001b[38;5;241m=\u001b[39m \u001b[38;5;28;01mNone\u001b[39;00m\n",
      "File \u001b[1;32me:\\software\\anaconda3\\envs\\pytorch\\Lib\\concurrent\\futures\\thread.py:58\u001b[0m, in \u001b[0;36m_WorkItem.run\u001b[1;34m(self)\u001b[0m\n\u001b[0;32m     55\u001b[0m     \u001b[38;5;28;01mreturn\u001b[39;00m\n\u001b[0;32m     57\u001b[0m \u001b[38;5;28;01mtry\u001b[39;00m:\n\u001b[1;32m---> 58\u001b[0m     result \u001b[38;5;241m=\u001b[39m \u001b[38;5;28;43mself\u001b[39;49m\u001b[38;5;241;43m.\u001b[39;49m\u001b[43mfn\u001b[49m\u001b[43m(\u001b[49m\u001b[38;5;241;43m*\u001b[39;49m\u001b[38;5;28;43mself\u001b[39;49m\u001b[38;5;241;43m.\u001b[39;49m\u001b[43margs\u001b[49m\u001b[43m,\u001b[49m\u001b[43m \u001b[49m\u001b[38;5;241;43m*\u001b[39;49m\u001b[38;5;241;43m*\u001b[39;49m\u001b[38;5;28;43mself\u001b[39;49m\u001b[38;5;241;43m.\u001b[39;49m\u001b[43mkwargs\u001b[49m\u001b[43m)\u001b[49m\n\u001b[0;32m     59\u001b[0m \u001b[38;5;28;01mexcept\u001b[39;00m \u001b[38;5;167;01mBaseException\u001b[39;00m \u001b[38;5;28;01mas\u001b[39;00m exc:\n\u001b[0;32m     60\u001b[0m     \u001b[38;5;28mself\u001b[39m\u001b[38;5;241m.\u001b[39mfuture\u001b[38;5;241m.\u001b[39mset_exception(exc)\n",
      "File \u001b[1;32me:\\software\\anaconda3\\envs\\pytorch\\Lib\\site-packages\\datasets\\data_files.py:485\u001b[0m, in \u001b[0;36m_get_single_origin_metadata\u001b[1;34m(data_file, download_config)\u001b[0m\n\u001b[0;32m    483\u001b[0m fs, \u001b[38;5;241m*\u001b[39m_ \u001b[38;5;241m=\u001b[39m url_to_fs(data_file, \u001b[38;5;241m*\u001b[39m\u001b[38;5;241m*\u001b[39mstorage_options)\n\u001b[0;32m    484\u001b[0m \u001b[38;5;28;01mif\u001b[39;00m \u001b[38;5;28misinstance\u001b[39m(fs, HfFileSystem):\n\u001b[1;32m--> 485\u001b[0m     resolved_path \u001b[38;5;241m=\u001b[39m \u001b[43mfs\u001b[49m\u001b[38;5;241;43m.\u001b[39;49m\u001b[43mresolve_path\u001b[49m\u001b[43m(\u001b[49m\u001b[43mdata_file\u001b[49m\u001b[43m)\u001b[49m\n\u001b[0;32m    486\u001b[0m     \u001b[38;5;28;01mreturn\u001b[39;00m resolved_path\u001b[38;5;241m.\u001b[39mrepo_id, resolved_path\u001b[38;5;241m.\u001b[39mrevision\n\u001b[0;32m    487\u001b[0m \u001b[38;5;28;01melif\u001b[39;00m data_file\u001b[38;5;241m.\u001b[39mstartswith(config\u001b[38;5;241m.\u001b[39mHF_ENDPOINT):\n",
      "File \u001b[1;32me:\\software\\anaconda3\\envs\\pytorch\\Lib\\site-packages\\huggingface_hub\\hf_file_system.py:198\u001b[0m, in \u001b[0;36mHfFileSystem.resolve_path\u001b[1;34m(self, path, revision)\u001b[0m\n\u001b[0;32m    196\u001b[0m     path_in_repo \u001b[38;5;241m=\u001b[39m \u001b[38;5;124m\"\u001b[39m\u001b[38;5;124m\"\u001b[39m\n\u001b[0;32m    197\u001b[0m revision \u001b[38;5;241m=\u001b[39m _align_revision_in_path_with_revision(unquote(revision_in_path), revision)\n\u001b[1;32m--> 198\u001b[0m repo_and_revision_exist, err \u001b[38;5;241m=\u001b[39m \u001b[38;5;28;43mself\u001b[39;49m\u001b[38;5;241;43m.\u001b[39;49m\u001b[43m_repo_and_revision_exist\u001b[49m\u001b[43m(\u001b[49m\u001b[43mrepo_type\u001b[49m\u001b[43m,\u001b[49m\u001b[43m \u001b[49m\u001b[43mrepo_id\u001b[49m\u001b[43m,\u001b[49m\u001b[43m \u001b[49m\u001b[43mrevision\u001b[49m\u001b[43m)\u001b[49m\n\u001b[0;32m    199\u001b[0m \u001b[38;5;28;01mif\u001b[39;00m \u001b[38;5;129;01mnot\u001b[39;00m repo_and_revision_exist:\n\u001b[0;32m    200\u001b[0m     _raise_file_not_found(path, err)\n",
      "File \u001b[1;32me:\\software\\anaconda3\\envs\\pytorch\\Lib\\site-packages\\huggingface_hub\\hf_file_system.py:125\u001b[0m, in \u001b[0;36mHfFileSystem._repo_and_revision_exist\u001b[1;34m(self, repo_type, repo_id, revision)\u001b[0m\n\u001b[0;32m    123\u001b[0m \u001b[38;5;28;01mif\u001b[39;00m (repo_type, repo_id, revision) \u001b[38;5;129;01mnot\u001b[39;00m \u001b[38;5;129;01min\u001b[39;00m \u001b[38;5;28mself\u001b[39m\u001b[38;5;241m.\u001b[39m_repo_and_revision_exists_cache:\n\u001b[0;32m    124\u001b[0m     \u001b[38;5;28;01mtry\u001b[39;00m:\n\u001b[1;32m--> 125\u001b[0m         \u001b[38;5;28;43mself\u001b[39;49m\u001b[38;5;241;43m.\u001b[39;49m\u001b[43m_api\u001b[49m\u001b[38;5;241;43m.\u001b[39;49m\u001b[43mrepo_info\u001b[49m\u001b[43m(\u001b[49m\n\u001b[0;32m    126\u001b[0m \u001b[43m            \u001b[49m\u001b[43mrepo_id\u001b[49m\u001b[43m,\u001b[49m\u001b[43m \u001b[49m\u001b[43mrevision\u001b[49m\u001b[38;5;241;43m=\u001b[39;49m\u001b[43mrevision\u001b[49m\u001b[43m,\u001b[49m\u001b[43m \u001b[49m\u001b[43mrepo_type\u001b[49m\u001b[38;5;241;43m=\u001b[39;49m\u001b[43mrepo_type\u001b[49m\u001b[43m,\u001b[49m\u001b[43m \u001b[49m\u001b[43mtimeout\u001b[49m\u001b[38;5;241;43m=\u001b[39;49m\u001b[43mconstants\u001b[49m\u001b[38;5;241;43m.\u001b[39;49m\u001b[43mHF_HUB_ETAG_TIMEOUT\u001b[49m\n\u001b[0;32m    127\u001b[0m \u001b[43m        \u001b[49m\u001b[43m)\u001b[49m\n\u001b[0;32m    128\u001b[0m     \u001b[38;5;28;01mexcept\u001b[39;00m (RepositoryNotFoundError, HFValidationError) \u001b[38;5;28;01mas\u001b[39;00m e:\n\u001b[0;32m    129\u001b[0m         \u001b[38;5;28mself\u001b[39m\u001b[38;5;241m.\u001b[39m_repo_and_revision_exists_cache[(repo_type, repo_id, revision)] \u001b[38;5;241m=\u001b[39m \u001b[38;5;28;01mFalse\u001b[39;00m, e\n",
      "File \u001b[1;32me:\\software\\anaconda3\\envs\\pytorch\\Lib\\site-packages\\huggingface_hub\\utils\\_validators.py:114\u001b[0m, in \u001b[0;36mvalidate_hf_hub_args.<locals>._inner_fn\u001b[1;34m(*args, **kwargs)\u001b[0m\n\u001b[0;32m    111\u001b[0m \u001b[38;5;28;01mif\u001b[39;00m check_use_auth_token:\n\u001b[0;32m    112\u001b[0m     kwargs \u001b[38;5;241m=\u001b[39m smoothly_deprecate_use_auth_token(fn_name\u001b[38;5;241m=\u001b[39mfn\u001b[38;5;241m.\u001b[39m\u001b[38;5;18m__name__\u001b[39m, has_token\u001b[38;5;241m=\u001b[39mhas_token, kwargs\u001b[38;5;241m=\u001b[39mkwargs)\n\u001b[1;32m--> 114\u001b[0m \u001b[38;5;28;01mreturn\u001b[39;00m \u001b[43mfn\u001b[49m\u001b[43m(\u001b[49m\u001b[38;5;241;43m*\u001b[39;49m\u001b[43margs\u001b[49m\u001b[43m,\u001b[49m\u001b[43m \u001b[49m\u001b[38;5;241;43m*\u001b[39;49m\u001b[38;5;241;43m*\u001b[39;49m\u001b[43mkwargs\u001b[49m\u001b[43m)\u001b[49m\n",
      "File \u001b[1;32me:\\software\\anaconda3\\envs\\pytorch\\Lib\\site-packages\\huggingface_hub\\hf_api.py:2807\u001b[0m, in \u001b[0;36mHfApi.repo_info\u001b[1;34m(self, repo_id, revision, repo_type, timeout, files_metadata, expand, token)\u001b[0m\n\u001b[0;32m   2805\u001b[0m \u001b[38;5;28;01melse\u001b[39;00m:\n\u001b[0;32m   2806\u001b[0m     \u001b[38;5;28;01mraise\u001b[39;00m \u001b[38;5;167;01mValueError\u001b[39;00m(\u001b[38;5;124m\"\u001b[39m\u001b[38;5;124mUnsupported repo type.\u001b[39m\u001b[38;5;124m\"\u001b[39m)\n\u001b[1;32m-> 2807\u001b[0m \u001b[38;5;28;01mreturn\u001b[39;00m \u001b[43mmethod\u001b[49m\u001b[43m(\u001b[49m\n\u001b[0;32m   2808\u001b[0m \u001b[43m    \u001b[49m\u001b[43mrepo_id\u001b[49m\u001b[43m,\u001b[49m\n\u001b[0;32m   2809\u001b[0m \u001b[43m    \u001b[49m\u001b[43mrevision\u001b[49m\u001b[38;5;241;43m=\u001b[39;49m\u001b[43mrevision\u001b[49m\u001b[43m,\u001b[49m\n\u001b[0;32m   2810\u001b[0m \u001b[43m    \u001b[49m\u001b[43mtoken\u001b[49m\u001b[38;5;241;43m=\u001b[39;49m\u001b[43mtoken\u001b[49m\u001b[43m,\u001b[49m\n\u001b[0;32m   2811\u001b[0m \u001b[43m    \u001b[49m\u001b[43mtimeout\u001b[49m\u001b[38;5;241;43m=\u001b[39;49m\u001b[43mtimeout\u001b[49m\u001b[43m,\u001b[49m\n\u001b[0;32m   2812\u001b[0m \u001b[43m    \u001b[49m\u001b[43mexpand\u001b[49m\u001b[38;5;241;43m=\u001b[39;49m\u001b[43mexpand\u001b[49m\u001b[43m,\u001b[49m\u001b[43m  \u001b[49m\u001b[38;5;66;43;03m# type: ignore[arg-type]\u001b[39;49;00m\n\u001b[0;32m   2813\u001b[0m \u001b[43m    \u001b[49m\u001b[43mfiles_metadata\u001b[49m\u001b[38;5;241;43m=\u001b[39;49m\u001b[43mfiles_metadata\u001b[49m\u001b[43m,\u001b[49m\n\u001b[0;32m   2814\u001b[0m \u001b[43m\u001b[49m\u001b[43m)\u001b[49m\n",
      "File \u001b[1;32me:\\software\\anaconda3\\envs\\pytorch\\Lib\\site-packages\\huggingface_hub\\utils\\_validators.py:114\u001b[0m, in \u001b[0;36mvalidate_hf_hub_args.<locals>._inner_fn\u001b[1;34m(*args, **kwargs)\u001b[0m\n\u001b[0;32m    111\u001b[0m \u001b[38;5;28;01mif\u001b[39;00m check_use_auth_token:\n\u001b[0;32m    112\u001b[0m     kwargs \u001b[38;5;241m=\u001b[39m smoothly_deprecate_use_auth_token(fn_name\u001b[38;5;241m=\u001b[39mfn\u001b[38;5;241m.\u001b[39m\u001b[38;5;18m__name__\u001b[39m, has_token\u001b[38;5;241m=\u001b[39mhas_token, kwargs\u001b[38;5;241m=\u001b[39mkwargs)\n\u001b[1;32m--> 114\u001b[0m \u001b[38;5;28;01mreturn\u001b[39;00m \u001b[43mfn\u001b[49m\u001b[43m(\u001b[49m\u001b[38;5;241;43m*\u001b[39;49m\u001b[43margs\u001b[49m\u001b[43m,\u001b[49m\u001b[43m \u001b[49m\u001b[38;5;241;43m*\u001b[39;49m\u001b[38;5;241;43m*\u001b[39;49m\u001b[43mkwargs\u001b[49m\u001b[43m)\u001b[49m\n",
      "File \u001b[1;32me:\\software\\anaconda3\\envs\\pytorch\\Lib\\site-packages\\huggingface_hub\\hf_api.py:2664\u001b[0m, in \u001b[0;36mHfApi.dataset_info\u001b[1;34m(self, repo_id, revision, timeout, files_metadata, expand, token)\u001b[0m\n\u001b[0;32m   2661\u001b[0m \u001b[38;5;28;01mif\u001b[39;00m expand:\n\u001b[0;32m   2662\u001b[0m     params[\u001b[38;5;124m\"\u001b[39m\u001b[38;5;124mexpand\u001b[39m\u001b[38;5;124m\"\u001b[39m] \u001b[38;5;241m=\u001b[39m expand\n\u001b[1;32m-> 2664\u001b[0m r \u001b[38;5;241m=\u001b[39m \u001b[43mget_session\u001b[49m\u001b[43m(\u001b[49m\u001b[43m)\u001b[49m\u001b[38;5;241;43m.\u001b[39;49m\u001b[43mget\u001b[49m\u001b[43m(\u001b[49m\u001b[43mpath\u001b[49m\u001b[43m,\u001b[49m\u001b[43m \u001b[49m\u001b[43mheaders\u001b[49m\u001b[38;5;241;43m=\u001b[39;49m\u001b[43mheaders\u001b[49m\u001b[43m,\u001b[49m\u001b[43m \u001b[49m\u001b[43mtimeout\u001b[49m\u001b[38;5;241;43m=\u001b[39;49m\u001b[43mtimeout\u001b[49m\u001b[43m,\u001b[49m\u001b[43m \u001b[49m\u001b[43mparams\u001b[49m\u001b[38;5;241;43m=\u001b[39;49m\u001b[43mparams\u001b[49m\u001b[43m)\u001b[49m\n\u001b[0;32m   2665\u001b[0m hf_raise_for_status(r)\n\u001b[0;32m   2666\u001b[0m data \u001b[38;5;241m=\u001b[39m r\u001b[38;5;241m.\u001b[39mjson()\n",
      "File \u001b[1;32me:\\software\\anaconda3\\envs\\pytorch\\Lib\\site-packages\\requests\\sessions.py:602\u001b[0m, in \u001b[0;36mSession.get\u001b[1;34m(self, url, **kwargs)\u001b[0m\n\u001b[0;32m    594\u001b[0m \u001b[38;5;250m\u001b[39m\u001b[38;5;124mr\u001b[39m\u001b[38;5;124;03m\"\"\"Sends a GET request. Returns :class:`Response` object.\u001b[39;00m\n\u001b[0;32m    595\u001b[0m \n\u001b[0;32m    596\u001b[0m \u001b[38;5;124;03m:param url: URL for the new :class:`Request` object.\u001b[39;00m\n\u001b[0;32m    597\u001b[0m \u001b[38;5;124;03m:param \\*\\*kwargs: Optional arguments that ``request`` takes.\u001b[39;00m\n\u001b[0;32m    598\u001b[0m \u001b[38;5;124;03m:rtype: requests.Response\u001b[39;00m\n\u001b[0;32m    599\u001b[0m \u001b[38;5;124;03m\"\"\"\u001b[39;00m\n\u001b[0;32m    601\u001b[0m kwargs\u001b[38;5;241m.\u001b[39msetdefault(\u001b[38;5;124m\"\u001b[39m\u001b[38;5;124mallow_redirects\u001b[39m\u001b[38;5;124m\"\u001b[39m, \u001b[38;5;28;01mTrue\u001b[39;00m)\n\u001b[1;32m--> 602\u001b[0m \u001b[38;5;28;01mreturn\u001b[39;00m \u001b[38;5;28;43mself\u001b[39;49m\u001b[38;5;241;43m.\u001b[39;49m\u001b[43mrequest\u001b[49m\u001b[43m(\u001b[49m\u001b[38;5;124;43m\"\u001b[39;49m\u001b[38;5;124;43mGET\u001b[39;49m\u001b[38;5;124;43m\"\u001b[39;49m\u001b[43m,\u001b[49m\u001b[43m \u001b[49m\u001b[43murl\u001b[49m\u001b[43m,\u001b[49m\u001b[43m \u001b[49m\u001b[38;5;241;43m*\u001b[39;49m\u001b[38;5;241;43m*\u001b[39;49m\u001b[43mkwargs\u001b[49m\u001b[43m)\u001b[49m\n",
      "File \u001b[1;32me:\\software\\anaconda3\\envs\\pytorch\\Lib\\site-packages\\requests\\sessions.py:589\u001b[0m, in \u001b[0;36mSession.request\u001b[1;34m(self, method, url, params, data, headers, cookies, files, auth, timeout, allow_redirects, proxies, hooks, stream, verify, cert, json)\u001b[0m\n\u001b[0;32m    584\u001b[0m send_kwargs \u001b[38;5;241m=\u001b[39m {\n\u001b[0;32m    585\u001b[0m     \u001b[38;5;124m\"\u001b[39m\u001b[38;5;124mtimeout\u001b[39m\u001b[38;5;124m\"\u001b[39m: timeout,\n\u001b[0;32m    586\u001b[0m     \u001b[38;5;124m\"\u001b[39m\u001b[38;5;124mallow_redirects\u001b[39m\u001b[38;5;124m\"\u001b[39m: allow_redirects,\n\u001b[0;32m    587\u001b[0m }\n\u001b[0;32m    588\u001b[0m send_kwargs\u001b[38;5;241m.\u001b[39mupdate(settings)\n\u001b[1;32m--> 589\u001b[0m resp \u001b[38;5;241m=\u001b[39m \u001b[38;5;28;43mself\u001b[39;49m\u001b[38;5;241;43m.\u001b[39;49m\u001b[43msend\u001b[49m\u001b[43m(\u001b[49m\u001b[43mprep\u001b[49m\u001b[43m,\u001b[49m\u001b[43m \u001b[49m\u001b[38;5;241;43m*\u001b[39;49m\u001b[38;5;241;43m*\u001b[39;49m\u001b[43msend_kwargs\u001b[49m\u001b[43m)\u001b[49m\n\u001b[0;32m    591\u001b[0m \u001b[38;5;28;01mreturn\u001b[39;00m resp\n",
      "File \u001b[1;32me:\\software\\anaconda3\\envs\\pytorch\\Lib\\site-packages\\requests\\sessions.py:703\u001b[0m, in \u001b[0;36mSession.send\u001b[1;34m(self, request, **kwargs)\u001b[0m\n\u001b[0;32m    700\u001b[0m start \u001b[38;5;241m=\u001b[39m preferred_clock()\n\u001b[0;32m    702\u001b[0m \u001b[38;5;66;03m# Send the request\u001b[39;00m\n\u001b[1;32m--> 703\u001b[0m r \u001b[38;5;241m=\u001b[39m \u001b[43madapter\u001b[49m\u001b[38;5;241;43m.\u001b[39;49m\u001b[43msend\u001b[49m\u001b[43m(\u001b[49m\u001b[43mrequest\u001b[49m\u001b[43m,\u001b[49m\u001b[43m \u001b[49m\u001b[38;5;241;43m*\u001b[39;49m\u001b[38;5;241;43m*\u001b[39;49m\u001b[43mkwargs\u001b[49m\u001b[43m)\u001b[49m\n\u001b[0;32m    705\u001b[0m \u001b[38;5;66;03m# Total elapsed time of the request (approximately)\u001b[39;00m\n\u001b[0;32m    706\u001b[0m elapsed \u001b[38;5;241m=\u001b[39m preferred_clock() \u001b[38;5;241m-\u001b[39m start\n",
      "File \u001b[1;32me:\\software\\anaconda3\\envs\\pytorch\\Lib\\site-packages\\huggingface_hub\\utils\\_http.py:96\u001b[0m, in \u001b[0;36mUniqueRequestIdAdapter.send\u001b[1;34m(self, request, *args, **kwargs)\u001b[0m\n\u001b[0;32m     94\u001b[0m     logger\u001b[38;5;241m.\u001b[39mdebug(\u001b[38;5;124mf\u001b[39m\u001b[38;5;124m\"\u001b[39m\u001b[38;5;124mSend: \u001b[39m\u001b[38;5;132;01m{\u001b[39;00m_curlify(request)\u001b[38;5;132;01m}\u001b[39;00m\u001b[38;5;124m\"\u001b[39m)\n\u001b[0;32m     95\u001b[0m \u001b[38;5;28;01mtry\u001b[39;00m:\n\u001b[1;32m---> 96\u001b[0m     \u001b[38;5;28;01mreturn\u001b[39;00m \u001b[38;5;28;43msuper\u001b[39;49m\u001b[43m(\u001b[49m\u001b[43m)\u001b[49m\u001b[38;5;241;43m.\u001b[39;49m\u001b[43msend\u001b[49m\u001b[43m(\u001b[49m\u001b[43mrequest\u001b[49m\u001b[43m,\u001b[49m\u001b[43m \u001b[49m\u001b[38;5;241;43m*\u001b[39;49m\u001b[43margs\u001b[49m\u001b[43m,\u001b[49m\u001b[43m \u001b[49m\u001b[38;5;241;43m*\u001b[39;49m\u001b[38;5;241;43m*\u001b[39;49m\u001b[43mkwargs\u001b[49m\u001b[43m)\u001b[49m\n\u001b[0;32m     97\u001b[0m \u001b[38;5;28;01mexcept\u001b[39;00m requests\u001b[38;5;241m.\u001b[39mRequestException \u001b[38;5;28;01mas\u001b[39;00m e:\n\u001b[0;32m     98\u001b[0m     request_id \u001b[38;5;241m=\u001b[39m request\u001b[38;5;241m.\u001b[39mheaders\u001b[38;5;241m.\u001b[39mget(X_AMZN_TRACE_ID)\n",
      "File \u001b[1;32me:\\software\\anaconda3\\envs\\pytorch\\Lib\\site-packages\\requests\\adapters.py:698\u001b[0m, in \u001b[0;36mHTTPAdapter.send\u001b[1;34m(self, request, stream, timeout, verify, cert, proxies)\u001b[0m\n\u001b[0;32m    694\u001b[0m         \u001b[38;5;28;01mraise\u001b[39;00m ProxyError(e, request\u001b[38;5;241m=\u001b[39mrequest)\n\u001b[0;32m    696\u001b[0m     \u001b[38;5;28;01mif\u001b[39;00m \u001b[38;5;28misinstance\u001b[39m(e\u001b[38;5;241m.\u001b[39mreason, _SSLError):\n\u001b[0;32m    697\u001b[0m         \u001b[38;5;66;03m# This branch is for urllib3 v1.22 and later.\u001b[39;00m\n\u001b[1;32m--> 698\u001b[0m         \u001b[38;5;28;01mraise\u001b[39;00m SSLError(e, request\u001b[38;5;241m=\u001b[39mrequest)\n\u001b[0;32m    700\u001b[0m     \u001b[38;5;28;01mraise\u001b[39;00m \u001b[38;5;167;01mConnectionError\u001b[39;00m(e, request\u001b[38;5;241m=\u001b[39mrequest)\n\u001b[0;32m    702\u001b[0m \u001b[38;5;28;01mexcept\u001b[39;00m ClosedPoolError \u001b[38;5;28;01mas\u001b[39;00m e:\n",
      "\u001b[1;31mSSLError\u001b[0m: (MaxRetryError(\"HTTPSConnectionPool(host='huggingface.co', port=443): Max retries exceeded with url: /api/datasets/super_glue/revision/3de24cf8022e94f4ee4b9d55a6f539891524d646 (Caused by SSLError(SSLEOFError(8, '[SSL: UNEXPECTED_EOF_WHILE_READING] EOF occurred in violation of protocol (_ssl.c:1000)')))\"), '(Request ID: 99cc6736-8bac-4c62-9ef6-e3b400befa6b)')"
     ]
    }
   ],
   "source": [
    "boolq_dataset = load_dataset(\"super_glue\", \"boolq\")\n",
    "trainset = boolq_dataset[\"train\"]\n",
    "trainset.train_test_split(0.1, stratify_by_column=\"label\") # 按label分层抽样"
   ]
  },
  {
   "cell_type": "markdown",
   "id": "0bfc5a98",
   "metadata": {},
   "source": [
    "##### 功能三：数据选取"
   ]
  },
  {
   "cell_type": "code",
   "execution_count": 29,
   "id": "eeb3ccdf",
   "metadata": {},
   "outputs": [
    {
     "data": {
      "text/plain": [
       "Dataset({\n",
       "    features: ['title', 'content'],\n",
       "    num_rows: 2\n",
       "})"
      ]
     },
     "execution_count": 29,
     "metadata": {},
     "output_type": "execute_result"
    }
   ],
   "source": [
    "dataset[\"train\"].select([0, 1]) # select传递一个sequence就好，如range(100)"
   ]
  },
  {
   "cell_type": "code",
   "execution_count": 30,
   "id": "21874514",
   "metadata": {},
   "outputs": [
    {
     "data": {
      "application/vnd.jupyter.widget-view+json": {
       "model_id": "9f215d22f33e42c7801f352a5e594bfd",
       "version_major": 2,
       "version_minor": 0
      },
      "text/plain": [
       "Filter:   0%|          | 0/5850 [00:00<?, ? examples/s]"
      ]
     },
     "metadata": {},
     "output_type": "display_data"
    }
   ],
   "source": [
    "filter_dataset = dataset[\"train\"].filter(lambda x: \"中国\" in x[\"title\"])\n",
    "filter_dataset[:5]"
   ]
  },
  {
   "cell_type": "markdown",
   "id": "43e93876",
   "metadata": {},
   "source": [
    "##### 功能四：数据映射\n",
    "\n",
    "数据运算之前的预处理，处理成标准化形式"
   ]
  },
  {
   "cell_type": "code",
   "execution_count": 33,
   "id": "d15fdf27",
   "metadata": {},
   "outputs": [],
   "source": [
    "def add_prefix(example):\n",
    "    example[\"title\"] = \"prefix: \" + example[\"title\"]\n",
    "    return example"
   ]
  },
  {
   "cell_type": "code",
   "execution_count": 36,
   "id": "3ed61d73",
   "metadata": {},
   "outputs": [
    {
     "data": {
      "text/plain": [
       "['prefix: 望海楼美国打“台湾牌”是危险的赌博',\n",
       " 'prefix: 大力推进高校治理能力建设',\n",
       " 'prefix: 坚持事业为上选贤任能',\n",
       " 'prefix: “大朋友”的话儿记心头',\n",
       " 'prefix: 用好可持续发展这把“金钥匙”',\n",
       " 'prefix: 跨越雄关，我们走在大路上',\n",
       " 'prefix: 脱贫奇迹彰显政治优势',\n",
       " 'prefix: 拱卫亿万人共同的绿色梦想',\n",
       " 'prefix: 为党育人、为国育才',\n",
       " 'prefix: 净化网络语言',\n",
       " 'prefix: 用心叵测的美国政客哪有资格谈“宗教自由”？',\n",
       " 'prefix: 保卫城市，打响关口战、阵地战、街巷战！',\n",
       " 'prefix: 兼顾疫情防控与社会运转',\n",
       " 'prefix: 人民！人民！一切为了人民！',\n",
       " 'prefix: 以更深层次改革推动构建完整内需体系',\n",
       " 'prefix: 创新传播，放大主流声音',\n",
       " 'prefix: 英勇奋斗的民族精神',\n",
       " 'prefix: 全面推进复工复产要守住安全生产底线',\n",
       " 'prefix: 为国有企业强“根”铸“魂”',\n",
       " 'prefix: 建设廉洁之路是共同价值追求',\n",
       " 'prefix: 让阅读成为一种习惯',\n",
       " 'prefix: 靠什么纾解“基层压力”',\n",
       " 'prefix: 确保长江禁渔取得实效',\n",
       " 'prefix: 致敬战“疫”中的每一个“她”',\n",
       " 'prefix: 脱贫摘帽是新起点',\n",
       " 'prefix: 书写践行初心使命的历史新篇章',\n",
       " 'prefix: 让世界文明百花园群芳竞艳',\n",
       " 'prefix: 让环保压力层层传递',\n",
       " 'prefix: 形式主义官僚主义是我们党的大敌、人民的大敌',\n",
       " 'prefix: 确保全面建成小康社会圆满收官',\n",
       " 'prefix: 上海，让开放成为一种思维方式',\n",
       " 'prefix: 用“四个坚持”引领新时代文艺工作',\n",
       " 'prefix: 聚焦两会，世界探寻中国成功秘诀',\n",
       " 'prefix: 持之以恒为基层减负',\n",
       " 'prefix: “港区国安立法”效应显现，乱港分子回头是岸！',\n",
       " 'prefix: 把高质量发展主题长期坚持下去',\n",
       " 'prefix: 建设人与自然和谐共生的现代化',\n",
       " 'prefix: 新建造，挺起发展的脊梁',\n",
       " 'prefix: 大国肩上都承担着特殊责任',\n",
       " 'prefix: 风雨同舟照初心，团结奋进新征程',\n",
       " 'prefix: 摸清底数是打赢疫情防控战的关键',\n",
       " 'prefix: 以协调、合作、稳定为基调推进中美关系发展',\n",
       " 'prefix: 国际关系岂能退回到野蛮时代',\n",
       " 'prefix: 一以贯之推进党的建设新的伟大工程',\n",
       " 'prefix: 6.1%的经济增速“含金量”高',\n",
       " 'prefix: 望海楼中国经济的信心来自哪里',\n",
       " 'prefix: 钟声文明之光照耀人类命运共同体的未来',\n",
       " 'prefix: “全面胜利”是硬任务',\n",
       " 'prefix: 在抗疫战场共产党员必须冲锋在前',\n",
       " 'prefix: 协同推进乡村治理现代化',\n",
       " 'prefix: 在新时代新征程中奋勇争先建功立业',\n",
       " 'prefix: 以“理论自觉”坚定制度自信',\n",
       " 'prefix: “到位”的深刻启示',\n",
       " 'prefix: 冷战思维当休矣',\n",
       " 'prefix: 准确把握“三农”工作的方位与定位',\n",
       " 'prefix: 大就要有大的样子',\n",
       " 'prefix: 望海楼凝聚起全世界团结合作的抗疫伟力',\n",
       " 'prefix: 无奋斗不青春',\n",
       " 'prefix: 热爱祖国是立身之本成才之基',\n",
       " 'prefix: 拉美人民能够看清谁是真朋友',\n",
       " 'prefix: 坚决打赢脱贫攻坚战，谱写人类反贫困历史新篇章',\n",
       " 'prefix: 以高质量监督促进高质量发展',\n",
       " 'prefix: 让青春为伟大时代绽放',\n",
       " 'prefix: 望海楼海外游子，祖国和你们命运与共',\n",
       " 'prefix: 充分发挥党员干部先锋模范作用',\n",
       " 'prefix: 钟声擘画美美与共的文明互鉴新画卷',\n",
       " 'prefix: 以思想“铸魂”破解“大的难处”',\n",
       " 'prefix: 奋力推动长江经济带迈向高质量发展',\n",
       " 'prefix: 辛识平谢谢你，拼过2020的平凡英雄',\n",
       " 'prefix: 望海楼为国家长治久安为民族万世太平',\n",
       " 'prefix: 望海楼乱港祸港恶行必被国际社会唾弃',\n",
       " 'prefix: 让奋战在一线的医务人员感受到温暖关怀',\n",
       " 'prefix: 城市治理，下足“绣花”功夫',\n",
       " 'prefix: 以非常之功打好这场硬仗',\n",
       " 'prefix: “中国奇迹”助力世界减贫跑出加速度',\n",
       " 'prefix: 历史不能选择，现在可以把握，未来可以开创',\n",
       " 'prefix: 统筹硬件软件建设构建现代流通体系',\n",
       " 'prefix: “时时放心不下”',\n",
       " 'prefix: 优化制度供给办好干部教育培训',\n",
       " 'prefix: 望海楼正告台当局，收回涉港黑手！',\n",
       " 'prefix: 望海楼肩负起国家和民族的希望',\n",
       " 'prefix: 为乡村振兴注入“智慧动力”',\n",
       " 'prefix: 稳住外贸外资基本盘',\n",
       " 'prefix: 深入推进党中央交给上海的三大任务落实',\n",
       " 'prefix: 实现环境治理现代化',\n",
       " 'prefix: 和音瞩目历史交汇点上的中国',\n",
       " 'prefix: 续写“一国两制”成功实践新篇章',\n",
       " 'prefix: 做守家庭美德的好成员',\n",
       " 'prefix: 中国风采感染世界',\n",
       " 'prefix: 世上本无“修昔底德陷阱”',\n",
       " 'prefix: 爱国与家庭健康教育相连',\n",
       " 'prefix: 望海楼更好地展现社会主义制度优越性',\n",
       " 'prefix: 心无旁骛做实业',\n",
       " 'prefix: 钟声坚持用理性面对外部不确定性',\n",
       " 'prefix: 让人工智能为高质量发展添薪续力',\n",
       " 'prefix: 人不负青山，青山定不负人',\n",
       " 'prefix: 望海楼维护国家安全是香港社会的共同责任',\n",
       " 'prefix: 在精神洗礼中牢记初心使命',\n",
       " 'prefix: 一带一路绘就民心相通美好画卷',\n",
       " 'prefix: 任凭风浪起勇开顶风船',\n",
       " 'prefix: 把对上负责与对下负责统一起来',\n",
       " 'prefix: 美妄想在经贸谈判中“唯我独尊”，很不明智！',\n",
       " 'prefix: 以文明交流互鉴助推和平发展',\n",
       " 'prefix: 理论学习要有“攻书”精神',\n",
       " 'prefix: 中国扶贫世界可鉴',\n",
       " 'prefix: 人民日报和音瞩目进博会共享新机遇',\n",
       " 'prefix: 铭记伟大胜利弘扬伟大精神',\n",
       " 'prefix: 坚定信心打赢疫情防控阻击战',\n",
       " 'prefix: 望海楼加快构建中西医结合的应急医疗体系',\n",
       " 'prefix: 健康的心态是防控疫情的“心理口罩”',\n",
       " 'prefix: 在提高抓落实能力中成长成才',\n",
       " 'prefix: 注重减轻基层负担激励干部担当作为',\n",
       " 'prefix: 打破文化交往的壁垒，期待和而不同的世界',\n",
       " 'prefix: 提高领导干部防范化解重大风险能力',\n",
       " 'prefix: 中国梦世界梦',\n",
       " 'prefix: 点亮跨越时空的思想灯塔',\n",
       " 'prefix: 天下一家，推动构建“人类命运共同体”',\n",
       " 'prefix: 在决战中实现决胜',\n",
       " 'prefix: 守土有方积极作为',\n",
       " 'prefix: “一国两制”底线不容挑战',\n",
       " 'prefix: “新门罗主义”不得人心',\n",
       " 'prefix: 我们的繁荣得益于一带一路',\n",
       " 'prefix: “责”字当先荐人才',\n",
       " 'prefix: 做好易地搬迁的“下篇文章”',\n",
       " 'prefix: 坚持“一国两制”',\n",
       " 'prefix: 建筑要有人文之根',\n",
       " 'prefix: 从百年党史中感悟思想伟力',\n",
       " 'prefix: 以生态优先、绿色发展为导向',\n",
       " 'prefix: 将党的自我革命不断深化',\n",
       " 'prefix: 中华民族实现梦想的步伐不可阻挡',\n",
       " 'prefix: “一国两制”原则底线绝不容许触碰',\n",
       " 'prefix: 不断解放和发展社会生产力',\n",
       " 'prefix: 推动国土绿化不断取得实实在在的成效',\n",
       " 'prefix: 用优质平台凝聚“众人之智”',\n",
       " 'prefix: 台湾问题不是美少数反华政客的“翻本筹码”',\n",
       " 'prefix: 加大对虚假广告的惩戒威慑',\n",
       " 'prefix: 决不能亏待“干将”“闯将”',\n",
       " 'prefix: 稳中求进破浪前行',\n",
       " 'prefix: 给子孙后代留下清洁美丽的长江',\n",
       " 'prefix: 大力弘扬脱贫攻坚精神',\n",
       " 'prefix: 人民日报和音珍重生命赢得世界信赖',\n",
       " 'prefix: 正确认识我国发展的重要战略机遇期',\n",
       " 'prefix: 大力选拔忠诚干净担当的优秀干部',\n",
       " 'prefix: 望海楼中国扩大开放诚意十足',\n",
       " 'prefix: 与“新生事物”一起成长',\n",
       " 'prefix: 辛识平只有重诺笃行，才能推动中美经贸磋商不断向前',\n",
       " 'prefix: 成员增至百名！亚投行展现三大吸引力',\n",
       " 'prefix: 从大时空观把握高质量发展科学内涵',\n",
       " 'prefix: 深化团结合作加强全球治理',\n",
       " 'prefix: 发扬越是艰险越向前的斗争精神',\n",
       " 'prefix: 审视“年味”里的文化命题',\n",
       " 'prefix: 乱舞“操纵汇率”大棒用心险恶',\n",
       " 'prefix: 以伟大抗疫精神凝聚民族复兴伟力',\n",
       " 'prefix: 讲好抗疫这堂“大思政课”',\n",
       " 'prefix: 钟声“强制技术转让”是无稽之谈',\n",
       " 'prefix: 奋力推进网络强国建设，开创网信工作新局面',\n",
       " 'prefix: 吸收新鲜血液永葆青春活力',\n",
       " 'prefix: 坚定不移站在历史正确的一边',\n",
       " 'prefix: 香港教育正本清源已刻不容缓',\n",
       " 'prefix: 作好“三个表率”让中央放心让群众满意',\n",
       " 'prefix: 不忘本、不忘恩，不忘其初',\n",
       " 'prefix: 奋楫扬帆正当时',\n",
       " 'prefix: 让“安全水”“放心水”滋润群众新生活',\n",
       " 'prefix: 从人大制度发展史体悟党的初心',\n",
       " 'prefix: 更加开放的中国更加繁荣的世界',\n",
       " 'prefix: 在疫情防控常态化条件下加快恢复生产和生活秩序',\n",
       " 'prefix: 为“劳模学院”点个赞',\n",
       " 'prefix: “教育兴则国家兴”',\n",
       " 'prefix: 多沾点“泥土气”',\n",
       " 'prefix: “血脉”通畅活力足',\n",
       " 'prefix: 乘势而上勇开新局',\n",
       " 'prefix: 没有人是一座孤岛',\n",
       " 'prefix: 把准斗争方向明确斗争任务',\n",
       " 'prefix: 保护劳动者合法权益为复工复产注入新动能',\n",
       " 'prefix: 把为老百姓做好事实事作为检验政绩重要标准',\n",
       " 'prefix: 一场欧盟权力博弈的游戏',\n",
       " 'prefix: 网络安全，既是防线又是底线',\n",
       " 'prefix: 深入贯彻全面从严治党方针',\n",
       " 'prefix: 中国特色粮食安全之路越走越宽广',\n",
       " 'prefix: 不负新时代的光荣使命',\n",
       " 'prefix: 把好环评这道生态保护重要关口',\n",
       " 'prefix: 以“破冰”的决心推进禁毒',\n",
       " 'prefix: 美方“以疆制华”的图谋必将失败',\n",
       " 'prefix: “新基建”助力抗疫情稳增长正当其时',\n",
       " 'prefix: 弘扬伟大抗战精神推进伟大复兴事业',\n",
       " 'prefix: 以加强党的全面领导为统领推进国家治理现代化',\n",
       " 'prefix: 不断培厚创新的沃土',\n",
       " 'prefix: 抓紧抓实基层党组织建设',\n",
       " 'prefix: 让文化在人心中发芽',\n",
       " 'prefix: 依法履责、立规明矩的必要之举',\n",
       " 'prefix: 全面理解地区经济增长目标的合理性',\n",
       " 'prefix: 美方干预中国内政的图谋绝不会得逞',\n",
       " 'prefix: 抓创新不问“出身”',\n",
       " 'prefix: 把良好卫生习惯和生活方式坚持下去',\n",
       " 'prefix: “中国制度”的深厚历史底蕴',\n",
       " 'prefix: 助力贫困人口“进城脱贫”',\n",
       " 'prefix: 当代中国发展进步的根本制度保障',\n",
       " 'prefix: 打好疫情防控的人民战争',\n",
       " 'prefix: 向农民致敬，为丰收颂歌',\n",
       " 'prefix: 基层减负切忌“雷声大雨点小”',\n",
       " 'prefix: 做改革的“挑山工”',\n",
       " 'prefix: 以全面育人扭转片面应试教育倾向',\n",
       " 'prefix: 透过中国开放大门，世界看到了什么？',\n",
       " 'prefix: 坚持在常态化防控中加快推进生产生活秩序全面恢复',\n",
       " 'prefix: 坚决反制奉陪到底',\n",
       " 'prefix: 复工复产需下政策“精准棋”',\n",
       " 'prefix: 增强仁爱之心以百姓心为心',\n",
       " 'prefix: 学术打压于人类进步无益',\n",
       " 'prefix: 人民日报社论为新时代党的历史使命而努力奋斗',\n",
       " 'prefix: 战胜“疫魔”信心比黄金还珍贵',\n",
       " 'prefix: 把八一精神生生不息地传承下去',\n",
       " 'prefix: 战略误判，后果严重',\n",
       " 'prefix: 在矢志奋斗中谱写新时代青春之歌',\n",
       " 'prefix: 虚拟现实技术渐入佳境',\n",
       " 'prefix: 长三角一体化，关键在高质量',\n",
       " 'prefix: 让信用成为市场经济“硬通货”',\n",
       " 'prefix: 常坐坐矮板凳',\n",
       " 'prefix: 好干部是管出来的',\n",
       " 'prefix: 敢闯才有新路',\n",
       " 'prefix: 新优势，激荡内生增长力量',\n",
       " 'prefix: 团结合作是抗击疫情最有力武器',\n",
       " 'prefix: 战胜巨大考验，成就伟大强国',\n",
       " 'prefix: 为世界经济增长带来新的更多机遇',\n",
       " 'prefix: 与香港青年书向暴力说不，守护香港和你们的未来！',\n",
       " 'prefix: 以“全链条”思维保护版权',\n",
       " 'prefix: 以更广泛的全球应对破解治理困境',\n",
       " 'prefix: 互联互通，为世界经济注入活水',\n",
       " 'prefix: 辛识平品味特殊时期的丰收味道',\n",
       " 'prefix: 辛识平这届青年“守护力”，满格！',\n",
       " 'prefix: 人民日报和音志合者，不以山海为远',\n",
       " 'prefix: 亿万人民的共同事业',\n",
       " 'prefix: |高质量发展，让你我生活更美好',\n",
       " 'prefix: 顺应历史潮流的正确抉择',\n",
       " 'prefix: 弘扬多边主义中国坚守至诚如一',\n",
       " 'prefix: 打造既有意义又有意思的思想政治理论课',\n",
       " 'prefix: 筑起坚不可摧的生命防线',\n",
       " 'prefix: 真抓实干做好新阶段“三农”工作',\n",
       " 'prefix: 望海楼关键时期的关键考察',\n",
       " 'prefix: “现场”岂能成“秀场”',\n",
       " 'prefix: 爱港，就捍卫香港法治尊严',\n",
       " 'prefix: 每一个生命都值得尊重每一次努力都值得铭记',\n",
       " 'prefix: 让初心和使命照亮新时代长征路',\n",
       " 'prefix: 严防享乐奢靡之风反弹',\n",
       " 'prefix: 中国经济有底气行稳致远',\n",
       " 'prefix: 精准答好疫情之下复工复产考题',\n",
       " 'prefix: 我们能够战胜任何艰难险阻',\n",
       " 'prefix: 为世界共同繁荣作出更大贡献',\n",
       " 'prefix: 冰雪世界期待中国故事',\n",
       " 'prefix: 在全社会弘扬自强与助残精神',\n",
       " 'prefix: 破解信任赤字共创亚洲和世界美好未来',\n",
       " 'prefix: 请看投机政客何俊仁的真面目',\n",
       " 'prefix: 祝福中国！祝福世界！',\n",
       " 'prefix: 在抗疫中彰显劳动价值',\n",
       " 'prefix: 清明，重温绿叶与根的情感',\n",
       " 'prefix: “独角兽”上市，莫陷概念炒作',\n",
       " 'prefix: 抗战，前所未有的伟大民族觉醒',\n",
       " 'prefix: 同心共筑中国梦',\n",
       " 'prefix: 深入推进全面依法治国',\n",
       " 'prefix: 推进融媒体建设做大做强主流舆论',\n",
       " 'prefix: 冲劲韧劲实劲',\n",
       " 'prefix: 共同绘制精谨细腻的“工笔画”',\n",
       " 'prefix: 引导智库进一步高质量发展',\n",
       " 'prefix: 让乡村振兴蓝图化为壮美现实',\n",
       " 'prefix: 望海楼保持绿色发展战略定力',\n",
       " 'prefix: 守初心，时刻牢记根本宗旨',\n",
       " 'prefix: 激活中国经济高质量发展的巨大空间',\n",
       " 'prefix: 用“好差评”评出好服务',\n",
       " 'prefix: 创造不负时代的人间奇迹',\n",
       " 'prefix: 在党的领导下谋划好“十四五”',\n",
       " 'prefix: 阅读，成就更美好的自我',\n",
       " 'prefix: 自信的底气和前行的力量',\n",
       " 'prefix: 踏平坎坷成大道',\n",
       " 'prefix: “黑暴”裹着“港独”泥沙冲击香港，国安立法刻不容缓',\n",
       " 'prefix: 疫情防控，需要更多“火雷速度”',\n",
       " 'prefix: “形式”在“指尖上”“主义”在“脑袋里”',\n",
       " 'prefix: 全面贯彻新时代党的治藏方略',\n",
       " 'prefix: 巩固拓展减税降费成效',\n",
       " 'prefix: 做好“六稳”工作落实“六保”任务',\n",
       " 'prefix: 中国一定能够“过关”',\n",
       " 'prefix: 有力有序推进“揭榜挂帅”',\n",
       " 'prefix: 以全面从严治党新成效推进国家治理现代化',\n",
       " 'prefix: 疫情防控要坚持全国一盘棋',\n",
       " 'prefix: 望海楼牢牢稳住粮食安全压舱石',\n",
       " 'prefix: 助力抗疫中欧应摒弃噪音无分彼此',\n",
       " 'prefix: 确保香港“一国两制”实践行稳致远的重大举措',\n",
       " 'prefix: 支持中小微企业克服疫情影响',\n",
       " 'prefix: 最大的政绩是造福人民',\n",
       " 'prefix: 做好深入细致的群众工作',\n",
       " 'prefix: 中国同亚欧以及世界共享发展机遇',\n",
       " 'prefix: 坚决反对扶贫领域的形式主义官僚主义',\n",
       " 'prefix: 携手创造更加光明的美好未来',\n",
       " 'prefix: 牢牢把住粮食安全主动权',\n",
       " 'prefix: 以科学精神做好疫情防控工作',\n",
       " 'prefix: 直面挑战，为人类进步事业而奋斗',\n",
       " 'prefix: “反中乱港”的民族败类黎智英必被牢牢钉在历史耻辱柱上',\n",
       " 'prefix: 打赢脱贫攻坚战决胜全面小康',\n",
       " 'prefix: 全面推进政务处分规范化法治化',\n",
       " 'prefix: 冰雪运动为全民健身添彩',\n",
       " 'prefix: 以优良作风推动高质量发展',\n",
       " 'prefix: 新时代中国与世界共享未来',\n",
       " 'prefix: 为共创共享美好幸福生活而努力',\n",
       " 'prefix: 望海楼一带一路为世界带来三重惊喜',\n",
       " 'prefix: 努力培养造就一流思政课教师队伍',\n",
       " 'prefix: 涵养“收放自如”的本领',\n",
       " 'prefix: 用发展的办法解决发展中的问题',\n",
       " 'prefix: 更加开放的中国更多机遇的世界',\n",
       " 'prefix: “把中国人的饭碗牢牢端在自己手中”',\n",
       " 'prefix: 坚决把基层负担减下来',\n",
       " 'prefix: “最美逆行者”抒写人类命运与共的时代篇章',\n",
       " 'prefix: 防疫情不松懈抓发展不动摇',\n",
       " 'prefix: 疫情防控和复工复产考验各地治理能力',\n",
       " 'prefix: 勇立潮头开拓进取',\n",
       " 'prefix: 以改革创新焕发传统文艺魅力',\n",
       " 'prefix: 决不能让这个形势发生逆转',\n",
       " 'prefix: 共产党员，关键时刻冲得上去',\n",
       " 'prefix: 解决疫情第一线问题贵在“精准”',\n",
       " 'prefix: 说说“年代感”',\n",
       " 'prefix: 奋发有为推进高质量发展',\n",
       " 'prefix: 我国能够从容应对全球粮食市场异动',\n",
       " 'prefix: 望海楼让香港社会尽快重回正常轨道',\n",
       " 'prefix: 美国某些人涉港狂妄言行将自食恶果',\n",
       " 'prefix: 未来是属于青年的',\n",
       " 'prefix: 务实功求实效育新机开新局',\n",
       " 'prefix: 筑牢疫情联防联控的坚固防线',\n",
       " 'prefix: 望海楼助残脱贫决胜小康',\n",
       " 'prefix: 人民需要好电影',\n",
       " 'prefix: 不能纵容违法乱象继续破坏香港',\n",
       " 'prefix: 在战疫战贫中淬炼伟大民族精神',\n",
       " 'prefix: 县城如何留住“小镇青年”',\n",
       " 'prefix: 多些“现场干”，少些“会场谈”',\n",
       " 'prefix: 构建新发展格局的三大现实动力',\n",
       " 'prefix: 踏踏实实把民营经济办得更好',\n",
       " 'prefix: 彰显共产党人的信仰底色',\n",
       " 'prefix: 把“阅兵精度”刻在每一个岗位',\n",
       " 'prefix: 中国的饭碗要端在自己手中',\n",
       " 'prefix: 向着中华民族伟大复兴的光辉彼岸奋勇前进',\n",
       " 'prefix: 美国不应将世界经济拖入“衰退陷阱”',\n",
       " 'prefix: 望海楼撑警就是撑香港未来',\n",
       " 'prefix: 在摸爬滚打中增长才干',\n",
       " 'prefix: 着力提升国民经济体系整体效能',\n",
       " 'prefix: 我们应该向沙县小吃学习什么？',\n",
       " 'prefix: 落实“爱国者治港”，保障“一国两制”行稳致远',\n",
       " 'prefix: 科学把握新发展阶段的历史方位',\n",
       " 'prefix: “战略性”贸易保护毫无战略眼光',\n",
       " 'prefix: 通过清理推动法规文件减量提质增效',\n",
       " 'prefix: 望海楼斩断民进党伸向香港的黑手',\n",
       " 'prefix: 推特脸谱真的不要脸面了吗？',\n",
       " 'prefix: 5G，打开巨大发展空间',\n",
       " 'prefix: 为疫情防控筑牢法治堤坝',\n",
       " 'prefix: 望海楼国旗神圣庄严不容侵犯',\n",
       " 'prefix: 加强沟通务实合作促进中欧经济共同发展',\n",
       " 'prefix: 解决实际问题的能力是检验年轻干部的“试金石”',\n",
       " 'prefix: 绑架中国为哪般？',\n",
       " 'prefix: 破除形式主义的“套路”',\n",
       " 'prefix: 在全社会营造浪费可耻、节约为荣的氛围',\n",
       " 'prefix: 让“互联网+”助力寻医问药',\n",
       " 'prefix: 掀起中非友好合作新热潮',\n",
       " 'prefix: 问计于民诠释“人民至上”',\n",
       " 'prefix: 为了湖北继续“拼”',\n",
       " 'prefix: 做党和人民的“骆驼”',\n",
       " 'prefix: 中印相向而行维护边境和平符合双方共同利益',\n",
       " 'prefix: 共享机遇共创未来',\n",
       " 'prefix: 正确对待功过得失',\n",
       " 'prefix: 以人民立场整治群众身边腐败',\n",
       " 'prefix: 把思政课办得越来越好',\n",
       " 'prefix: 百年大党何以风华正茂',\n",
       " 'prefix: 在形成新发展格局中率先突破',\n",
       " 'prefix: 在接续奋斗中书写新的辉煌',\n",
       " 'prefix: 提高生物安全治理能力筑牢国家安全基石',\n",
       " 'prefix: 生命至上是中国抗疫最重要的经验',\n",
       " 'prefix: 心无旁骛努力工作，为党和人民做事',\n",
       " 'prefix: 进一步激发市场蕴藏的活力',\n",
       " 'prefix: 开放共赢的中国方案点亮世界',\n",
       " 'prefix: 中国力量中国精神中国效率的集中展现',\n",
       " 'prefix: 民进党当局莫再阻挡台胞返乡之路',\n",
       " 'prefix: 这次特殊的约谈传递特殊的信号',\n",
       " 'prefix: 以消费结构升级推动构建新发展格局',\n",
       " 'prefix: 开放，感受进博会的“磁场效应”',\n",
       " 'prefix: 新时代中国青年应永怀初心砥砺前行',\n",
       " 'prefix: 为人民创造更美好的生活',\n",
       " 'prefix: 等一等数字时代“走得慢”的人',\n",
       " 'prefix: 严防境外疫情输入警惕不理智言论“误伤”守法归国者',\n",
       " 'prefix: 人民日报清除阴谋论的“政治病毒”',\n",
       " 'prefix: 百尺竿头加把劲，如期打赢脱贫攻坚战',\n",
       " 'prefix: 减负不减责，松绑不松懈',\n",
       " 'prefix: 铸牢使命意识',\n",
       " 'prefix: 钟声共同推进网络空间全球治理',\n",
       " 'prefix: 从并肩战“疫”中感受命运与共',\n",
       " 'prefix: 乡土文化发展文化人有责',\n",
       " 'prefix: 牢牢把握教育改革发展的“九个坚持”',\n",
       " 'prefix: 全体起立，“老师好！”',\n",
       " 'prefix: 莫让谣言与偏见破坏疫情防控',\n",
       " 'prefix: 万众一心、同甘共苦的团结伟力的生动展示',\n",
       " 'prefix: 每个奋斗的你都了不起',\n",
       " 'prefix: 办出中国特色世界一流大学',\n",
       " 'prefix: 向科学要含金量，建设思政“金课”',\n",
       " 'prefix: 辛识平以青春之名，为梦想奔跑',\n",
       " 'prefix: 以新发展格局开创发展新局面',\n",
       " 'prefix: 疫情冲击有多大，取决于如何应对',\n",
       " 'prefix: 扎根扶贫一线的强大力量',\n",
       " 'prefix: 中国经济逆势而上开新局',\n",
       " 'prefix: 打造更加紧密的中非命运共同体',\n",
       " 'prefix: 坚守初心方能继往开来',\n",
       " 'prefix: 巩固疫情防控成果决不能前功尽弃',\n",
       " 'prefix: 某些美国政客的臆想，实属庸人自扰',\n",
       " 'prefix: 解放思想，担当作为',\n",
       " 'prefix: 事实是最好的辟谣者',\n",
       " 'prefix: 快办、省事，“放管服”这么搞很好',\n",
       " 'prefix: “五一”将至切勿“放飞自我”',\n",
       " 'prefix: 锻造真金迎战风雨',\n",
       " 'prefix: 汇聚奋进新征程的强大力量',\n",
       " 'prefix: 守护绵延后世的生态长江',\n",
       " 'prefix: “五一”来了，景区服务要念好“四字诀”',\n",
       " 'prefix: 辛识平全球抗疫刻不容缓',\n",
       " 'prefix: 恩格斯诞辰200年致敬不朽',\n",
       " 'prefix: 激活乡村振兴新动能',\n",
       " 'prefix: 逆大势不可能得民心',\n",
       " 'prefix: 西藏民主改革是历史必然',\n",
       " 'prefix: 风云雷电任叱咤',\n",
       " 'prefix: 辛识平我们如何正确打开“网红”',\n",
       " 'prefix: 不断造福人民',\n",
       " 'prefix: 弥足珍贵的信心和动力',\n",
       " 'prefix: 推动互联网贷款良性创新',\n",
       " 'prefix: 站在人与自然和谐共生的高度谋划经济社会发展',\n",
       " 'prefix: 着力营造风清气正的换届生态',\n",
       " 'prefix: 做好立法监督等工作更好助力经济社会发展和改革攻坚',\n",
       " 'prefix: 群众希望领导干部是啥样',\n",
       " 'prefix: 西部开放新格局带来更多惊喜',\n",
       " 'prefix: 钟声势在必行势不可挡',\n",
       " 'prefix: 让民营企业创造活力充分迸发',\n",
       " 'prefix: 推动新时代中央和国家机关党的建设高质量发展',\n",
       " 'prefix: 稳就业应围绕“实”字做文章',\n",
       " 'prefix: 国内国际双循环畅通经济方能“气血充盈”',\n",
       " 'prefix: 客观认识全球产业链上的中国市场',\n",
       " 'prefix: 不忘合作初心继续携手前进',\n",
       " 'prefix: 人民日报昂扬精神铆足“牛劲”',\n",
       " 'prefix: 望海楼大国外交展现大国担当',\n",
       " 'prefix: 望海楼美国打“香港牌”注定徒劳',\n",
       " 'prefix: 澳门与祖国共繁荣',\n",
       " 'prefix: 震慑“台独”分裂、促进祖国和平统一的法制利剑',\n",
       " 'prefix: 牢牢植根人民，不断造福人民',\n",
       " 'prefix: 从历史文化遗产中感悟和增强文化自信',\n",
       " 'prefix: 阔步走进中国特色社会主义新时代',\n",
       " 'prefix: “国民共进”激发企业活力',\n",
       " 'prefix: 坚定信心，着力办好自己的事',\n",
       " 'prefix: 群众工作要做实做细做到位',\n",
       " 'prefix: 精准落实疫情防控和复工复产各项举措',\n",
       " 'prefix: 为创新发展奠定人才之基',\n",
       " 'prefix: 望海楼志愿，发乎于心的承诺',\n",
       " 'prefix: 读懂总书记对扶贫干部的关怀关注关切',\n",
       " 'prefix: 把家国情怀融入不懈奋斗中',\n",
       " 'prefix: 深化对做好经济工作的规律性认识',\n",
       " 'prefix: 望海楼不知道你是谁，却知道你为了谁',\n",
       " 'prefix: 中国专利申请跃升世界第一可贵在哪',\n",
       " 'prefix: 管网公司成立“牵一发而动全身”',\n",
       " 'prefix: 经常过一过“安检门”',\n",
       " 'prefix: 公平正义的阳光为何普照',\n",
       " 'prefix: 战“疫”这一刻，每个人都是战士',\n",
       " 'prefix: 不忘“一国两制”初心切实维护基本法权威',\n",
       " 'prefix: 海南再次见证中国加大开放的步伐',\n",
       " 'prefix: 汇聚体育的力量',\n",
       " 'prefix: 努力建设更高水平的平安中国',\n",
       " 'prefix: 咬定生态文明建设不放松',\n",
       " 'prefix: 有序有效支持企业复工',\n",
       " 'prefix: 预防青少年网络沉迷刻不容缓',\n",
       " 'prefix: 以现代大流通畅通国内大循环',\n",
       " 'prefix: 推动形成绿色发展方式',\n",
       " 'prefix: 减贫伟大奇迹彰显中国制度优势',\n",
       " 'prefix: 防控疫情要用好大数据',\n",
       " 'prefix: 美国政客打压中企背离法律不得人心',\n",
       " 'prefix: 准确把握新时代巡视工作责任使命',\n",
       " 'prefix: 坚决把思想和行动统一到党中央决策部署上来',\n",
       " 'prefix: 坚定不移贯彻落实新时代党的组织路线',\n",
       " 'prefix: 携手共建一个更美好的世界',\n",
       " 'prefix: 发展社会救助兜底保障民生',\n",
       " 'prefix: 为61秒点赞！为长宁加油！',\n",
       " 'prefix: 改革开放天地宽',\n",
       " 'prefix: 信用建设，让更多人放心消费',\n",
       " 'prefix: 在世园会感悟人与自然的和谐之美',\n",
       " 'prefix: “梦想清单”照见奋斗征程',\n",
       " 'prefix: 加快形成关键核心技术攻坚体制',\n",
       " 'prefix: 为实现全球互惠共享注入“中国力量”',\n",
       " 'prefix: 看清揽炒派破坏香港法治的双面嘴脸',\n",
       " 'prefix: 进取中国博惠世界',\n",
       " 'prefix: 推进香港稳定捍卫国家安全',\n",
       " 'prefix: 辛识平春天，绽放在英雄之城',\n",
       " 'prefix: 扶贫不是让农民都上楼',\n",
       " 'prefix: 不忘来时路，方知向何行',\n",
       " 'prefix: 书写新时代西藏发展新篇章',\n",
       " 'prefix: 在新时代继承和弘扬伟大抗美援朝精神',\n",
       " 'prefix: 把坚持党的全面领导作为首要原则',\n",
       " 'prefix: “一个博物院就是一所大学校”',\n",
       " 'prefix: 做好知心人热心人引路人',\n",
       " 'prefix: 中国抗疫树立人权典范',\n",
       " 'prefix: 以辩证思维看待新发展阶段的新机遇新挑战',\n",
       " 'prefix: 办好思政课讲好思政课',\n",
       " 'prefix: 抗疫精神是中国人民负重前行的强大动力',\n",
       " 'prefix: 积极有序推进复工复产',\n",
       " 'prefix: 在全社会营造浪费可耻节约为荣的氛围',\n",
       " 'prefix: 占补平衡守住耕地保护红线',\n",
       " 'prefix: 肩负起国家和民族的希望',\n",
       " 'prefix: 全面小康，一个民族也不能少',\n",
       " 'prefix: 建设生态文明要算长远账',\n",
       " 'prefix: 让农民远离“资金难”烦恼',\n",
       " 'prefix: 把团结好引导好民营经济人士作为一项重要任务',\n",
       " 'prefix: 夯实新时代平安与法治的基石',\n",
       " 'prefix: “牵妈妈的手”，守望家风报春晖',\n",
       " 'prefix: 走出养生的“保健品误区”',\n",
       " 'prefix: 水岸相连，坚守进退辩证法',\n",
       " 'prefix: 蓬佩奥何以超出世间想象力的底线',\n",
       " 'prefix: 尊崇英雄烈士守护精神家园',\n",
       " 'prefix: 文化繁荣，汇聚精神力量',\n",
       " 'prefix: 全面深化我军院校改革创新',\n",
       " 'prefix: 战“疫”展现国企速度效率',\n",
       " 'prefix: 为世界注入思想的正能量',\n",
       " 'prefix: 万众一心攻坚克难',\n",
       " 'prefix: 把政府的紧日子变成百姓的好日子',\n",
       " 'prefix: 产业为先谋振兴',\n",
       " 'prefix: 建立文物与公众的“超级链接”',\n",
       " 'prefix: 给青春更多飞扬的机会',\n",
       " 'prefix: 促进残疾人全面发展和共同富裕',\n",
       " 'prefix: 宣言光荣属于英雄的中国人民',\n",
       " 'prefix: 以“正确党史观”观党史',\n",
       " 'prefix: 坚定不移维护新疆稳定',\n",
       " 'prefix: “中国道歉论”荒唐之极',\n",
       " 'prefix: “湘西答卷”的深刻启示',\n",
       " 'prefix: 文旅行业恢复发展可有力支撑消费回升',\n",
       " 'prefix: 让党报党刊成为连接党心民心的好帮手',\n",
       " 'prefix: 无论是否回乡，防疫都应有温度',\n",
       " 'prefix: 长征永远在路上',\n",
       " 'prefix: 加强党对经济工作的全面领导',\n",
       " 'prefix: 直播带货不能跨越诚信“红线”',\n",
       " 'prefix: 开展党史学习教育正当其时',\n",
       " 'prefix: 携手合作、互利共赢是唯一正确选择',\n",
       " 'prefix: 坚定信心打赢蓝天保卫战',\n",
       " 'prefix: 汇聚改革发展的“民意地图”',\n",
       " 'prefix: 凝聚建设美丽中国的制度力量',\n",
       " 'prefix: 推动不忘初心牢记使命制度落实落地',\n",
       " 'prefix: 被暴力肆虐的香港经济需要市民齐心去救',\n",
       " 'prefix: 共同描绘历史新阶段的发展蓝图',\n",
       " 'prefix: 迸发新时代爱国主义伟力',\n",
       " 'prefix: 和音推动中欧关系迈向更高水平',\n",
       " 'prefix: 群众笑脸是最好的扶贫成绩单',\n",
       " 'prefix: 坚决实行分区分级精准防控',\n",
       " 'prefix: 美国会在香港问题上玩弄双重标准是错打算盘',\n",
       " 'prefix: 用劳动书写我们的新时代',\n",
       " 'prefix: 攀登！永不止步',\n",
       " 'prefix: 美方不断嚣张喊话，实为自我打气',\n",
       " 'prefix: 严把出口，提升人才培养含金量',\n",
       " 'prefix: 钟声不要逆历史潮流而动',\n",
       " 'prefix: 以党建引领提升物业管理水平',\n",
       " 'prefix: 奋斗是新时代最美的姿态',\n",
       " 'prefix: 让清明吹拂清新文明新风',\n",
       " 'prefix: 科创板投资需要“配套”新思路',\n",
       " 'prefix: 保持流动性合理适度',\n",
       " 'prefix: 充分发挥基层党组织战斗堡垒作用',\n",
       " 'prefix: 事实令欧洲对美心态难再天真',\n",
       " 'prefix: 汇聚起维护国家安全的强大力量',\n",
       " 'prefix: 望海楼美国政客的信用还值几个钱？',\n",
       " 'prefix: 以实干为荣用实绩说话',\n",
       " 'prefix: 登高望远携手前行',\n",
       " 'prefix: 致敬！新时代最可爱的人',\n",
       " 'prefix: 血肉之躯筑成信念的堤坝',\n",
       " 'prefix: 筑牢新基建的“地基”',\n",
       " 'prefix: 世界气象日守护我们的蓝色星球',\n",
       " 'prefix: 深化治理改革为基层放权赋能',\n",
       " 'prefix: 坚定不移贯彻新发展理念',\n",
       " 'prefix: 弘扬革命文化，传承红色基因',\n",
       " 'prefix: 志愿服务筑起抗击疫情的“万里长城”',\n",
       " 'prefix: 国家出手救港维护港人根本福祉',\n",
       " 'prefix: 解放军报社论从伟大抗疫斗争中汲取强军力量',\n",
       " 'prefix: 一场伟大的胜利创造人类减贫史奇迹',\n",
       " 'prefix: 提高灾害防治能力保护人民和国家安全',\n",
       " 'prefix: 庆祝新中国成立70周年的精品力作',\n",
       " 'prefix: 强军征程启新航',\n",
       " 'prefix: 铸就更多“国之重器”',\n",
       " 'prefix: 开启全面建设社会主义现代化国家新征程',\n",
       " 'prefix: 筑牢防灾减灾的“前沿阵地”',\n",
       " 'prefix: 以行动参与爱国卫生运动',\n",
       " 'prefix: 挽紧团结合作的臂膀',\n",
       " 'prefix: 人民日报和音元首外交，凝聚信心与力量',\n",
       " 'prefix: 垃圾分类也是全民战“疫”应尽之责',\n",
       " 'prefix: 凝聚应对挑战的制度力量',\n",
       " 'prefix: 领导干部要多点互联网思维',\n",
       " 'prefix: 以高质量发展为“十四五”开好局',\n",
       " 'prefix: “爱国者治港”，香港才有美好未来',\n",
       " 'prefix: 把“蓝色国土”守护好发展好',\n",
       " 'prefix: 勇于担当甘于奉献',\n",
       " 'prefix: 坚持底线思维，做到有备无患',\n",
       " 'prefix: 高质量高标准建设自由贸易港',\n",
       " 'prefix: 从新时代中国特色大国外交成就中汲取智慧和力量',\n",
       " 'prefix: 为加强完善国家治理提供有力组织保障',\n",
       " 'prefix: 推动新时代文明实践中心建设更进一步',\n",
       " 'prefix: 推动共建“一带一路”实现高质量发展',\n",
       " 'prefix: 让流量时代的阅读更有深度',\n",
       " 'prefix: 决战贫困，要下更大的决心',\n",
       " 'prefix: 维护多边主义的时代强音',\n",
       " 'prefix: 中国经济在不确定的世界创造确定性',\n",
       " 'prefix: 擘画新蓝图开启新征程',\n",
       " 'prefix: 人民日报战疫胶着，“强制休息”也是一种关爱',\n",
       " 'prefix: 为“十四五”规划提供科学依据',\n",
       " 'prefix: 扩大消费，先要让消费者感受到友好',\n",
       " 'prefix: 感恩丰收，展望乡村振兴美景',\n",
       " 'prefix: 望海楼老挝国家主席为何两次到中国“下乡”',\n",
       " 'prefix: 防疫不误农时，固本首在“三农”',\n",
       " 'prefix: 开启中缅友好与合作的新时代',\n",
       " 'prefix: 坚持党的领导做好青年工作',\n",
       " 'prefix: 形成长效机制严格执行制度',\n",
       " 'prefix: 数据重要，获得感更实在',\n",
       " 'prefix: 摒弃“恐美崇美”心态',\n",
       " 'prefix: 发扬斗争精神，勇于担当作为',\n",
       " 'prefix: 培养扎根乡村教育的情怀',\n",
       " 'prefix: 中国好人，凝聚奋进力量',\n",
       " 'prefix: 以务实作风搞好主题教育总结',\n",
       " 'prefix: 擦亮城市品牌金名片',\n",
       " 'prefix: 让文明之光交相辉映',\n",
       " 'prefix: 关键是强担当、抓落实、增本领',\n",
       " 'prefix: 坚持系统观念，握牢发展主动权',\n",
       " 'prefix: 一起做“读书种子”',\n",
       " 'prefix: 领导干部要敢于斗争善于斗争',\n",
       " 'prefix: 开启我国经济高质量发展新征程',\n",
       " 'prefix: 积极作为、珍惜香港、携手前行',\n",
       " 'prefix: 外贸关键指标持续回暖正视压力更要坚定信心',\n",
       " 'prefix: 做科技交流的倡导者实践者',\n",
       " 'prefix: 任何干预香港事务的企图注定失败',\n",
       " 'prefix: 让实体经济壮筋骨上台阶',\n",
       " 'prefix: 让基层干部把更多精力投入到疫情防控第一线',\n",
       " 'prefix: 感受小康进程“中国风”',\n",
       " 'prefix: 携手维护全球公共卫生安全',\n",
       " 'prefix: 凝聚起坚不可摧的民族精神',\n",
       " 'prefix: 为世界经济拓展新的增长空间',\n",
       " 'prefix: 让“蓝色朋友圈”越来越大',\n",
       " 'prefix: 人也是路“走”出来的',\n",
       " 'prefix: 让各国人民共享经济全球化和世界经济增长成果',\n",
       " 'prefix: 望海楼绝不允许任何人在香港恣意妄为',\n",
       " 'prefix: 穿越风雨，撑起中国经济“半壁江山”',\n",
       " 'prefix: 用好抗疫的基层治理经验',\n",
       " 'prefix: 凝聚战胜疫情的全球合力',\n",
       " 'prefix: 做好媒体融合大文章',\n",
       " 'prefix: 建立与疫情防控相适应的经济社会运行秩序',\n",
       " 'prefix: “守的是人民的心”',\n",
       " 'prefix: 做好“治病救人”的后半篇文章',\n",
       " 'prefix: 战“疫”当前，坚信科学理性的力量',\n",
       " 'prefix: 在学习党史中汲取奋进的力量',\n",
       " 'prefix: 让长征精神照亮新时代的精神航标',\n",
       " 'prefix: 久久为功防治土地荒漠化',\n",
       " 'prefix: 把党领导人民创立的社会主义伟大事业世世代代传承下去',\n",
       " 'prefix: 坚持不懈保障和改善民生',\n",
       " 'prefix: 让营商“软”环境培育发展“硬”实力',\n",
       " 'prefix: 中国大市场谁都唱衰不了',\n",
       " 'prefix: 为新职业群体提供更广阔舞台',\n",
       " 'prefix: 涵养研究问题的能力',\n",
       " 'prefix: 紧扣一体化和高质量这两个关键',\n",
       " 'prefix: 在抗疫“两难”抉择中提升治理能力',\n",
       " 'prefix: 我们的党永远年轻',\n",
       " 'prefix: 共绘美美与共的瑰丽画卷',\n",
       " 'prefix: 一堂鲜活生动的新中国历史课',\n",
       " 'prefix: 注重开门抓教育',\n",
       " 'prefix: 重农抓粮的劲头绝不能放松',\n",
       " 'prefix: 打赢脱贫攻坚战，让各族群众都过上好日子',\n",
       " 'prefix: 在新时代发扬伟大五四精神',\n",
       " 'prefix: 继续高质量共建“一带一路”',\n",
       " 'prefix: 散播“政治病毒”的蓬佩奥正把自己变成人类公敌',\n",
       " 'prefix: 在劳动奋斗中彰显中国精神',\n",
       " 'prefix: 把协商民主贯穿履行职能全过程',\n",
       " 'prefix: 将改革进行到底',\n",
       " 'prefix: 方向决定道路，道路决定命运',\n",
       " 'prefix: 抓实学习教育',\n",
       " 'prefix: 融合发展，做大价值增量',\n",
       " 'prefix: 文明对话从未止步科技交流源远流长',\n",
       " 'prefix: 筑起冲不垮的铁壁铜墙',\n",
       " 'prefix: 开拓合作共赢新局面',\n",
       " 'prefix: 确保如期全面建成小康社会',\n",
       " 'prefix: 以综合素养书写精彩人生',\n",
       " 'prefix: 深刻把握新时代坚定理想信念的实践路径',\n",
       " 'prefix: 不断提高政治“三力”加快构建新发展格局',\n",
       " 'prefix: 中国经济的活力澎湃',\n",
       " 'prefix: 理念引领，发展格局深刻变革',\n",
       " 'prefix: 靠山吃山，做足绿色大文章',\n",
       " 'prefix: 民族复兴要一棒接着一棒跑下去',\n",
       " 'prefix: 民政工作关系民生连着民心',\n",
       " 'prefix: 加快构建完整的内需体系',\n",
       " 'prefix: “两个100”映照初心',\n",
       " 'prefix: 礼赞丰收致敬农民迎接小康',\n",
       " 'prefix: 深学细照笃行，让党章铭刻于心',\n",
       " 'prefix: 时刻绷紧疫情防控责任之弦',\n",
       " 'prefix: 为中国特色大国外交提供坚实制度支撑',\n",
       " 'prefix: 汇聚起全民“战疫”的强大力量',\n",
       " 'prefix: 发挥制度优势，坚决打赢疫情防控阻击战',\n",
       " 'prefix: 勇做敢于斗争善于斗争的战士',\n",
       " 'prefix: 认清新时代网络空间治理核心要义',\n",
       " 'prefix: 第三轮反制说到做到',\n",
       " 'prefix: 钟声用偏见筑墙是徒劳的闹剧',\n",
       " 'prefix: 辛识平给亿万人民一个温暖的家',\n",
       " 'prefix: 资本下乡，如何安农富农',\n",
       " 'prefix: 啃下最后硬骨头打赢脱贫攻坚战',\n",
       " 'prefix: 大力弘扬劳模精神劳动精神工匠精神',\n",
       " 'prefix: 同心奔小康奋进新时代',\n",
       " 'prefix: 新时代属于每一个人',\n",
       " 'prefix: 完整准确全面贯彻新发展理念',\n",
       " 'prefix: 切不可松一松、歇一歇',\n",
       " 'prefix: 为党的组织建设提供坚实制度保障',\n",
       " 'prefix: 为建设世界科技强国汇聚磅礴力量',\n",
       " 'prefix: 革命理想高于天',\n",
       " 'prefix: 战“疫”要慎终如始',\n",
       " 'prefix: 抱持事业心态',\n",
       " 'prefix: 以治理精度提升社会温度',\n",
       " 'prefix: 把疫情防控作为当前最重要的工作来抓',\n",
       " 'prefix: 唯信仰和精神永世长存',\n",
       " 'prefix: 奋斗在时代的洪流中',\n",
       " 'prefix: 把保障人民健康放在优先发展的战略位置',\n",
       " 'prefix: 让艰苦奋斗、勤俭节约成为一种常态',\n",
       " 'prefix: 再接再厉做好“六稳”“六保”',\n",
       " 'prefix: 中华文明之光在抗疫中熠熠生辉',\n",
       " 'prefix: “让老百姓都能过上好日子”',\n",
       " 'prefix: 让每个人都可以体面地老去',\n",
       " 'prefix: 为打赢疫情防控战提供司法保障',\n",
       " 'prefix: 以信任化解“邻避效应”',\n",
       " 'prefix: 践行亚洲安全观的时代担当',\n",
       " 'prefix: 全力实现疫情防控阻击战和经济社会发展目标任务的双胜利',\n",
       " 'prefix: 什么是“中日韩+X”合作？',\n",
       " 'prefix: “十四五”，矢志创新攀高峰',\n",
       " 'prefix: 珍爱春光贵在勤',\n",
       " 'prefix: 让中国市场成为世界的市场',\n",
       " 'prefix: 呵护原创精神的火花',\n",
       " 'prefix: 深入打好碧水保卫战',\n",
       " 'prefix: “劳动开创未来”永不过时',\n",
       " 'prefix: 为基层减负，为实干撑腰',\n",
       " 'prefix: 这五年，开放之门越开越大',\n",
       " 'prefix: 郑言沧海横流更显本色',\n",
       " 'prefix: 为政底气从哪儿来',\n",
       " 'prefix: 领导干部要善于发现问题解决问题',\n",
       " 'prefix: 做不负时代重托的担当者',\n",
       " 'prefix: 推动中塞合作迈向更高水平',\n",
       " 'prefix: 顺应市场规律才能助力发展',\n",
       " 'prefix: 中国“高颜值”外贸助推扩大开放',\n",
       " 'prefix: 让教师成为让人羡慕的职业',\n",
       " 'prefix: 共创和平安宁繁荣开放美丽的亚洲和世界',\n",
       " 'prefix: 时代出英雄，人民创伟业',\n",
       " 'prefix: 疫情形势向好更须精准施策',\n",
       " 'prefix: 建设人与自然和谐共生的大美长江',\n",
       " 'prefix: “雷霆手段”要经得起法治推敲',\n",
       " 'prefix: 传承文化留住乡愁',\n",
       " 'prefix: 清新政风不妨从“官场客套”改起',\n",
       " 'prefix: 这就是爱国爱港的青年力量',\n",
       " 'prefix: 像吸铁石一样凝聚各族群众',\n",
       " 'prefix: 民生政策落实贵在“快”“准”“细”上发力',\n",
       " 'prefix: 收回黑手悬崖勒马',\n",
       " 'prefix: 读懂习近平的“新春牵挂”',\n",
       " 'prefix: 惠及群众，释放民生红利',\n",
       " 'prefix: 疯狂暴行令人发指止暴制乱刻不容缓',\n",
       " 'prefix: 资本市场“深改”为长远发展蓄力',\n",
       " 'prefix: 严把返贫关须打好“组合拳”',\n",
       " 'prefix: 涵养几分静气',\n",
       " 'prefix: 为科技事业发展提供坚强政治保证',\n",
       " 'prefix: 甘为育人“铺路石”',\n",
       " 'prefix: 今年经济开局为何平稳向好',\n",
       " 'prefix: 争取疫情拐点，靠“战”不靠“猜”',\n",
       " 'prefix: 望海楼中央始终是澳门坚强后盾',\n",
       " 'prefix: 改革就是要盯住“堵点”“痛点”发力',\n",
       " 'prefix: 京津冀健康状态互认是疫情防控重要节点',\n",
       " 'prefix: 从“接力跑”看初心传承',\n",
       " 'prefix: 建设人民满意的服务型政府',\n",
       " 'prefix: 人民日报钟声中方对中美关系的立场一以贯之',\n",
       " 'prefix: 青年向上，时代向前',\n",
       " 'prefix: 在接待群众来访中践行为民情怀',\n",
       " 'prefix: 望海楼外部势力休想在港为所欲为',\n",
       " 'prefix: 健康码也需“全国一盘棋”',\n",
       " 'prefix: 探火因穷理而不凡',\n",
       " 'prefix: 望海楼不辜负我们这个伟大时代',\n",
       " 'prefix: 以昂扬奋斗姿态开拓发展新局',\n",
       " 'prefix: 只有回应关切才能稳定人心',\n",
       " 'prefix: 北斗“追”星，服务全球，造福人类！',\n",
       " 'prefix: 人民日报钟声空喊“爱人如己”实则自私冷血',\n",
       " 'prefix: 人不负青山青山定不负人',\n",
       " 'prefix: 文明对话，绽放绚丽的亚洲之花',\n",
       " 'prefix: 构建国内循环为主、国内国际互促双循环新格局',\n",
       " 'prefix: 五四运动与中国共产党的诞生',\n",
       " 'prefix: 人民日报钟声朝着解决问题的方向前进了一步',\n",
       " 'prefix: 奋力开创新时代党员教育管理工作新局面',\n",
       " 'prefix: 坚定支持行政长官带领香港特区政府依法施政',\n",
       " 'prefix: 望海楼助港抗疫，中央是香港最坚强后盾',\n",
       " 'prefix: 强国路上谱新篇',\n",
       " 'prefix: 彰显新时代文艺价值和光辉',\n",
       " 'prefix: 众人植树树成林',\n",
       " 'prefix: 有文化，旅程才有吸引力',\n",
       " 'prefix: 十年禁捕是涵养长江生机的德政',\n",
       " 'prefix: 这份“追求宣言”掷地有声',\n",
       " 'prefix: 奋力夺取疫情防控和实现经济社会发展目标双胜利',\n",
       " 'prefix: “五一”假期出游不能放松“安全弦”',\n",
       " 'prefix: 中美博弈，时与势在中国一边',\n",
       " 'prefix: 慎终追远，首重在诚',\n",
       " 'prefix: 为全球制度反腐贡献中国智慧',\n",
       " 'prefix: 用双手创造更加美好的新生活',\n",
       " 'prefix: 科技要自立自强',\n",
       " 'prefix: 70年，中国法律体系逐步健全',\n",
       " 'prefix: 以学习克服事务主义',\n",
       " 'prefix: 立心铸魂兴伟业',\n",
       " 'prefix: 在练就过硬本领中担当时代重任',\n",
       " 'prefix: 大力弘扬科学家精神',\n",
       " 'prefix: 望海楼严惩犯罪分子维护香港法治',\n",
       " 'prefix: 解决好“堵点”“断点”，让复工复产更有底气',\n",
       " 'prefix: 推动中小学生课后服务高质量全覆盖',\n",
       " 'prefix: 在防控疫情斗争中彰显共产党人英雄本色',\n",
       " 'prefix: 坚定不移加强知识产权保护',\n",
       " 'prefix: 谁是非洲的真朋友？中国行动再次给出答案',\n",
       " 'prefix: 把高质量发展同满足人民美好生活需要紧密结合起来',\n",
       " 'prefix: 人民政协为人民，同心战“疫”勇担当',\n",
       " 'prefix: 习近平的长江情缘',\n",
       " 'prefix: 用硬功夫完成硬任务',\n",
       " 'prefix: 钟声从来就没有什么救世主',\n",
       " 'prefix: 辛识平白衣如战袍，字字见仁心',\n",
       " 'prefix: 望海楼推动中朝关系在新时代破浪前进',\n",
       " 'prefix: 总体国家安全观的三重实践价值',\n",
       " 'prefix: 增进全球福祉促进共同繁荣',\n",
       " 'prefix: 深化改革着力激发创新活力',\n",
       " 'prefix: 完整准确全面贯彻新发展理念',\n",
       " 'prefix: 大力弘扬英雄精神',\n",
       " 'prefix: 保障党员权利，激发干事创业动力',\n",
       " 'prefix: 压实责任勇于担当深入一线靠前指挥',\n",
       " 'prefix: 蓬佩奥之流误判了中国更错读了时代',\n",
       " 'prefix: 中拉共克时艰的生动写照',\n",
       " 'prefix: 这份“实”难能可贵',\n",
       " 'prefix: 大考定有“必答题”',\n",
       " 'prefix: 疫情防控仍须持续发力',\n",
       " 'prefix: 答好扫黑除恶的“综合试卷”',\n",
       " 'prefix: 全面提升疫病防控和救治能力',\n",
       " 'prefix: 珍爱和呵护地球是人类的唯一选择',\n",
       " 'prefix: 自立自强造就航天奇迹',\n",
       " 'prefix: 中日韩发出推动多边合作的“东亚强音”',\n",
       " 'prefix: 夯实香港再出发的法治基础',\n",
       " 'prefix: 在利率这件事上，我们看到了中国智慧',\n",
       " 'prefix: 读懂忠诚和初心的时代内涵',\n",
       " 'prefix: 向奋战在疫情防控一线的勇士们致敬',\n",
       " 'prefix: 坚决打好三大攻坚战',\n",
       " 'prefix: 把党领导经济工作的制度优势转化为治理效能',\n",
       " 'prefix: 崇尚英雄模范，凝聚奋进力量',\n",
       " 'prefix: 这是一个历史性的时刻',\n",
       " 'prefix: 人民日报社论凝心聚力决胜全面小康',\n",
       " 'prefix: 数字经济启动发展新引擎',\n",
       " 'prefix: 共襄复兴伟业奋进崭新征程',\n",
       " 'prefix: 年轻干部要勇于破解难题',\n",
       " 'prefix: 今天，让我们重温觉醒的力量',\n",
       " 'prefix: 共绘澳门美好发展蓝图',\n",
       " 'prefix: “爱国者治港”利好青少年成长成才',\n",
       " 'prefix: 环评报告造假，环保红线抓瞎',\n",
       " 'prefix: 决不能让来之不易的持续向好形势发生逆转',\n",
       " 'prefix: 法治建设的里程碑',\n",
       " 'prefix: “充实而有光辉之谓大”',\n",
       " 'prefix: 让清新务实会风吹拂下去',\n",
       " 'prefix: 钟声干涉内政绝不能得逞',\n",
       " 'prefix: 金融控股公司新规补制度短板',\n",
       " 'prefix: 和音感知中国式民主的生动实践',\n",
       " 'prefix: 蓬佩奥的谎言与迷失的美利坚',\n",
       " 'prefix: 推动机关党的建设高质量发展',\n",
       " 'prefix: 美国贸易霸凌主义终将自食苦果',\n",
       " 'prefix: 重心下沉求解常态化疫情防控与复工复产的最大公约数',\n",
       " 'prefix: 扎牢安全生产的“篱笆”',\n",
       " 'prefix: 凝聚共同做好思政工作的育人合力',\n",
       " 'prefix: 采取有效措施把黑土地保护好利用好',\n",
       " 'prefix: 良法善治引领美好生活',\n",
       " 'prefix: 望海楼面向未来，中国有底气有豪气',\n",
       " 'prefix: 奋力开创新时代机构编制工作新局面',\n",
       " 'prefix: 新理念构筑中国发展厚实的底气',\n",
       " 'prefix: 自信，所以我们无惧无畏',\n",
       " 'prefix: 中俄深度融通、合作共赢的典范',\n",
       " 'prefix: 北京世园会，一场绿色的盛会',\n",
       " 'prefix: 再问美国政客，这就是你们说的人权吗',\n",
       " 'prefix: 创造人类减贫史上的中国奇迹',\n",
       " 'prefix: 以理想信念塑造挺拔灵魂',\n",
       " 'prefix: 搞好调查研究',\n",
       " 'prefix: 修身立德走好人生路',\n",
       " 'prefix: 精准有序扎实推动复工复产',\n",
       " 'prefix: 紧密合作携手应对',\n",
       " 'prefix: 没有全民健康，就没有全面小康',\n",
       " 'prefix: 有的放矢精准问责',\n",
       " 'prefix: 将改革开放进行到底',\n",
       " 'prefix: 提速降费，升级数字中国',\n",
       " 'prefix: 反暴力护法治促和谐',\n",
       " 'prefix: 促进内地与香港经济社会繁荣发展',\n",
       " 'prefix: 在祖国最需要的地方书写别样人生',\n",
       " 'prefix: 保持“乘风破浪”的姿态',\n",
       " 'prefix: 共迎机遇携手新程',\n",
       " 'prefix: 以新担当新作为做好新时代宣传思想工作',\n",
       " 'prefix: 学和做结合查和改贯通',\n",
       " 'prefix: 不做以权谋私、蜕化变质的贪官',\n",
       " 'prefix: 把复工复产与扩大内需结合起来形成供需良性互动',\n",
       " 'prefix: 共建繁荣、清洁、美丽的世界',\n",
       " 'prefix: 擦亮人民军医的金字招牌',\n",
       " 'prefix: 让中小微企业走出困境政府、金融和企业须拧成一股绳',\n",
       " 'prefix: 中美抗疫合作应相向而行',\n",
       " 'prefix: 抓落实，埋头苦干解决难题',\n",
       " 'prefix: 慎终追远砥砺前行',\n",
       " 'prefix: 为精准扶贫涵养源头活水',\n",
       " 'prefix: 五四运动的划时代意义',\n",
       " 'prefix: 从“砍树人”到“看树人”',\n",
       " 'prefix: 致敬战“疫”中的凡人善举',\n",
       " 'prefix: 开放共享，让发展成果惠及更多国家',\n",
       " 'prefix: 人民日报钟声在气候环境问题上指责中方是无理的',\n",
       " 'prefix: 煽动暴乱的恶行必将被国际社会唾弃',\n",
       " 'prefix: 着眼大局认清形势“稳”字当头谋划工作',\n",
       " 'prefix: 在台湾问题上耍弄心机注定打错算盘',\n",
       " 'prefix: 辛识平《山海情》爆火启示了什么',\n",
       " 'prefix: 这组持续一个月的报道，其背后深意终于揭晓了',\n",
       " 'prefix: 在抗疫斗争中感悟制度威力',\n",
       " 'prefix: 为世界经济发展把握正确方向',\n",
       " 'prefix: 努力建设中国特色中国风格中国气派的考古学',\n",
       " 'prefix: 守正创新推动宣传思想工作不断强起来',\n",
       " 'prefix: “疫”中人，开往“春天”的高铁',\n",
       " 'prefix: 从全局高度准确把握和积极推进构建新发展格局',\n",
       " 'prefix: 共护共度平安温暖中国年',\n",
       " 'prefix: 顺应互利共赢世界潮',\n",
       " 'prefix: 自强的身影多动人',\n",
       " 'prefix: 中国开放的大门越开越大',\n",
       " 'prefix: 把医患共情的精神力量传递下去',\n",
       " 'prefix: 尊重和关爱是最好的礼物',\n",
       " 'prefix: 利用区块链技术赋能政务服务创新',\n",
       " 'prefix: 靠创新力量支撑共享经济更好发展',\n",
       " 'prefix: 善于化危为机捕捉创造机遇',\n",
       " 'prefix: 为乡村振兴提供有力制度保障',\n",
       " 'prefix: 老老实实读原著',\n",
       " 'prefix: 以更高水平开放构建新发展格局',\n",
       " 'prefix: 全面提高依法防控依法治理能力',\n",
       " 'prefix: 学习宪法尊崇宪法',\n",
       " 'prefix: 让滇池重现“高原明珠”风采',\n",
       " 'prefix: 为基层降压减负，为实干加油鼓劲',\n",
       " 'prefix: 着力培养忠诚干净担当的高素质干部',\n",
       " 'prefix: 推动形成社会主义家庭文明新风尚',\n",
       " 'prefix: 新疆的命运始终与伟大祖国紧密相连',\n",
       " 'prefix: 铸牢中华民族共同体意识',\n",
       " 'prefix: 中国疫苗“入世”意义非凡',\n",
       " 'prefix: 在守正创新中坚定制度自信',\n",
       " 'prefix: 把握推进纪检监察工作高质量发展的科学方法',\n",
       " 'prefix: 筑牢美好生活的安全底线',\n",
       " 'prefix: 吃野味？一刀切！',\n",
       " 'prefix: 为战疫中的企业担当点赞',\n",
       " 'prefix: 中国内政不容干涉',\n",
       " 'prefix: 让乡村文化真正活起来',\n",
       " 'prefix: 精益求精地争速度抓进度',\n",
       " 'prefix: 听，超级IP的中国诉说',\n",
       " 'prefix: 让南水永续润泽北方大地',\n",
       " 'prefix: 常治无患之患',\n",
       " 'prefix: 聚天下英才而用之',\n",
       " 'prefix: 包容呵护新职业健康发展',\n",
       " 'prefix: 勇于自我革命，战胜风险挑战',\n",
       " 'prefix: 美国政客的胡乱决策正在拖垮世界',\n",
       " 'prefix: 民族要复兴乡村必振兴',\n",
       " 'prefix: 大疫当前，不能伤了“摆渡人”',\n",
       " 'prefix: 岁末年初尤其要严把安全生产关',\n",
       " 'prefix: 从党史中感悟艰苦卓绝',\n",
       " 'prefix: 走好新时代乡村振兴路',\n",
       " 'prefix: 担负起防治污染的主体责任',\n",
       " 'prefix: 全面加强知识产权保护工作',\n",
       " 'prefix: 开辟共商共建共享的全球治理之道',\n",
       " 'prefix: 推广分餐制要让制度细化可操作',\n",
       " 'prefix: 辩证看，信心增',\n",
       " 'prefix: 望海楼唯有团结，人类方能战胜病毒',\n",
       " 'prefix: 汲取中印文明“和”的养分',\n",
       " 'prefix: 推动全面深化改革向纵深发展',\n",
       " 'prefix: 让建设美丽家园成为文明自觉',\n",
       " 'prefix: 冷战思维，荒诞逻辑',\n",
       " 'prefix: 把慕课打造成提升高等教育质量的“金课”',\n",
       " 'prefix: 中国经济稳中向好何以让世界惊叹',\n",
       " 'prefix: 望海楼全面把握“两个大局”',\n",
       " 'prefix: 时刻敞开心中的那扇门',\n",
       " 'prefix: 治治“官场敷衍病”',\n",
       " 'prefix: 练就斗争的真本领真功夫',\n",
       " 'prefix: 揭穿“反中乱港”分子卖港卖国的真面目',\n",
       " 'prefix: 谱写新时代的青春之歌',\n",
       " 'prefix: 以更紧密的全球合作回应时代课题',\n",
       " 'prefix: 增强紧迫感，打赢攻坚战',\n",
       " 'prefix: 守护人民生命健康',\n",
       " 'prefix: 稳中有进的中国经济有条件实现预期目标',\n",
       " 'prefix: 加强新时代高校思想政治工作',\n",
       " 'prefix: 把稳增长放在更突出位置',\n",
       " 'prefix: 借助“疫情大考”补齐公司治理短板',\n",
       " 'prefix: 在做好疫情防控同时抓好春耕备耕',\n",
       " 'prefix: 让学生成为思政课“铁杆粉丝”',\n",
       " 'prefix: 政府过“紧日子”要成为常态',\n",
       " 'prefix: 美国是最大的网络窃密者',\n",
       " 'prefix: 更高水平开放创造更多“中国红利”',\n",
       " 'prefix: 防止脱贫攻坚虚假招式',\n",
       " 'prefix: 望海楼人民是真正的英雄，是战胜疫情的根本力量',\n",
       " 'prefix: 中国经济发展前景一定会更加光明',\n",
       " 'prefix: 在防控第一线考察识别评价使用干部',\n",
       " 'prefix: 中国自信激荡复兴力',\n",
       " 'prefix: 新时代呼唤着杰出的文学家、艺术家',\n",
       " 'prefix: 为实现中国梦贡献青春和力量',\n",
       " 'prefix: 从“万金油”到“金刚钻”',\n",
       " 'prefix: 把初心融入为人民谋幸福中',\n",
       " 'prefix: 不忘合作初心凝聚奋斗力量',\n",
       " 'prefix: 汇聚构建人类命运共同体的文化合力',\n",
       " 'prefix: 以制度自信推进制度建设',\n",
       " 'prefix: 我们需要比自我“更大的东西”',\n",
       " 'prefix: 打赢这场疫情防控的人民战争',\n",
       " 'prefix: 让青春在强国伟业中燃烧',\n",
       " 'prefix: 推动澳门各项建设事业跃上新台阶',\n",
       " 'prefix: 将证券监管政治化损人害己',\n",
       " 'prefix: 美国鹰派贩卖“恐中”用心卑劣',\n",
       " 'prefix: 打造创新驱动新引擎',\n",
       " ...]"
      ]
     },
     "execution_count": 36,
     "metadata": {},
     "output_type": "execute_result"
    }
   ],
   "source": [
    "prefix_dataset = dataset.map(add_prefix)\n",
    "prefix_dataset[\"train\"][\"title\"]"
   ]
  },
  {
   "cell_type": "code",
   "execution_count": 40,
   "id": "b104a69f",
   "metadata": {},
   "outputs": [],
   "source": [
    "from transformers import AutoTokenizer\n",
    "\n",
    "tokenizer = AutoTokenizer.from_pretrained(\"hfl/chinese-macbert-base\")\n",
    "def process_func(examples):\n",
    "    inputs = tokenizer(examples[\"content\"], max_length=512, truncation=True, padding=\"max_length\")\n",
    "    labels = tokenizer(examples[\"title\"], max_length=32, truncation=True, padding=\"max_length\")\n",
    "    inputs[\"labels\"] = labels[\"input_ids\"]\n",
    "    return inputs"
   ]
  },
  {
   "cell_type": "code",
   "execution_count": 41,
   "id": "9b9fbd70",
   "metadata": {},
   "outputs": [
    {
     "data": {
      "application/vnd.jupyter.widget-view+json": {
       "model_id": "14a94080a88e4cc4a555f422c4472369",
       "version_major": 2,
       "version_minor": 0
      },
      "text/plain": [
       "Map:   0%|          | 0/5850 [00:00<?, ? examples/s]"
      ]
     },
     "metadata": {},
     "output_type": "display_data"
    },
    {
     "data": {
      "application/vnd.jupyter.widget-view+json": {
       "model_id": "c757593b843b4f969d28f24be662e5df",
       "version_major": 2,
       "version_minor": 0
      },
      "text/plain": [
       "Map:   0%|          | 0/1679 [00:00<?, ? examples/s]"
      ]
     },
     "metadata": {},
     "output_type": "display_data"
    }
   ],
   "source": [
    "tokenized_data = dataset.map(process_func, batched=True, remove_columns=dataset[\"train\"].column_names)"
   ]
  },
  {
   "cell_type": "markdown",
   "id": "79bbbaf9",
   "metadata": {},
   "source": [
    "##### 功能五：保存和加载"
   ]
  },
  {
   "cell_type": "code",
   "execution_count": 43,
   "id": "e7bd3c31",
   "metadata": {},
   "outputs": [
    {
     "data": {
      "application/vnd.jupyter.widget-view+json": {
       "model_id": "86ae1f73bab846f6b20be87e7fe8bd36",
       "version_major": 2,
       "version_minor": 0
      },
      "text/plain": [
       "Saving the dataset (0/1 shards):   0%|          | 0/5850 [00:00<?, ? examples/s]"
      ]
     },
     "metadata": {},
     "output_type": "display_data"
    },
    {
     "data": {
      "application/vnd.jupyter.widget-view+json": {
       "model_id": "13939d7f4a25434293eeb01cd3182ad7",
       "version_major": 2,
       "version_minor": 0
      },
      "text/plain": [
       "Saving the dataset (0/1 shards):   0%|          | 0/1679 [00:00<?, ? examples/s]"
      ]
     },
     "metadata": {},
     "output_type": "display_data"
    }
   ],
   "source": [
    "tokenized_data.save_to_disk(\"../../datas/datacache\")"
   ]
  },
  {
   "cell_type": "code",
   "execution_count": 44,
   "id": "3d178567",
   "metadata": {},
   "outputs": [],
   "source": [
    "from datasets import DatasetDict\n",
    "tokenized_data = DatasetDict.load_from_disk(\"../../datas/datacache\")"
   ]
  },
  {
   "cell_type": "code",
   "execution_count": 53,
   "id": "81b9fbcf",
   "metadata": {},
   "outputs": [
    {
     "data": {
      "text/plain": [
       "Dataset({\n",
       "    features: ['text'],\n",
       "    num_rows: 2\n",
       "})"
      ]
     },
     "execution_count": 53,
     "metadata": {},
     "output_type": "execute_result"
    }
   ],
   "source": [
    "# 从其它形式数据加载\n",
    "import pandas as pd\n",
    "\n",
    "# 从dataframe中创建\n",
    "data = pd.read_csv(\"../../datas/ChnSentiCorp_htl_all.csv\")\n",
    "dataset = Dataset.from_pandas(data)\n",
    "\n",
    "# 从列表创建\n",
    "data = [{\"text\": \"abc\"}, {\"text\": \"def\"}]\n",
    "Dataset.from_list(data)"
   ]
  },
  {
   "cell_type": "markdown",
   "id": "d261edab",
   "metadata": {},
   "source": []
  },
  {
   "cell_type": "markdown",
   "id": "ea3cf5a6",
   "metadata": {},
   "source": [
    "# 示例"
   ]
  },
  {
   "cell_type": "markdown",
   "id": "6824b935",
   "metadata": {},
   "source": [
    "##### step1 导包"
   ]
  },
  {
   "cell_type": "code",
   "execution_count": 38,
   "id": "fcf7e9fb",
   "metadata": {},
   "outputs": [],
   "source": [
    "from transformers import AutoTokenizer, AutoModelForSequenceClassification, DataCollatorWithPadding\n",
    "from datasets import load_dataset\n",
    "import torch"
   ]
  },
  {
   "cell_type": "markdown",
   "id": "9f39c844",
   "metadata": {},
   "source": [
    "##### step2 加载数据"
   ]
  },
  {
   "cell_type": "code",
   "execution_count": 39,
   "id": "52ce3a99",
   "metadata": {},
   "outputs": [],
   "source": [
    "dataset = load_dataset(\"csv\", data_files=\"../../datas/ChnSentiCorp_htl_all.csv\", split=\"train\")"
   ]
  },
  {
   "cell_type": "code",
   "execution_count": 40,
   "id": "6cab9485",
   "metadata": {},
   "outputs": [],
   "source": [
    "dataset = dataset.filter(lambda x: x[\"review\"] is not None)\n",
    "dataset = dataset.train_test_split(0.1)"
   ]
  },
  {
   "cell_type": "markdown",
   "id": "96186596",
   "metadata": {},
   "source": [
    "##### step3 数据预处理"
   ]
  },
  {
   "cell_type": "code",
   "execution_count": 41,
   "id": "b3b2edc5",
   "metadata": {},
   "outputs": [],
   "source": [
    "tokenizer = AutoTokenizer.from_pretrained(\"./models/rbt3\")"
   ]
  },
  {
   "cell_type": "code",
   "execution_count": 43,
   "id": "48b4e98a",
   "metadata": {},
   "outputs": [
    {
     "data": {
      "text/plain": [
       "{'label': 1,\n",
       " 'review': '总体感觉不错,房间很温馨,考虑到丽江温差大,床铺还用了电热毯.服务员态度好,每次进出都会主动打招呼.唯一不足是热水不稳定,空调不够暖和.早餐定在阳光和酒,不知道是否是连锁的,第二天去大理,居然在逛洋人街的时候也看到了阳光和酒的酒吧.不嘈杂还有表演,酒味歌唱都不错.'}"
      ]
     },
     "execution_count": 43,
     "metadata": {},
     "output_type": "execute_result"
    }
   ],
   "source": [
    "dataset[\"train\"][0]"
   ]
  },
  {
   "cell_type": "code",
   "execution_count": 50,
   "id": "082a8e9d",
   "metadata": {},
   "outputs": [],
   "source": [
    "def process_func(examples):\n",
    "    inputs = tokenizer(\n",
    "        examples[\"review\"],\n",
    "        max_length=128,\n",
    "        truncation=True,\n",
    "        padding=True,\n",
    "        return_tensors=\"pt\")\n",
    "    inputs[\"labels\"] = examples[\"label\"]\n",
    "    return inputs"
   ]
  },
  {
   "cell_type": "code",
   "execution_count": 51,
   "id": "4950e806",
   "metadata": {},
   "outputs": [
    {
     "data": {
      "application/vnd.jupyter.widget-view+json": {
       "model_id": "dc859af1a67041488c92cbd2cf27ae5e",
       "version_major": 2,
       "version_minor": 0
      },
      "text/plain": [
       "Map:   0%|          | 0/6988 [00:00<?, ? examples/s]"
      ]
     },
     "metadata": {},
     "output_type": "display_data"
    },
    {
     "data": {
      "application/vnd.jupyter.widget-view+json": {
       "model_id": "9b0c41a112844499986c97dcbb5c098d",
       "version_major": 2,
       "version_minor": 0
      },
      "text/plain": [
       "Map:   0%|          | 0/777 [00:00<?, ? examples/s]"
      ]
     },
     "metadata": {},
     "output_type": "display_data"
    }
   ],
   "source": [
    "tokenized_data = dataset.map(process_func, batched=True, remove_columns=dataset[\"train\"].column_names)"
   ]
  },
  {
   "cell_type": "code",
   "execution_count": 54,
   "id": "ea8b031b",
   "metadata": {},
   "outputs": [],
   "source": [
    "from torch.utils.data import DataLoader\n",
    "trainloader = DataLoader(tokenized_data[\"train\"], batch_size=32, shuffle=True, collate_fn=DataCollatorWithPadding(tokenizer))\n",
    "validloader = DataLoader(tokenized_data[\"test\"], batch_size=32, shuffle=False, collate_fn=DataCollatorWithPadding(tokenizer))"
   ]
  },
  {
   "cell_type": "markdown",
   "id": "fd51a930",
   "metadata": {},
   "source": [
    "##### step4 加载模型"
   ]
  },
  {
   "cell_type": "code",
   "execution_count": 56,
   "id": "bcd243c2",
   "metadata": {},
   "outputs": [
    {
     "name": "stderr",
     "output_type": "stream",
     "text": [
      "Some weights of BertForSequenceClassification were not initialized from the model checkpoint at ./models/rbt3 and are newly initialized: ['classifier.bias', 'classifier.weight']\n",
      "You should probably TRAIN this model on a down-stream task to be able to use it for predictions and inference.\n"
     ]
    }
   ],
   "source": [
    "model = AutoModelForSequenceClassification.from_pretrained(\"./models/rbt3\")\n",
    "\n",
    "if torch.cuda.is_available():\n",
    "    model = model.cuda()"
   ]
  },
  {
   "cell_type": "code",
   "execution_count": 57,
   "id": "32c12922",
   "metadata": {},
   "outputs": [
    {
     "data": {
      "text/plain": [
       "device(type='cuda', index=0)"
      ]
     },
     "execution_count": 57,
     "metadata": {},
     "output_type": "execute_result"
    }
   ],
   "source": [
    "model.device"
   ]
  },
  {
   "cell_type": "markdown",
   "id": "2fde2f30",
   "metadata": {},
   "source": [
    "##### step5 创建优化器"
   ]
  },
  {
   "cell_type": "code",
   "execution_count": 58,
   "id": "73b0bd6b",
   "metadata": {},
   "outputs": [],
   "source": [
    "from torch.optim import Adam\n",
    "\n",
    "optimizer = Adam(model.parameters(), lr=2e-5)"
   ]
  },
  {
   "cell_type": "code",
   "execution_count": 61,
   "id": "9d151dc2",
   "metadata": {},
   "outputs": [],
   "source": [
    "def train(epoch=3, log_step=20):\n",
    "    global_step = 0\n",
    "    for ep in range(1, epoch + 1):\n",
    "        model.train()\n",
    "        for batch in trainloader:\n",
    "            if torch.cuda.is_available():\n",
    "                batch = {k: v.cuda() for k, v in batch.items()}\n",
    "            optimizer.zero_grad()\n",
    "            outputs = model(**batch)\n",
    "            outputs.loss.backward()\n",
    "            optimizer.step()\n",
    "            if global_step % log_step == 0:\n",
    "                print(f\"ep: {ep}, global_step: {global_step}, loss: {outputs.loss.item()}\")\n",
    "            global_step += 1\n",
    "        acc = evaluate()\n",
    "        print(f\"ep: {ep}, acc: {acc}\")\n",
    "\n",
    "\n",
    "def evaluate():\n",
    "    model.eval()\n",
    "    acc_num = 0\n",
    "    with torch.inference_mode():\n",
    "        for batch in validloader:\n",
    "            if torch.cuda.is_available():\n",
    "                batch = {k: v.cuda() for k, v in batch.items()}\n",
    "            output = model(**batch).logits.argmax(dim=-1)\n",
    "            acc_num += (output.long()==batch[\"labels\"].long()).float().sum()\n",
    "        return acc_num / len(tokenized_data[\"test\"])"
   ]
  },
  {
   "cell_type": "code",
   "execution_count": 62,
   "id": "ad7e51ba",
   "metadata": {},
   "outputs": [
    {
     "name": "stdout",
     "output_type": "stream",
     "text": [
      "ep: 1, global_step: 0, loss: 0.21116232872009277\n",
      "ep: 1, global_step: 20, loss: 0.20282669365406036\n",
      "ep: 1, global_step: 40, loss: 0.352164089679718\n",
      "ep: 1, global_step: 60, loss: 0.21960942447185516\n",
      "ep: 1, global_step: 80, loss: 0.14668001234531403\n",
      "ep: 1, global_step: 100, loss: 0.18309013545513153\n",
      "ep: 1, global_step: 120, loss: 0.378016859292984\n",
      "ep: 1, global_step: 140, loss: 0.1675594598054886\n",
      "ep: 1, global_step: 160, loss: 0.2201177477836609\n",
      "ep: 1, global_step: 180, loss: 0.21774506568908691\n",
      "ep: 1, global_step: 200, loss: 0.38338080048561096\n",
      "ep: 1, acc: 0.9111969470977783\n",
      "ep: 2, global_step: 220, loss: 0.1919189989566803\n",
      "ep: 2, global_step: 240, loss: 0.3124852180480957\n",
      "ep: 2, global_step: 260, loss: 0.18380849063396454\n",
      "ep: 2, global_step: 280, loss: 0.2537326216697693\n",
      "ep: 2, global_step: 300, loss: 0.3811986744403839\n",
      "ep: 2, global_step: 320, loss: 0.32174238562583923\n",
      "ep: 2, global_step: 340, loss: 0.19202063977718353\n",
      "ep: 2, global_step: 360, loss: 0.18299517035484314\n",
      "ep: 2, global_step: 380, loss: 0.04189826175570488\n",
      "ep: 2, global_step: 400, loss: 0.3173050880432129\n",
      "ep: 2, global_step: 420, loss: 0.1119021475315094\n",
      "ep: 2, acc: 0.8996139168739319\n",
      "ep: 3, global_step: 440, loss: 0.08244850486516953\n",
      "ep: 3, global_step: 460, loss: 0.0545937679708004\n",
      "ep: 3, global_step: 480, loss: 0.14632119238376617\n",
      "ep: 3, global_step: 500, loss: 0.026444045826792717\n",
      "ep: 3, global_step: 520, loss: 0.10040297359228134\n",
      "ep: 3, global_step: 540, loss: 0.06672617048025131\n",
      "ep: 3, global_step: 560, loss: 0.07578831911087036\n",
      "ep: 3, global_step: 580, loss: 0.20925962924957275\n",
      "ep: 3, global_step: 600, loss: 0.10466382652521133\n",
      "ep: 3, global_step: 620, loss: 0.294093519449234\n",
      "ep: 3, global_step: 640, loss: 0.07201455533504486\n",
      "ep: 3, acc: 0.9034749269485474\n"
     ]
    }
   ],
   "source": [
    "train()"
   ]
  },
  {
   "cell_type": "code",
   "execution_count": 68,
   "id": "48c17fdb",
   "metadata": {},
   "outputs": [
    {
     "name": "stderr",
     "output_type": "stream",
     "text": [
      "Device set to use cuda:0\n"
     ]
    }
   ],
   "source": [
    "from transformers import pipeline\n",
    "\n",
    "model.config.id2label = {0: \"差评\", 1: \"好评\"}\n",
    "pipe = pipeline(\"text-classification\", model=model, tokenizer=tokenizer)"
   ]
  },
  {
   "cell_type": "code",
   "execution_count": 69,
   "id": "9089cd55",
   "metadata": {},
   "outputs": [
    {
     "data": {
      "text/plain": [
       "[{'label': '差评', 'score': 0.8925237655639648}]"
      ]
     },
     "execution_count": 69,
     "metadata": {},
     "output_type": "execute_result"
    }
   ],
   "source": [
    "pipe(\"这地方有点差劲\")"
   ]
  },
  {
   "cell_type": "code",
   "execution_count": null,
   "id": "c43dc5e2",
   "metadata": {},
   "outputs": [],
   "source": []
  }
 ],
 "metadata": {
  "kernelspec": {
   "display_name": "pytorch",
   "language": "python",
   "name": "python3"
  },
  "language_info": {
   "codemirror_mode": {
    "name": "ipython",
    "version": 3
   },
   "file_extension": ".py",
   "mimetype": "text/x-python",
   "name": "python",
   "nbconvert_exporter": "python",
   "pygments_lexer": "ipython3",
   "version": "3.12.7"
  }
 },
 "nbformat": 4,
 "nbformat_minor": 5
}
