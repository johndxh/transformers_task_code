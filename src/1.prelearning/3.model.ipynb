{
 "cells": [
  {
   "cell_type": "markdown",
   "id": "99409363",
   "metadata": {},
   "source": [
    "### 模型加载与调用"
   ]
  },
  {
   "cell_type": "code",
   "execution_count": null,
   "id": "0f6ecf5d",
   "metadata": {},
   "outputs": [],
   "source": [
    "from transformers import AutoConfig, AutoModel, AutoTokenizer, BertModel"
   ]
  },
  {
   "cell_type": "markdown",
   "id": "19a7e4ea",
   "metadata": {},
   "source": [
    "#### 模型加载可以通过在线加载和离线加载的方式\n",
    "\n",
    "可以科学上网直接指定模型地址即可\n",
    "```python\n",
    "model = AutoModel.from_pretrained(\"hfl/rbt3\", force_download=True)\n",
    "```\n",
    "\n",
    "无法科学上网使用modelscope下载到本地，然后再加载\n",
    "```python\n",
    "from modelscope.hub.snapshot_download import snapshot_download\n",
    "snapshot_download(model_id=\"xxx\", cache_dir=\"./models\")\n",
    "model = AutoModel.from_pretrained(\"models/xxx\", force_download=True)\n",
    "```"
   ]
  },
  {
   "cell_type": "markdown",
   "id": "6266e78d",
   "metadata": {},
   "source": [
    "#### 离线加载模型"
   ]
  },
  {
   "cell_type": "code",
   "execution_count": null,
   "id": "2b815975",
   "metadata": {},
   "outputs": [],
   "source": [
    "model = AutoModel.from_pretrained(\"models/rbt3\") # 直接指定模型本地下载路径"
   ]
  },
  {
   "cell_type": "code",
   "execution_count": 3,
   "id": "72db56d2",
   "metadata": {},
   "outputs": [],
   "source": [
    "tokenizer = AutoTokenizer.from_pretrained(\"models/rbt3\")"
   ]
  },
  {
   "cell_type": "code",
   "execution_count": 4,
   "id": "a6378bb1",
   "metadata": {},
   "outputs": [],
   "source": [
    "config = AutoConfig.from_pretrained(\"models/rbt3\")"
   ]
  },
  {
   "cell_type": "markdown",
   "id": "05357da6",
   "metadata": {},
   "source": [
    "#### 模型调用\n",
    "\n",
    "分为不带任务头调用和带任务头调用\n",
    "\n",
    "不带任务头调用，直接导入AutoModel，返回结果是last_hiddent_state和pooling结果\n",
    "\n",
    "带任务头调用则是返回对应任务的结果，导入AutoModelForxxxTask，会对AutoModel的结果进行进一步封装"
   ]
  },
  {
   "cell_type": "markdown",
   "id": "c240bd9a",
   "metadata": {},
   "source": [
    "##### 1. 不带head的模型调用"
   ]
  },
  {
   "cell_type": "code",
   "execution_count": 9,
   "id": "57aabef4",
   "metadata": {},
   "outputs": [],
   "source": [
    "saying = \"弱小的我也有大梦想！\"\n",
    "inputs = tokenizer(saying, return_tensors=\"pt\")"
   ]
  },
  {
   "cell_type": "code",
   "execution_count": 13,
   "id": "c7588e8c",
   "metadata": {},
   "outputs": [
    {
     "name": "stderr",
     "output_type": "stream",
     "text": [
      "BertSdpaSelfAttention is used but `torch.nn.functional.scaled_dot_product_attention` does not support non-absolute `position_embedding_type` or `output_attentions=True` or `head_mask`. Falling back to the manual attention implementation, but specifying the manual implementation will be required from Transformers version v5.0.0 onwards. This warning can be removed using the argument `attn_implementation=\"eager\"` when loading the model.\n"
     ]
    }
   ],
   "source": [
    "output = model(**inputs)"
   ]
  },
  {
   "cell_type": "code",
   "execution_count": 15,
   "id": "d9b4729a",
   "metadata": {},
   "outputs": [
    {
     "data": {
      "text/plain": [
       "odict_keys(['last_hidden_state', 'pooler_output', 'attentions'])"
      ]
     },
     "execution_count": 15,
     "metadata": {},
     "output_type": "execute_result"
    }
   ],
   "source": [
    "output.keys()"
   ]
  },
  {
   "cell_type": "markdown",
   "id": "324b9937",
   "metadata": {},
   "source": [
    "##### 2. 带head的模型调用"
   ]
  },
  {
   "cell_type": "code",
   "execution_count": null,
   "id": "49f938f9",
   "metadata": {},
   "outputs": [
    {
     "name": "stderr",
     "output_type": "stream",
     "text": [
      "Some weights of BertForSequenceClassification were not initialized from the model checkpoint at models/rbt3 and are newly initialized: ['classifier.bias', 'classifier.weight']\n",
      "You should probably TRAIN this model on a down-stream task to be able to use it for predictions and inference.\n"
     ]
    }
   ],
   "source": [
    "from transformers import AutoModelForSequenceClassification\n",
    "\n",
    "model = AutoModelForSequenceClassification.from_pretrained(\"models/rbt3\", num_labels=10)"
   ]
  },
  {
   "cell_type": "code",
   "execution_count": 23,
   "id": "891f6148",
   "metadata": {},
   "outputs": [],
   "source": [
    "output = model(**inputs)"
   ]
  },
  {
   "cell_type": "code",
   "execution_count": 22,
   "id": "f86be697",
   "metadata": {},
   "outputs": [
    {
     "data": {
      "text/plain": [
       "10"
      ]
     },
     "execution_count": 22,
     "metadata": {},
     "output_type": "execute_result"
    }
   ],
   "source": [
    "model.config.num_labels"
   ]
  },
  {
   "cell_type": "code",
   "execution_count": 26,
   "id": "8f4a62da",
   "metadata": {},
   "outputs": [
    {
     "data": {
      "text/plain": [
       "9"
      ]
     },
     "execution_count": 26,
     "metadata": {},
     "output_type": "execute_result"
    }
   ],
   "source": [
    "output.logits.argmax(dim=-1).item()"
   ]
  },
  {
   "cell_type": "markdown",
   "id": "2f57665c",
   "metadata": {},
   "source": [
    "#### 实战部分"
   ]
  },
  {
   "cell_type": "markdown",
   "id": "abb8bf8a",
   "metadata": {},
   "source": [
    "##### step1 导包"
   ]
  },
  {
   "cell_type": "code",
   "execution_count": 28,
   "id": "22f6ae49",
   "metadata": {},
   "outputs": [],
   "source": [
    "import pandas as pd\n",
    "\n",
    "from transformers import AutoTokenizer, AutoModelForSequenceClassification"
   ]
  },
  {
   "cell_type": "markdown",
   "id": "7a35d2ab",
   "metadata": {},
   "source": [
    "##### step2 导入数据"
   ]
  },
  {
   "cell_type": "markdown",
   "id": "c3db32b0",
   "metadata": {},
   "source": [
    "大概看一下数据，正式代码可删"
   ]
  },
  {
   "cell_type": "code",
   "execution_count": 30,
   "id": "f70f3b9a",
   "metadata": {},
   "outputs": [
    {
     "data": {
      "application/vnd.microsoft.datawrangler.viewer.v0+json": {
       "columns": [
        {
         "name": "index",
         "rawType": "int64",
         "type": "integer"
        },
        {
         "name": "label",
         "rawType": "int64",
         "type": "integer"
        },
        {
         "name": "review",
         "rawType": "object",
         "type": "unknown"
        }
       ],
       "ref": "00815a6e-70f9-4b32-af62-ee3e0282b127",
       "rows": [
        [
         "0",
         "1",
         "距离川沙公路较近,但是公交指示不对,如果是\"蔡陆线\"的话,会非常麻烦.建议用别的路线.房间较为简单."
        ],
        [
         "1",
         "1",
         "商务大床房，房间很大，床有2M宽，整体感觉经济实惠不错!"
        ],
        [
         "2",
         "1",
         "早餐太差，无论去多少人，那边也不加食品的。酒店应该重视一下这个问题了。房间本身很好。"
        ],
        [
         "3",
         "1",
         "宾馆在小街道上，不大好找，但还好北京热心同胞很多~宾馆设施跟介绍的差不多，房间很小，确实挺小，但加上低价位因素，还是无超所值的；环境不错，就在小胡同内，安静整洁，暖气好足-_-||。。。呵还有一大优势就是从宾馆出发，步行不到十分钟就可以到梅兰芳故居等等，京味小胡同，北海距离好近呢。总之，不错。推荐给节约消费的自助游朋友~比较划算，附近特色小吃很多~"
        ],
        [
         "4",
         "1",
         "CBD中心,周围没什么店铺,说5星有点勉强.不知道为什么卫生间没有电吹风"
        ],
        [
         "5",
         "1",
         "总的来说，这样的酒店配这样的价格还算可以，希望他赶快装修，给我的客人留些好的印象"
        ],
        [
         "6",
         "1",
         "价格比比较不错的酒店。这次免费升级了，感谢前台服务员。房子还好，地毯是新的，比上次的好些。早餐的人很多要早去些。"
        ],
        [
         "7",
         "1",
         "不错，在同等档次酒店中应该是值得推荐的！"
        ],
        [
         "8",
         "1",
         "入住丽晶，感觉很好。因为是新酒店，的确有淡淡的油漆味，房间内较新。房间大小合适，卫生间设备齐全，服务态度也很好。网速可能是提升了吧，感觉还好。有免费的插线板、水果刀。。。等一系列的日常用品免费提供，很细心。晚上的自助餐是每人68元，菜品一般、就算说的过去吧。酒店外有西贝筱面等几家饭馆。西贝的菜实在是量大的惊人，人多在酒店吃就不如去西贝吃了。酒店21：30-24点有广式晚茶，吃过几次，味道正宗，就是点心品种略少。哈。酒店地处青山区，包头分昆区、青山区。相对来说：昆区是最繁华的，青山区次之。像包百等大商场全在昆区，从酒店打车到包百商圈车费12元多。青山区也有一个王府井百货，相对来说比包百商圈的略小，从酒店打车8元多。银河广场离酒店有一段距离，打车9、10元吧，银河广场边上有“科丽珑”24小时营业的超市。酒店一楼有小卖部，周围基本没有超市。这次住正赶上有几家公司在这里开会，有时楼道里略吵，晚上还有几次有人敲错门，理论上与酒店管理没关系吧。希望以后还是尽量让会议团体住在一层，也许这样可以好些吧。总体感觉丽晶很好，以后来包头还会住这里。"
        ],
        [
         "9",
         "1",
         "1。酒店比较新，装潢和设施还不错，只是房间有些油漆味。2。早餐还可以，只是品种不是很多。3。交通比较方便，周围的小饭店比较多。"
        ],
        [
         "10",
         "1",
         "我住的是特色标间，所谓特色，是有些类似家的感觉。寝具不是单调的白色，是条纹和大格子的，感觉很温馨。圈儿椅的靠垫是卡通的加菲猫头，明黄的颜色有点扎眼，和周围配在一起感觉有点不协调。客房硬件评价3.5分。加湿器、烫衣板、电熨斗、吹风机、小冰箱等俱全。缺点：液晶电视固定在墙上，位置不好。一是遮挡了一个电源插座；二是与桌子搭配不当。桌子（与冰箱柜一体）在电视下方，如果坐在桌子旁上网或工作学习，正好挡住了电视屏幕。错开坐，正好是冰箱柜，腿脚伸不开。"
        ],
        [
         "11",
         "1",
         "早餐很丰富，服务也热情，早上很早退房时，前台值此人员办理手续也非常快．"
        ],
        [
         "12",
         "1",
         "这次是308的行政大床，总体感觉非常不错，就是价格稍许高了点，旁边有个五星的豪华客房才398。估计小天鹅也只有这个房型以上的，看得过去，以前住过的房间实在是很差。以后大家如果要住这里，还是选这个行政大床吧！"
        ],
        [
         "13",
         "1",
         "好像跟洪崖洞酒店一个公司的，所以房间的风格比较接近，就是小一些，整体来说比较不错，房间内食品都是免费，很实在。就是早餐实在不敢恭维，大堂环境比较差。整体来说不错，属于比较好的三星级酒店。"
        ],
        [
         "14",
         "1",
         "前台楼层服务员都不错，房间安静整洁，交通方便，吃的周围也挺多．唯一不足，卫生间地漏设计不好，导致少量积水．"
        ],
        [
         "15",
         "1",
         "这个宾馆总体感觉还不错，无论从价格、出行、购物，还是订机票（国航就在它的右边）都很方便。只是房间没有什么电脑，也不知道它说的免费上网在什么地方可以。补充点评2007年10月12日：对了，去机场也很方便，机场大巴就在它下面，每半个小时一趟"
        ],
        [
         "16",
         "1",
         "价格偏高,服务一般.窗外风景ok.早餐还不错"
        ],
        [
         "17",
         "1",
         "酒店正在申定五星中，不过目前看来四星都有点勉强。大堂很气派，不过细节很粗糙。硬件需要加强。服务人员礼貌热情。酒店的房间和早餐都还不错。"
        ],
        [
         "18",
         "1",
         "闹中取静的一个地方，在窗前能看到不错的风景。酒店价格的确有些偏高"
        ],
        [
         "19",
         "1",
         "价格偏高,好象连云港这地方的酒店都偏贵.早饭不好.房间还不错,窗外风景还行.最重要是房间的窗户很隔音.床小,还是明珠万豪的床好些."
        ],
        [
         "20",
         "1",
         "知道网线接口在哪儿吗？比高家庄的地道口还隐蔽。在床头柜后面！想不道吧？看你怎么用。1：自带4米以上网线；2：自带小板凳：3：房间的垃圾桶可翻过来坐......"
        ],
        [
         "21",
         "1",
         "沈阳市政府的酒店，比较大气，交通便利，出门往左就是北陵公园，环境好。"
        ],
        [
         "22",
         "1",
         "政府酒店感觉很气派,而且很干净,整个酒店的房间布局也很整齐.5月份入住的,由于第一天房间不能上网,和前台协调又换了一间可以上网的,还帮忙调试了笔记本,服务很周到.正好住的两天都有人结婚,感觉酒店一楼的宴会厅很适合婚礼"
        ],
        [
         "23",
         "1",
         "总体还可以,就是前台服务员还不够敬业,在登记入住后,看都没看是不是本人,就把我客人的护照给了其它人,幸亏就在旁边,要不然不知后果怎样,之后连说声不好意思,或对不起都没有!!!希望改进!!!"
        ],
        [
         "24",
         "1",
         "6月下旬去丹东，在携程网上预定了丹东国际酒店2天的住宿。24日傍晚抵丹东，便打车去酒店。丹东城市不大，一说国际酒店，司机都知道。酒店在一条不起眼的小街上，周围环境一般。到总台一问，接待员说没有收到携程的预定单。我给他们看了手机收到的携程确认短信，接待员说那好吧，就按携程预定价住下吧。我说，能不能给个朝鸭绿江的房间，接待查了一下电脑，说可以，不过房间小了点，我说没关系，反正一个人住。安排的是15层（接待员还真满足了客人看江的要求），进了房间，往窗外一看，蜿蜒的鸭绿江就在眼前，朝鲜一侧的房屋和农田也清晰可见，稍远处隐约可见鸭绿江桥！房间略显旧了些，但床、被还较整洁、干净。这江景房的性价比应该是超值的！想当年国际酒店在丹东大概是数一数二的，现在来看，装修上比不上新开业的，大堂不太光亮，楼层的电梯口也只开了一小部分灯光，但服务上还不错。服务员遇到客人都会问好。特别值得一提的是23楼的旋转餐厅，可以与深圳国贸和上海新锦江顶楼的旋转餐厅相比拼！毕竟是在丹东那么一个边境小城里。20元的自助早餐较丰盛，再加上可以面对鸭绿江，饱览异国风光（尽管是农田沙洲景色）。在丹东国际酒店2天的停留还是给我留下来不错的印象。"
        ],
        [
         "25",
         "1",
         "这次去北京，是要去北师大办事，所以特意留意了下附近的宾馆。住了两天，首先该宾馆很好找，离西四大街很近，公交车护国寺站下步行两分钟就到。因离公交站近，去哪坐公交都方便，很省钱省事。宾馆外有很多小吃店，价位比王府井小吃街要便宜，护国寺街上报刊厅、2毛一分钟的公用长途电话、水果摊、24小时便利店、网吧应有尽有，很方便。房间很干净，在这方面，在北京住过的几个三星级的还不如这家二星级的。房间暖气也开得足够，缺点就是冲澡时水温太低，而且忽冷忽热，不知道是什么原因。卫生间的插座不能充电，窗头柜下没插座，所以只能在电视机柜后充电，不太方便。另宾馆对面的烟酒店里的烟不能买，多是假的。宾馆服务员都很热情，让人感觉很好。推荐一个！"
        ],
        [
         "26",
         "1",
         "房间设备太破,连喷头都是不好用,空调几乎感觉不到,虽然我开了最大另外就是设备维修不及时,洗澡用品感觉都是廉价货,味道很奇怪的洗头液等等...总体感觉服务还可以,设备招待所水平..."
        ],
        [
         "27",
         "1",
         "总体感觉不错，美中不足的是房与房之间隔音效果不太好，还有房价感觉稍高。"
        ],
        [
         "28",
         "1",
         "设施虽稍陈旧一些,但良好的服务给人温暖.酒店所处地理位置和环境极好.对年龄较大的个人旅游者而言,入住该酒店不失为较佳选择."
        ],
        [
         "29",
         "1",
         "房间比较干净，卫生间太小，转身都费劲。地理位置一半，因在胡同里，不容易找到。服务一般。"
        ],
        [
         "30",
         "1",
         "总体很满意，但有一点需改进，我在9楼入住，走时到1楼前台结帐时由9楼层服务员检查房间，发现我有零星物品遗失在房间，我当时请他们送下来，结果答复是到4楼客房服务部去取，我到了4楼，又说服员员没时间，又要到9楼去取。当然这没什么，但是如果他们给东西送下来，哪怕是到4楼就取到了东西，我会对酒店有更好的印象。"
        ],
        [
         "31",
         "1",
         "环境不错，室内色调很温馨，MM很满意！就是窗户收拾得太马虎了，拉开窗帘就觉得很凌乱的感觉。最不足的地方就是淋浴了，一是地方太小了，二是洗澡时水时大时小的，中间还停了几秒！！"
        ],
        [
         "32",
         "1",
         "4年前住过。酒店设施这个价格还算值，尤其是黄金周期间。临海位置很好。高层，大部分房间都可以看到海。前台接待的小姐态度很生硬，登记的姓名没一个字是对的。算啦，不影响住也就不计较了。"
        ],
        [
         "33",
         "1",
         "西餐厅的晚餐不错，68的自助餐，吃得捧着肚子出门。一个字，棒！早餐就差远啦！还敢号称68，一个字，汗！宾馆反馈2008年8月14日：尊敬的宾客：您好！感谢您入住金陵溧阳宾馆！并给我们留下宝贵的意见！对于早餐的问题我们将做及时的调整。我们一定会继续努力与进取，发扬金陵溧阳宾馆“以客为尊”的服务理念，让每一位宾客都能对金陵溧阳宾馆留下美好而深刻的印象。再次向您表示感谢！期待您的再次光临！祝您工作顺利！身体健康！金陵溧阳宾馆客务关系主任"
        ],
        [
         "34",
         "1",
         "早餐很不错，离市中心比较近，购物方便，但是5号楼的房间相当于3星标准。不过相对于房价也值了补充点评2008年8月11日：另外，房间提供的拖鞋太小了，根本穿不下，难道是给女士设计的？我是42码的脚啊。宾馆反馈2008年8月14日：尊敬的宾客：您好！感谢您入住金陵溧阳宾馆！并及时把您的感受和意见告知我们！对于你提出的拖鞋太小的问题。等您下次入住金陵溧阳宾馆时只需向我们的服务员提出。我们将根据您的意见记录特别需求，提供您满意的服务！，发扬金陵溧阳宾馆“以客为尊”的服务理念，让每一位宾客都能对金陵溧阳宾馆留下美好而深刻的印象。再次向您表示感谢！期待您的再次光临！祝您工作顺利！身体健康！金陵溧阳宾馆客务关系主任"
        ],
        [
         "35",
         "1",
         "房间稍小，但清洁，非常实惠。不足之处是：双人房的洗澡用品只有一套.宾馆反馈2008年8月5日：尊敬的宾客：您好！感谢您选择入住金陵溧阳宾馆！对于酒店双人房内的洗漱用品只有一套的问题，我们已经召集酒店相关部门对此问题进行了研究和整改。努力将我们的管理与服务工作做到位，进一步关注宾客，关注细节！再次向您表示我们最衷心的感谢！期待您能再次来溧阳并入住金陵溧阳宾馆！让我们有给您提供更加优质服务的机会！顺祝您工作顺利！身体健康！金陵溧阳宾馆客务关系主任"
        ],
        [
         "36",
         "1",
         "3人间还是比较大的，就是暖气不是太暖和，时冷时热。被单会有油污的地方，不过还可以接受。洗漱间和厕所没有暖气洗澡刚开始会较冷。24小时热水、比较周到的服务、桶式饮用水还是不错的。周围环境还可以比较安静，西到西直门、动物园；北到积水潭、新街口豁口；南到西单；东到后海还是比较方便的地理位置。豁口新开的新华百货商场比较气派，还不错可以逛逛。推荐居住！"
        ],
        [
         "37",
         "1",
         "该酒店对去溧阳公务或旅游的人都很适合，自助早餐很丰富，酒店内部环境和服务很好。唯一的不足是酒店大门口在晚上时太乱，各种车辆和人在门口挤成一团。补充点评2008年5月9日：房间淋浴水压不稳，一会热、一会冷，很不好调整。宾馆反馈2008年5月13日：非常感谢您选择入住金陵溧阳宾馆。您给予我们的肯定与赞赏让我们倍受鼓舞，也使我们更加自信地去做好每一天的服务工作。正是有许多像您一样的宾客给予我们不断的鼓励和赞赏，酒店的服务品质才能得以不断提升。对于酒店大门口的秩序和房间淋浴水的问题我们已做出了相应的措施。再次向您表示我们最衷心的感谢！我们期待您的再次光临！"
        ],
        [
         "38",
         "1",
         "我们住的是8号五星楼，总体来讲还可以，服务还有些欠缺，退房是时间太长宾馆反馈2008年5月6日：非常感谢您入住金陵溧阳宾馆，并通过网站将您的入住感受与我们分享。我们宾馆始终致力于不断提升酒店的软件和硬件设备，为客人提供良好的入住环境和美好的入住体验，您的意见我们已做过专题讨论会，对于退房等一系列服务已做出改进。恭候您的再次光临！"
        ],
        [
         "39",
         "1",
         "我预定了大床间，可是所谓的大床只有1.5米宽，房间倒是很大。值得推荐的是自助餐，酒店客人50元/人，还是不错的。但餐厅服务员难得见到笑容，而且不太理睬客人的招呼，不好。"
        ],
        [
         "40",
         "1",
         "帮JJ定的好像不怎么样哦水好像差点意思补充点评2008年3月29日：我点了3分怎么还是显示4分啊"
        ],
        [
         "41",
         "1",
         "位置不错,在市中心.周围吃饭等很方便.房间一如既往的干净"
        ],
        [
         "42",
         "1",
         "房间还可以，楼下有食街，服务态度很好！不过网络不太好，总是断线；早餐一般般。"
        ],
        [
         "43",
         "1",
         "不错的酒店，房间干净，安静（15楼）。客户请客就在酒店的包房吃的，味道很好。中式早餐略有不足，没什么可选，味道还可以。"
        ],
        [
         "44",
         "1",
         "酒店的设施稍微老了一点，是四星级酒店的一个附楼。但是服务不错，而且酒店的价格非常吸引人。下次还会入住的！补充点评2008年2月22日：我住的是150的。还不错，冬季里没用霉味！"
        ],
        [
         "45",
         "1",
         "住的是350的大床房,以四星标准衡量的话,家具太旧,房间太小,早餐品种单一,别的总体来说还可以吧,地段不错,服务也满好."
        ],
        [
         "46",
         "1",
         "去住的话最好是住朝向大院的房间，因为酒店后面有中央空调的一些设备，晚上响起来的话影响休息的。早餐很一般，没甚么好吃的东西。酒店旁边有条小路，那里有几家实惠的小饭店，比如私家菜甚么的。总的来说，出差宜兴，国际饭店还是第一选择。"
        ],
        [
         "47",
         "1",
         "服务很热情，交通也很便利，下次如果去北京我还会选择这家酒店!"
        ],
        [
         "48",
         "1",
         "入住的时候，恰逢前台的POS机坏了，只能预付现金，有些不便。不过位于一楼的餐厅真是物美价廉，值得一去。"
        ],
        [
         "49",
         "1",
         "房间很清洁，洗手间装修好。早餐非常丰盛，豆腐脑很好吃！交通很方便。隔音不够好，我们的邻居夜里1点多电视声音开的很大，投诉后酒店服务人员去与隔壁邻居协商解决了。"
        ]
       ],
       "shape": {
        "columns": 2,
        "rows": 7766
       }
      },
      "text/html": [
       "<div>\n",
       "<style scoped>\n",
       "    .dataframe tbody tr th:only-of-type {\n",
       "        vertical-align: middle;\n",
       "    }\n",
       "\n",
       "    .dataframe tbody tr th {\n",
       "        vertical-align: top;\n",
       "    }\n",
       "\n",
       "    .dataframe thead th {\n",
       "        text-align: right;\n",
       "    }\n",
       "</style>\n",
       "<table border=\"1\" class=\"dataframe\">\n",
       "  <thead>\n",
       "    <tr style=\"text-align: right;\">\n",
       "      <th></th>\n",
       "      <th>label</th>\n",
       "      <th>review</th>\n",
       "    </tr>\n",
       "  </thead>\n",
       "  <tbody>\n",
       "    <tr>\n",
       "      <th>0</th>\n",
       "      <td>1</td>\n",
       "      <td>距离川沙公路较近,但是公交指示不对,如果是\"蔡陆线\"的话,会非常麻烦.建议用别的路线.房间较...</td>\n",
       "    </tr>\n",
       "    <tr>\n",
       "      <th>1</th>\n",
       "      <td>1</td>\n",
       "      <td>商务大床房，房间很大，床有2M宽，整体感觉经济实惠不错!</td>\n",
       "    </tr>\n",
       "    <tr>\n",
       "      <th>2</th>\n",
       "      <td>1</td>\n",
       "      <td>早餐太差，无论去多少人，那边也不加食品的。酒店应该重视一下这个问题了。房间本身很好。</td>\n",
       "    </tr>\n",
       "    <tr>\n",
       "      <th>3</th>\n",
       "      <td>1</td>\n",
       "      <td>宾馆在小街道上，不大好找，但还好北京热心同胞很多~宾馆设施跟介绍的差不多，房间很小，确实挺小...</td>\n",
       "    </tr>\n",
       "    <tr>\n",
       "      <th>4</th>\n",
       "      <td>1</td>\n",
       "      <td>CBD中心,周围没什么店铺,说5星有点勉强.不知道为什么卫生间没有电吹风</td>\n",
       "    </tr>\n",
       "    <tr>\n",
       "      <th>...</th>\n",
       "      <td>...</td>\n",
       "      <td>...</td>\n",
       "    </tr>\n",
       "    <tr>\n",
       "      <th>7761</th>\n",
       "      <td>0</td>\n",
       "      <td>尼斯酒店的几大特点：噪音大、环境差、配置低、服务效率低。如：1、隔壁歌厅的声音闹至午夜3点许...</td>\n",
       "    </tr>\n",
       "    <tr>\n",
       "      <th>7762</th>\n",
       "      <td>0</td>\n",
       "      <td>盐城来了很多次，第一次住盐阜宾馆，我的确很失望整个墙壁黑咕隆咚的，好像被烟熏过一样家具非常的...</td>\n",
       "    </tr>\n",
       "    <tr>\n",
       "      <th>7763</th>\n",
       "      <td>0</td>\n",
       "      <td>看照片觉得还挺不错的，又是4星级的，但入住以后除了后悔没有别的，房间挺大但空空的，早餐是有但...</td>\n",
       "    </tr>\n",
       "    <tr>\n",
       "      <th>7764</th>\n",
       "      <td>0</td>\n",
       "      <td>我们去盐城的时候那里的最低气温只有4度，晚上冷得要死，居然还不开空调，投诉到酒店客房部，得到...</td>\n",
       "    </tr>\n",
       "    <tr>\n",
       "      <th>7765</th>\n",
       "      <td>0</td>\n",
       "      <td>说实在的我很失望，之前看了其他人的点评后觉得还可以才去的，结果让我们大跌眼镜。我想这家酒店以...</td>\n",
       "    </tr>\n",
       "  </tbody>\n",
       "</table>\n",
       "<p>7766 rows × 2 columns</p>\n",
       "</div>"
      ],
      "text/plain": [
       "      label                                             review\n",
       "0         1  距离川沙公路较近,但是公交指示不对,如果是\"蔡陆线\"的话,会非常麻烦.建议用别的路线.房间较...\n",
       "1         1                       商务大床房，房间很大，床有2M宽，整体感觉经济实惠不错!\n",
       "2         1         早餐太差，无论去多少人，那边也不加食品的。酒店应该重视一下这个问题了。房间本身很好。\n",
       "3         1  宾馆在小街道上，不大好找，但还好北京热心同胞很多~宾馆设施跟介绍的差不多，房间很小，确实挺小...\n",
       "4         1               CBD中心,周围没什么店铺,说5星有点勉强.不知道为什么卫生间没有电吹风\n",
       "...     ...                                                ...\n",
       "7761      0  尼斯酒店的几大特点：噪音大、环境差、配置低、服务效率低。如：1、隔壁歌厅的声音闹至午夜3点许...\n",
       "7762      0  盐城来了很多次，第一次住盐阜宾馆，我的确很失望整个墙壁黑咕隆咚的，好像被烟熏过一样家具非常的...\n",
       "7763      0  看照片觉得还挺不错的，又是4星级的，但入住以后除了后悔没有别的，房间挺大但空空的，早餐是有但...\n",
       "7764      0  我们去盐城的时候那里的最低气温只有4度，晚上冷得要死，居然还不开空调，投诉到酒店客房部，得到...\n",
       "7765      0  说实在的我很失望，之前看了其他人的点评后觉得还可以才去的，结果让我们大跌眼镜。我想这家酒店以...\n",
       "\n",
       "[7766 rows x 2 columns]"
      ]
     },
     "execution_count": 30,
     "metadata": {},
     "output_type": "execute_result"
    }
   ],
   "source": [
    "data = pd.read_csv(\"../../datas/ChnSentiCorp_htl_all.csv\")\n",
    "data"
   ]
  },
  {
   "cell_type": "code",
   "execution_count": 32,
   "id": "718850ad",
   "metadata": {},
   "outputs": [
    {
     "name": "stdout",
     "output_type": "stream",
     "text": [
      "[1 0] 2\n"
     ]
    }
   ],
   "source": [
    "data_labels = data[\"label\"].unique()\n",
    "print(data_labels, len(data_labels))"
   ]
  },
  {
   "cell_type": "markdown",
   "id": "07f9dec0",
   "metadata": {},
   "source": [
    "正儿八经加载数据"
   ]
  },
  {
   "cell_type": "code",
   "execution_count": 34,
   "id": "98ae8378",
   "metadata": {},
   "outputs": [],
   "source": [
    "from torch.utils.data import Dataset\n",
    "\n",
    "class MyData(Dataset):\n",
    "    def __init__(self):\n",
    "        super().__init__()\n",
    "        data = pd.read_csv(\"../../datas/ChnSentiCorp_htl_all.csv\")\n",
    "        self.data = data.dropna()\n",
    "    \n",
    "    def __getitem__(self, index):\n",
    "        selected_data = self.data.iloc[index]\n",
    "        return selected_data[\"review\"], selected_data[\"label\"]\n",
    "    \n",
    "    def __len__(self):\n",
    "        return len(self.data)"
   ]
  },
  {
   "cell_type": "markdown",
   "id": "ec968613",
   "metadata": {},
   "source": [
    "##### step3 数据预处理"
   ]
  },
  {
   "cell_type": "code",
   "execution_count": 35,
   "id": "0e434ea1",
   "metadata": {},
   "outputs": [],
   "source": [
    "from torch.utils.data import random_split\n",
    "\n",
    "dataset = MyData()\n",
    "trainset, testset = random_split(dataset, lengths=[0.9, 0.1])"
   ]
  },
  {
   "cell_type": "code",
   "execution_count": 45,
   "id": "50a335bc",
   "metadata": {},
   "outputs": [],
   "source": [
    "import torch\n",
    "\n",
    "tokenizer = AutoTokenizer.from_pretrained(\"models/rbt3\")\n",
    "\n",
    "def collator_func(batch): # 使用dataloader进行处理时，数据会以batch形式传递\n",
    "    texts, labels = [], []\n",
    "    for item in batch:\n",
    "        texts.append(item[0])\n",
    "        labels.append(item[1])\n",
    "    tokenized_data = tokenizer(texts, max_length=128, padding=\"max_length\", truncation=True, return_tensors=\"pt\")\n",
    "    tokenized_data[\"labels\"] = torch.tensor(labels)\n",
    "    return tokenized_data"
   ]
  },
  {
   "cell_type": "code",
   "execution_count": 46,
   "id": "e1eeb68f",
   "metadata": {},
   "outputs": [],
   "source": [
    "from torch.utils.data import DataLoader\n",
    "\n",
    "trainloader = DataLoader(trainset, batch_size=32, shuffle=True, collate_fn=collator_func)\n",
    "\n",
    "testloader = DataLoader(testset, batch_size=32, shuffle=True, collate_fn=collator_func)"
   ]
  },
  {
   "cell_type": "markdown",
   "id": "a68fdcf1",
   "metadata": {},
   "source": [
    "##### step4 创建模型"
   ]
  },
  {
   "cell_type": "code",
   "execution_count": 47,
   "id": "195f4382",
   "metadata": {},
   "outputs": [
    {
     "name": "stderr",
     "output_type": "stream",
     "text": [
      "Some weights of BertForSequenceClassification were not initialized from the model checkpoint at models/rbt3 and are newly initialized: ['classifier.bias', 'classifier.weight']\n",
      "You should probably TRAIN this model on a down-stream task to be able to use it for predictions and inference.\n"
     ]
    }
   ],
   "source": [
    "model = AutoModelForSequenceClassification.from_pretrained(\"models/rbt3\")\n",
    "if torch.cuda.is_available():\n",
    "    model = model.cuda()\n",
    "\n",
    "from torch.optim import Adam\n",
    "\n",
    "optimizer = Adam(model.parameters(), lr=2e-5)"
   ]
  },
  {
   "cell_type": "markdown",
   "id": "b3283b3f",
   "metadata": {},
   "source": [
    "##### step5 配置训练参数"
   ]
  },
  {
   "cell_type": "code",
   "execution_count": 52,
   "id": "5995e2f4",
   "metadata": {},
   "outputs": [
    {
     "data": {
      "text/plain": [
       "tensor(0.6572, device='cuda:0')"
      ]
     },
     "execution_count": 52,
     "metadata": {},
     "output_type": "execute_result"
    }
   ],
   "source": [
    "def train(epoch=3, log_step=20):\n",
    "    global_step = 0\n",
    "    for ep in range(epoch):\n",
    "        model.train()\n",
    "\n",
    "        for batch in trainloader:\n",
    "            if torch.cuda.is_available():\n",
    "                batch = {k: v.cuda() for k, v in batch.items()}\n",
    "            optimizer.zero_grad()\n",
    "            outputs = model(**batch)\n",
    "            outputs.loss.backward()\n",
    "            optimizer.step()\n",
    "\n",
    "            if global_step % log_step == 0:\n",
    "                print(f\"ep: {ep + 1}, global_step: {global_step}, loss: {outputs.loss.item()}\")\n",
    "            global_step += 1\n",
    "\n",
    "        acc = evaluate()\n",
    "        print(f\"ep: {ep + 1}, acc: {acc}\")\n",
    "\n",
    "def evaluate():\n",
    "    model.eval()\n",
    "    with torch.inference_mode():\n",
    "        right_num = 0\n",
    "        for batch in testloader:\n",
    "            if torch.cuda.is_available():\n",
    "                batch = {k: v.cuda() for k, v in batch.items()}\n",
    "            outputs = model(**batch)\n",
    "            pred = outputs.logits.argmax(dim=-1)\n",
    "            right_num += (pred.long() == batch[\"labels\"].long()).float().sum()\n",
    "    return right_num / len(testset)"
   ]
  },
  {
   "cell_type": "code",
   "execution_count": 53,
   "id": "a1834bc7",
   "metadata": {},
   "outputs": [
    {
     "name": "stdout",
     "output_type": "stream",
     "text": [
      "ep: 1, loss: 0.6023589372634888\n",
      "ep: 1, loss: 0.4994417428970337\n",
      "ep: 1, loss: 0.35254302620887756\n",
      "ep: 1, loss: 0.3994499444961548\n",
      "ep: 1, loss: 0.2758346199989319\n",
      "ep: 1, loss: 0.35559654235839844\n",
      "ep: 1, loss: 0.41432616114616394\n",
      "ep: 1, loss: 0.25966593623161316\n",
      "ep: 1, loss: 0.2134041041135788\n",
      "ep: 1, loss: 0.477927565574646\n",
      "ep: 1, loss: 0.33135950565338135\n",
      "ep: 1, acc: 0.8711339831352234\n",
      "ep: 2, loss: 0.2784104645252228\n",
      "ep: 2, loss: 0.31218916177749634\n",
      "ep: 2, loss: 0.3016769587993622\n",
      "ep: 2, loss: 0.3304864764213562\n",
      "ep: 2, loss: 0.19822059571743011\n",
      "ep: 2, loss: 0.16498878598213196\n",
      "ep: 2, loss: 0.12936681509017944\n",
      "ep: 2, loss: 0.22968313097953796\n",
      "ep: 2, loss: 0.2906884551048279\n",
      "ep: 2, loss: 0.17467628419399261\n",
      "ep: 2, loss: 0.14967025816440582\n",
      "ep: 2, acc: 0.875\n",
      "ep: 3, loss: 0.27342769503593445\n",
      "ep: 3, loss: 0.1483253687620163\n",
      "ep: 3, loss: 0.433015376329422\n",
      "ep: 3, loss: 0.20122946798801422\n",
      "ep: 3, loss: 0.047586701810359955\n",
      "ep: 3, loss: 0.159860759973526\n",
      "ep: 3, loss: 0.2711983323097229\n",
      "ep: 3, loss: 0.2591998875141144\n",
      "ep: 3, loss: 0.14119037985801697\n",
      "ep: 3, loss: 0.13510137796401978\n",
      "ep: 3, loss: 0.1983509361743927\n",
      "ep: 3, acc: 0.8685566782951355\n"
     ]
    }
   ],
   "source": [
    "train()"
   ]
  },
  {
   "cell_type": "code",
   "execution_count": 55,
   "id": "e04ba037",
   "metadata": {},
   "outputs": [],
   "source": [
    "sentence = \"我觉得这家酒店不错，饭很好吃！\""
   ]
  },
  {
   "cell_type": "code",
   "execution_count": 58,
   "id": "c521e10d",
   "metadata": {},
   "outputs": [
    {
     "name": "stdout",
     "output_type": "stream",
     "text": [
      "好评\n"
     ]
    }
   ],
   "source": [
    "id2label = {0: \"差评\", 1: \"好评\"}\n",
    "\n",
    "with torch.inference_mode():\n",
    "    inputs = tokenizer(sentence, return_tensors=\"pt\")\n",
    "    if torch.cuda.is_available():\n",
    "        inputs = {k: v.cuda() for k, v in inputs.items()}\n",
    "    outputs = model(**inputs).logits.argmax(dim=-1)\n",
    "    print(id2label.get(outputs.item()))"
   ]
  },
  {
   "cell_type": "code",
   "execution_count": null,
   "id": "262d45c3",
   "metadata": {},
   "outputs": [],
   "source": []
  }
 ],
 "metadata": {
  "kernelspec": {
   "display_name": "pytorch",
   "language": "python",
   "name": "python3"
  },
  "language_info": {
   "codemirror_mode": {
    "name": "ipython",
    "version": 3
   },
   "file_extension": ".py",
   "mimetype": "text/x-python",
   "name": "python",
   "nbconvert_exporter": "python",
   "pygments_lexer": "ipython3",
   "version": "3.12.7"
  }
 },
 "nbformat": 4,
 "nbformat_minor": 5
}
